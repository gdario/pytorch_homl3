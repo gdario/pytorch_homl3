{
 "cells": [
  {
   "cell_type": "markdown",
   "id": "9bfe6779",
   "metadata": {},
   "source": [
    "# Chapter 10\n",
    "\n",
    "## Building an Image Classifier Using the Sequential API"
   ]
  },
  {
   "cell_type": "code",
   "execution_count": 1,
   "id": "8601b225",
   "metadata": {},
   "outputs": [],
   "source": [
    "import numpy as np\n",
    "import matplotlib.pyplot as plt\n",
    "from sklearn.datasets import fetch_california_housing\n",
    "from sklearn.model_selection import train_test_split\n",
    "import torch\n",
    "import torch.nn as nn\n",
    "import torch.optim as optim\n",
    "from torch.utils.data import Dataset, DataLoader, TensorDataset, Subset\n",
    "from torchvision.datasets import FashionMNIST\n",
    "from torchvision.transforms import ToTensor"
   ]
  },
  {
   "cell_type": "code",
   "execution_count": 2,
   "id": "e76b9c26",
   "metadata": {},
   "outputs": [],
   "source": [
    "root_dir = '../data'\n",
    "full_train_dset = FashionMNIST(root=root_dir, train=True, transform=ToTensor())\n",
    "test_dset = FashionMNIST(root=root_dir, train=False, transform=ToTensor())"
   ]
  },
  {
   "cell_type": "code",
   "execution_count": 3,
   "id": "d30ae606",
   "metadata": {},
   "outputs": [],
   "source": [
    "device = 'cuda'\n",
    "torch.cuda.set_device(1)"
   ]
  },
  {
   "cell_type": "code",
   "execution_count": 4,
   "id": "5a4c46a8",
   "metadata": {},
   "outputs": [],
   "source": [
    "train_dset = Subset(full_train_dset, indices=range(55000))\n",
    "valid_dset = Subset(full_train_dset, indices=range(55000, 60000))"
   ]
  },
  {
   "cell_type": "code",
   "execution_count": 5,
   "id": "e39bf7be",
   "metadata": {},
   "outputs": [
    {
     "data": {
      "text/plain": [
       "(55000, 5000)"
      ]
     },
     "execution_count": 5,
     "metadata": {},
     "output_type": "execute_result"
    }
   ],
   "source": [
    "len(train_dset), len(valid_dset)"
   ]
  },
  {
   "cell_type": "code",
   "execution_count": 6,
   "id": "1f761d0d",
   "metadata": {},
   "outputs": [],
   "source": [
    "batch_size = 32 # Default batch size on keras"
   ]
  },
  {
   "cell_type": "code",
   "execution_count": 7,
   "id": "bef43a9d",
   "metadata": {},
   "outputs": [],
   "source": [
    "train_loader = DataLoader(train_dset, batch_size=batch_size, shuffle=True)\n",
    "valid_loader = DataLoader(valid_dset, batch_size=batch_size, shuffle=False)\n",
    "test_loader = DataLoader(test_dset, batch_size=batch_size, shuffle=False)"
   ]
  },
  {
   "cell_type": "markdown",
   "id": "78e5f4d3",
   "metadata": {},
   "source": [
    "## Normalization\n",
    "\n",
    "In Geron's book the data are normalized by dividing by 255. The `ToTensor()` transform added to the Dataset definition takes care of this automatically."
   ]
  },
  {
   "cell_type": "code",
   "execution_count": 8,
   "id": "97c94788",
   "metadata": {},
   "outputs": [],
   "source": [
    "img, tgt = next(iter(valid_loader))"
   ]
  },
  {
   "cell_type": "code",
   "execution_count": 9,
   "id": "788b4c9c",
   "metadata": {},
   "outputs": [
    {
     "data": {
      "text/plain": [
       "tensor(1.)"
      ]
     },
     "execution_count": 9,
     "metadata": {},
     "output_type": "execute_result"
    }
   ],
   "source": [
    "img.max()"
   ]
  },
  {
   "cell_type": "code",
   "execution_count": 10,
   "id": "cd6fe9c5",
   "metadata": {},
   "outputs": [],
   "source": [
    "class_names = [\"T-shirt/top\", \"Trouser\", \"Pullover\", \"Dress\", \"Coat\",\n",
    "               \"Sandal\", \"Shirt\", \"Sneaker\", \"Bag\", \"Ankle boot\"]"
   ]
  },
  {
   "cell_type": "code",
   "execution_count": 11,
   "id": "02309bb1",
   "metadata": {},
   "outputs": [],
   "source": [
    "class MyModel(nn.Module):\n",
    "    def __init__(self):\n",
    "        super().__init__()\n",
    "        self.sequential_model = nn.Sequential(\n",
    "            nn.Flatten(),\n",
    "            nn.Linear(in_features=784, out_features=300),\n",
    "            nn.ReLU(),\n",
    "            nn.Linear(in_features=300, out_features=100),\n",
    "            nn.ReLU(),\n",
    "            nn.Linear(in_features=100, out_features=10))\n",
    "    \n",
    "    def forward(self, x):\n",
    "        return self.sequential_model(x)"
   ]
  },
  {
   "cell_type": "code",
   "execution_count": 12,
   "id": "c057db0b",
   "metadata": {},
   "outputs": [
    {
     "data": {
      "text/plain": [
       "MyModel(\n",
       "  (sequential_model): Sequential(\n",
       "    (0): Flatten(start_dim=1, end_dim=-1)\n",
       "    (1): Linear(in_features=784, out_features=300, bias=True)\n",
       "    (2): ReLU()\n",
       "    (3): Linear(in_features=300, out_features=100, bias=True)\n",
       "    (4): ReLU()\n",
       "    (5): Linear(in_features=100, out_features=10, bias=True)\n",
       "  )\n",
       ")"
      ]
     },
     "execution_count": 12,
     "metadata": {},
     "output_type": "execute_result"
    }
   ],
   "source": [
    "classif_model = MyModel()\n",
    "classif_model"
   ]
  },
  {
   "cell_type": "code",
   "execution_count": 13,
   "id": "e5596b34",
   "metadata": {},
   "outputs": [
    {
     "data": {
      "text/plain": [
       "tensor(0.0266, grad_fn=<SelectBackward0>)"
      ]
     },
     "execution_count": 13,
     "metadata": {},
     "output_type": "execute_result"
    }
   ],
   "source": [
    "classif_model.sequential_model[1].bias[0]"
   ]
  },
  {
   "cell_type": "code",
   "execution_count": 14,
   "id": "22176dd6",
   "metadata": {},
   "outputs": [
    {
     "data": {
      "text/plain": [
       "tensor([ 0.0204,  0.0288, -0.0225,  0.0327, -0.0294, -0.0334, -0.0026, -0.0229,\n",
       "         0.0068, -0.0127], grad_fn=<SliceBackward0>)"
      ]
     },
     "execution_count": 14,
     "metadata": {},
     "output_type": "execute_result"
    }
   ],
   "source": [
    "classif_model.sequential_model[1].weight[0, :10]"
   ]
  },
  {
   "cell_type": "markdown",
   "id": "a3ce2bc7",
   "metadata": {},
   "source": [
    "## Weight initialization\n",
    "\n",
    "In Keras weights in a dense layer are, [by default](https://www.tensorflow.org/api_docs/python/tf/keras/layers/Dense), initialized with a Glorot Uniform initialization.\n",
    "\n",
    "In Pytorch weights in a linear layer are, [by default](https://pytorch.org/docs/stable/generated/torch.nn.Linear.html#torch.nn.Linear) initialized with a uniform distribution with  U(−k,k) where k=1/in_features. This is essentially a LeCun uniform initialization. Note that in PyTorch, Glorot initialization is called Xavier initialization."
   ]
  },
  {
   "cell_type": "code",
   "execution_count": 15,
   "id": "e9437ebd",
   "metadata": {},
   "outputs": [],
   "source": [
    "@torch.no_grad()\n",
    "def init_weights(m):\n",
    "    if isinstance(m, nn.Linear):\n",
    "        torch.nn.init.xavier_uniform_(m.weight)\n",
    "        m.bias.data.fill_(0.)"
   ]
  },
  {
   "cell_type": "code",
   "execution_count": 16,
   "id": "cf40d666",
   "metadata": {},
   "outputs": [
    {
     "data": {
      "text/plain": [
       "MyModel(\n",
       "  (sequential_model): Sequential(\n",
       "    (0): Flatten(start_dim=1, end_dim=-1)\n",
       "    (1): Linear(in_features=784, out_features=300, bias=True)\n",
       "    (2): ReLU()\n",
       "    (3): Linear(in_features=300, out_features=100, bias=True)\n",
       "    (4): ReLU()\n",
       "    (5): Linear(in_features=100, out_features=10, bias=True)\n",
       "  )\n",
       ")"
      ]
     },
     "execution_count": 16,
     "metadata": {},
     "output_type": "execute_result"
    }
   ],
   "source": [
    "classif_model.apply(init_weights)"
   ]
  },
  {
   "cell_type": "code",
   "execution_count": 17,
   "id": "b19df074",
   "metadata": {},
   "outputs": [
    {
     "data": {
      "text/plain": [
       "tensor(0., grad_fn=<SelectBackward0>)"
      ]
     },
     "execution_count": 17,
     "metadata": {},
     "output_type": "execute_result"
    }
   ],
   "source": [
    "classif_model.sequential_model[1].bias[0]"
   ]
  },
  {
   "cell_type": "code",
   "execution_count": 18,
   "id": "cecb27f1",
   "metadata": {},
   "outputs": [
    {
     "data": {
      "text/plain": [
       "tensor([-0.0656, -0.0106,  0.0261,  0.0037, -0.0222,  0.0252, -0.0580, -0.0723,\n",
       "         0.0665, -0.0372], grad_fn=<SliceBackward0>)"
      ]
     },
     "execution_count": 18,
     "metadata": {},
     "output_type": "execute_result"
    }
   ],
   "source": [
    "classif_model.sequential_model[1].weight[0, :10]"
   ]
  },
  {
   "cell_type": "markdown",
   "id": "7f506245",
   "metadata": {},
   "source": [
    "Both the bias and the weight look different. We assume that we are using the same initialization approach as Keras.\n",
    "\n",
    "The Keras model has a final softmax activation. If we use PyTorch cross-entropy loss, the softmax is fused in the loss, so we don't need to include it."
   ]
  },
  {
   "cell_type": "code",
   "execution_count": 19,
   "id": "74120b9a",
   "metadata": {},
   "outputs": [
    {
     "data": {
      "text/plain": [
       "MyModel(\n",
       "  (sequential_model): Sequential(\n",
       "    (0): Flatten(start_dim=1, end_dim=-1)\n",
       "    (1): Linear(in_features=784, out_features=300, bias=True)\n",
       "    (2): ReLU()\n",
       "    (3): Linear(in_features=300, out_features=100, bias=True)\n",
       "    (4): ReLU()\n",
       "    (5): Linear(in_features=100, out_features=10, bias=True)\n",
       "  )\n",
       ")"
      ]
     },
     "execution_count": 19,
     "metadata": {},
     "output_type": "execute_result"
    }
   ],
   "source": [
    "classif_model.to(device)"
   ]
  },
  {
   "cell_type": "code",
   "execution_count": 20,
   "id": "9d87bcba",
   "metadata": {},
   "outputs": [],
   "source": [
    "loss_fn = torch.nn.CrossEntropyLoss()"
   ]
  },
  {
   "cell_type": "markdown",
   "id": "4b844b7f",
   "metadata": {},
   "source": [
    "## Optimizers\n",
    "\n",
    "The example in Geron's book uses the \"sgd\" optimizer, which I suspect corresponds to the [default settings](https://www.tensorflow.org/api_docs/python/tf/keras/optimizers/experimental/SGD), i.e., lr = 0.01 and momentum = 0.0."
   ]
  },
  {
   "cell_type": "code",
   "execution_count": 21,
   "id": "7487429d",
   "metadata": {},
   "outputs": [],
   "source": [
    "classif_optim = optim.SGD(classif_model.parameters(), lr=0.01, momentum=0.0)"
   ]
  },
  {
   "cell_type": "code",
   "execution_count": 22,
   "id": "e26dc5f2",
   "metadata": {},
   "outputs": [],
   "source": [
    "def train(dataloader, model, loss_fn, optimizer):\n",
    "    num_obs = len(dataloader.dataset)\n",
    "    model.train()\n",
    "    for batch, (x, y) in enumerate(dataloader):\n",
    "        x, y = x.to(device), y.to(device)\n",
    "        preds = model(x)\n",
    "        batch_loss = loss_fn(preds, y)\n",
    "        batch_loss.backward()\n",
    "        optimizer.step()\n",
    "        optimizer.zero_grad()\n",
    "        if batch % 250 == 0:\n",
    "            print(f'Train loss: {batch_loss.item():>.5}')"
   ]
  },
  {
   "cell_type": "code",
   "execution_count": 23,
   "id": "67df4fd5",
   "metadata": {},
   "outputs": [],
   "source": [
    "def validate(dataloader, model, loss_fn):\n",
    "    num_batches = len(dataloader)\n",
    "    num_obs = len(dataloader.dataset)\n",
    "    total_loss = 0\n",
    "    correct = 0\n",
    "    model.eval()\n",
    "    with torch.no_grad():\n",
    "        for x, y in dataloader:\n",
    "            x, y = x.to(device), y.to(device)\n",
    "            preds = model(x)\n",
    "            total_loss += loss_fn(preds, y).item()\n",
    "            correct += (preds.argmax(1) == y).type(torch.float).sum().item()\n",
    "    avg_batch_loss = total_loss / num_batches\n",
    "    accuracy = correct / num_obs\n",
    "    print('Validation:')\n",
    "    print(f'\\nAverage loss: {avg_batch_loss:>.5} - Accuracy: {accuracy:>.3}')\n",
    "    return avg_batch_loss, accuracy"
   ]
  },
  {
   "cell_type": "code",
   "execution_count": 24,
   "id": "ffd85440",
   "metadata": {},
   "outputs": [],
   "source": [
    "epochs = 30"
   ]
  },
  {
   "cell_type": "code",
   "execution_count": 25,
   "id": "9aef7cd1",
   "metadata": {},
   "outputs": [
    {
     "name": "stdout",
     "output_type": "stream",
     "text": [
      "\n",
      "----- Epoch: 1 -----\n",
      "\n",
      "Train loss: 2.3058\n",
      "Train loss: 1.0391\n",
      "Train loss: 0.85956\n",
      "Train loss: 0.3464\n",
      "Train loss: 0.53134\n",
      "Train loss: 0.72127\n",
      "Train loss: 0.48757\n",
      "Validation:\n",
      "\n",
      "Average loss: 0.50148 - Accuracy: 0.822\n",
      "\n",
      "----- Epoch: 2 -----\n",
      "\n",
      "Train loss: 0.44929\n",
      "Train loss: 0.38813\n",
      "Train loss: 0.49855\n",
      "Train loss: 0.49606\n",
      "Train loss: 0.27502\n",
      "Train loss: 0.52811\n",
      "Train loss: 0.36798\n",
      "Validation:\n",
      "\n",
      "Average loss: 0.43963 - Accuracy: 0.842\n",
      "\n",
      "----- Epoch: 3 -----\n",
      "\n",
      "Train loss: 0.35291\n",
      "Train loss: 0.31095\n",
      "Train loss: 0.48646\n",
      "Train loss: 0.35662\n",
      "Train loss: 0.70252\n",
      "Train loss: 0.44499\n",
      "Train loss: 0.6641\n",
      "Validation:\n",
      "\n",
      "Average loss: 0.43742 - Accuracy: 0.841\n",
      "\n",
      "----- Epoch: 4 -----\n",
      "\n",
      "Train loss: 0.328\n",
      "Train loss: 0.41367\n",
      "Train loss: 0.49587\n",
      "Train loss: 0.50233\n",
      "Train loss: 0.42328\n",
      "Train loss: 0.35917\n",
      "Train loss: 0.57238\n",
      "Validation:\n",
      "\n",
      "Average loss: 0.40377 - Accuracy: 0.855\n",
      "\n",
      "----- Epoch: 5 -----\n",
      "\n",
      "Train loss: 0.27483\n",
      "Train loss: 0.22167\n",
      "Train loss: 0.56337\n",
      "Train loss: 0.26774\n",
      "Train loss: 0.50743\n",
      "Train loss: 0.59859\n",
      "Train loss: 0.47356\n",
      "Validation:\n",
      "\n",
      "Average loss: 0.39001 - Accuracy: 0.859\n",
      "\n",
      "----- Epoch: 6 -----\n",
      "\n",
      "Train loss: 0.5398\n",
      "Train loss: 0.71106\n",
      "Train loss: 0.54808\n",
      "Train loss: 0.34513\n",
      "Train loss: 0.30685\n",
      "Train loss: 0.46433\n",
      "Train loss: 0.3679\n",
      "Validation:\n",
      "\n",
      "Average loss: 0.37036 - Accuracy: 0.865\n",
      "\n",
      "----- Epoch: 7 -----\n",
      "\n",
      "Train loss: 0.35813\n",
      "Train loss: 0.39807\n",
      "Train loss: 0.39706\n",
      "Train loss: 0.29385\n",
      "Train loss: 0.35654\n",
      "Train loss: 0.41844\n",
      "Train loss: 0.60831\n",
      "Validation:\n",
      "\n",
      "Average loss: 0.39796 - Accuracy: 0.857\n",
      "\n",
      "----- Epoch: 8 -----\n",
      "\n",
      "Train loss: 0.31285\n",
      "Train loss: 0.16134\n",
      "Train loss: 0.23302\n",
      "Train loss: 0.31981\n",
      "Train loss: 0.13861\n",
      "Train loss: 0.12089\n",
      "Train loss: 0.2914\n",
      "Validation:\n",
      "\n",
      "Average loss: 0.36114 - Accuracy: 0.871\n",
      "\n",
      "----- Epoch: 9 -----\n",
      "\n",
      "Train loss: 0.12473\n",
      "Train loss: 0.22484\n",
      "Train loss: 0.27293\n",
      "Train loss: 0.48002\n",
      "Train loss: 0.23134\n",
      "Train loss: 0.23904\n",
      "Train loss: 0.27645\n",
      "Validation:\n",
      "\n",
      "Average loss: 0.34276 - Accuracy: 0.875\n",
      "\n",
      "----- Epoch: 10 -----\n",
      "\n",
      "Train loss: 0.22701\n",
      "Train loss: 0.15186\n",
      "Train loss: 0.35884\n",
      "Train loss: 0.29245\n",
      "Train loss: 0.19565\n",
      "Train loss: 0.14795\n",
      "Train loss: 0.18442\n",
      "Validation:\n",
      "\n",
      "Average loss: 0.38403 - Accuracy: 0.859\n",
      "\n",
      "----- Epoch: 11 -----\n",
      "\n",
      "Train loss: 0.40309\n",
      "Train loss: 0.30328\n",
      "Train loss: 0.60162\n",
      "Train loss: 0.45291\n",
      "Train loss: 0.36893\n",
      "Train loss: 0.20002\n",
      "Train loss: 0.22898\n",
      "Validation:\n",
      "\n",
      "Average loss: 0.33624 - Accuracy: 0.88\n",
      "\n",
      "----- Epoch: 12 -----\n",
      "\n",
      "Train loss: 0.29008\n",
      "Train loss: 0.43315\n",
      "Train loss: 0.44833\n",
      "Train loss: 0.35468\n",
      "Train loss: 0.39402\n",
      "Train loss: 0.23176\n",
      "Train loss: 0.57551\n",
      "Validation:\n",
      "\n",
      "Average loss: 0.35864 - Accuracy: 0.866\n",
      "\n",
      "----- Epoch: 13 -----\n",
      "\n",
      "Train loss: 0.21056\n",
      "Train loss: 0.33088\n",
      "Train loss: 0.16559\n",
      "Train loss: 0.28488\n",
      "Train loss: 0.12731\n",
      "Train loss: 0.39148\n",
      "Train loss: 0.63401\n",
      "Validation:\n",
      "\n",
      "Average loss: 0.34118 - Accuracy: 0.875\n",
      "\n",
      "----- Epoch: 14 -----\n",
      "\n",
      "Train loss: 0.32395\n",
      "Train loss: 0.5598\n",
      "Train loss: 0.366\n",
      "Train loss: 0.21541\n",
      "Train loss: 0.23883\n",
      "Train loss: 0.29944\n",
      "Train loss: 0.29051\n",
      "Validation:\n",
      "\n",
      "Average loss: 0.33527 - Accuracy: 0.877\n",
      "\n",
      "----- Epoch: 15 -----\n",
      "\n",
      "Train loss: 0.19235\n",
      "Train loss: 0.42205\n",
      "Train loss: 0.25571\n",
      "Train loss: 0.33918\n",
      "Train loss: 0.44209\n",
      "Train loss: 0.14883\n",
      "Train loss: 0.45539\n",
      "Validation:\n",
      "\n",
      "Average loss: 0.3361 - Accuracy: 0.878\n",
      "\n",
      "----- Epoch: 16 -----\n",
      "\n",
      "Train loss: 0.34899\n",
      "Train loss: 0.61666\n",
      "Train loss: 0.37696\n",
      "Train loss: 0.41118\n",
      "Train loss: 0.36862\n",
      "Train loss: 0.41566\n",
      "Train loss: 0.10516\n",
      "Validation:\n",
      "\n",
      "Average loss: 0.32388 - Accuracy: 0.882\n",
      "\n",
      "----- Epoch: 17 -----\n",
      "\n",
      "Train loss: 0.22373\n",
      "Train loss: 0.30763\n",
      "Train loss: 0.2385\n",
      "Train loss: 0.37079\n",
      "Train loss: 0.23885\n",
      "Train loss: 0.23665\n",
      "Train loss: 0.30443\n",
      "Validation:\n",
      "\n",
      "Average loss: 0.32491 - Accuracy: 0.881\n",
      "\n",
      "----- Epoch: 18 -----\n",
      "\n",
      "Train loss: 0.30366\n",
      "Train loss: 0.54017\n",
      "Train loss: 0.22828\n",
      "Train loss: 0.15303\n",
      "Train loss: 0.25546\n",
      "Train loss: 0.42537\n",
      "Train loss: 0.38613\n",
      "Validation:\n",
      "\n",
      "Average loss: 0.32597 - Accuracy: 0.881\n",
      "\n",
      "----- Epoch: 19 -----\n",
      "\n",
      "Train loss: 0.56482\n",
      "Train loss: 0.25304\n",
      "Train loss: 0.26883\n",
      "Train loss: 0.25661\n",
      "Train loss: 0.2407\n",
      "Train loss: 0.47703\n",
      "Train loss: 0.19436\n",
      "Validation:\n",
      "\n",
      "Average loss: 0.3382 - Accuracy: 0.874\n",
      "\n",
      "----- Epoch: 20 -----\n",
      "\n",
      "Train loss: 0.37629\n",
      "Train loss: 0.18393\n",
      "Train loss: 0.31249\n",
      "Train loss: 0.25285\n",
      "Train loss: 0.25087\n",
      "Train loss: 0.18516\n",
      "Train loss: 0.36281\n",
      "Validation:\n",
      "\n",
      "Average loss: 0.31842 - Accuracy: 0.887\n",
      "\n",
      "----- Epoch: 21 -----\n",
      "\n",
      "Train loss: 0.24373\n",
      "Train loss: 0.19306\n",
      "Train loss: 0.20713\n",
      "Train loss: 0.15774\n",
      "Train loss: 0.2697\n",
      "Train loss: 0.060193\n",
      "Train loss: 0.23145\n",
      "Validation:\n",
      "\n",
      "Average loss: 0.31354 - Accuracy: 0.884\n",
      "\n",
      "----- Epoch: 22 -----\n",
      "\n",
      "Train loss: 0.053502\n",
      "Train loss: 0.41894\n",
      "Train loss: 0.25158\n",
      "Train loss: 0.1512\n",
      "Train loss: 0.51815\n",
      "Train loss: 0.40727\n",
      "Train loss: 0.12211\n",
      "Validation:\n",
      "\n",
      "Average loss: 0.33219 - Accuracy: 0.881\n",
      "\n",
      "----- Epoch: 23 -----\n",
      "\n",
      "Train loss: 0.21155\n",
      "Train loss: 0.32082\n",
      "Train loss: 0.3407\n",
      "Train loss: 0.13657\n",
      "Train loss: 0.38612\n",
      "Train loss: 0.49097\n",
      "Train loss: 0.29433\n",
      "Validation:\n",
      "\n",
      "Average loss: 0.31062 - Accuracy: 0.887\n",
      "\n",
      "----- Epoch: 24 -----\n",
      "\n",
      "Train loss: 0.17949\n",
      "Train loss: 0.071545\n",
      "Train loss: 0.30629\n",
      "Train loss: 0.20386\n",
      "Train loss: 0.29443\n",
      "Train loss: 0.27261\n",
      "Train loss: 0.21973\n",
      "Validation:\n",
      "\n",
      "Average loss: 0.31575 - Accuracy: 0.883\n",
      "\n",
      "----- Epoch: 25 -----\n",
      "\n",
      "Train loss: 0.22982\n",
      "Train loss: 0.10293\n",
      "Train loss: 0.24281\n",
      "Train loss: 0.21107\n",
      "Train loss: 0.13323\n",
      "Train loss: 0.17284\n",
      "Train loss: 0.3606\n",
      "Validation:\n",
      "\n",
      "Average loss: 0.31846 - Accuracy: 0.884\n",
      "\n",
      "----- Epoch: 26 -----\n",
      "\n",
      "Train loss: 0.066947\n",
      "Train loss: 0.15071\n",
      "Train loss: 0.1693\n",
      "Train loss: 0.2145\n",
      "Train loss: 0.4221\n",
      "Train loss: 0.27798\n",
      "Train loss: 0.089475\n",
      "Validation:\n",
      "\n",
      "Average loss: 0.31881 - Accuracy: 0.884\n",
      "\n",
      "----- Epoch: 27 -----\n",
      "\n",
      "Train loss: 0.38\n",
      "Train loss: 0.24796\n",
      "Train loss: 0.23789\n",
      "Train loss: 0.44444\n",
      "Train loss: 0.18596\n",
      "Train loss: 0.14301\n",
      "Train loss: 0.25716\n",
      "Validation:\n",
      "\n",
      "Average loss: 0.32544 - Accuracy: 0.885\n",
      "\n",
      "----- Epoch: 28 -----\n",
      "\n",
      "Train loss: 0.2497\n",
      "Train loss: 0.11464\n",
      "Train loss: 0.21293\n",
      "Train loss: 0.12985\n",
      "Train loss: 0.10822\n",
      "Train loss: 0.1532\n",
      "Train loss: 0.049752\n",
      "Validation:\n",
      "\n",
      "Average loss: 0.33251 - Accuracy: 0.88\n",
      "\n",
      "----- Epoch: 29 -----\n",
      "\n",
      "Train loss: 0.23303\n",
      "Train loss: 0.2132\n",
      "Train loss: 0.24342\n",
      "Train loss: 0.18943\n",
      "Train loss: 0.31086\n",
      "Train loss: 0.23739\n",
      "Train loss: 0.14886\n",
      "Validation:\n",
      "\n",
      "Average loss: 0.30933 - Accuracy: 0.884\n",
      "\n",
      "----- Epoch: 30 -----\n",
      "\n",
      "Train loss: 0.13115\n",
      "Train loss: 0.24848\n",
      "Train loss: 0.24293\n",
      "Train loss: 0.33322\n",
      "Train loss: 0.33447\n",
      "Train loss: 0.24265\n",
      "Train loss: 0.11541\n",
      "Validation:\n",
      "\n",
      "Average loss: 0.31 - Accuracy: 0.886\n"
     ]
    }
   ],
   "source": [
    "test_loss, test_accuracy = [], []\n",
    "\n",
    "for epoch in range(epochs):\n",
    "    print(f'\\n----- Epoch: {epoch+1} -----\\n')\n",
    "    train(train_loader, classif_model, loss_fn, classif_optim)\n",
    "    loss, acc = validate(valid_loader, classif_model, loss_fn)\n",
    "    test_loss.append(loss)\n",
    "    test_accuracy.append(acc)"
   ]
  },
  {
   "cell_type": "markdown",
   "id": "2fbe0520",
   "metadata": {},
   "source": [
    "This is very similar to the performance shown in Geron's book."
   ]
  },
  {
   "cell_type": "code",
   "execution_count": 26,
   "id": "c8bcfcd7",
   "metadata": {},
   "outputs": [
    {
     "data": {
      "image/png": "[encoded data removed]",
      "text/plain": [
       "<Figure size 640x480 with 1 Axes>"
      ]
     },
     "metadata": {},
     "output_type": "display_data"
    }
   ],
   "source": [
    "plt.plot(np.arange(30), test_accuracy, 'r-', label='Validation accuracy')\n",
    "plt.plot(np.arange(30), test_loss, 'b-', label='Validation loss')\n",
    "plt.grid()\n",
    "plt.xlabel('Epoch')\n",
    "plt.legend()\n",
    "plt.show()"
   ]
  },
  {
   "cell_type": "markdown",
   "id": "5aa42855",
   "metadata": {},
   "source": [
    "### Performance on the test set"
   ]
  },
  {
   "cell_type": "code",
   "execution_count": 27,
   "id": "246cc0ca",
   "metadata": {},
   "outputs": [],
   "source": [
    "def get_test_performance(dataloader, model):\n",
    "    test_accuracy = 0\n",
    "    correct = 0\n",
    "    model.eval()\n",
    "    with torch.no_grad():\n",
    "        for x, y in dataloader:\n",
    "            x, y = x.to(device), y.to(device)\n",
    "            preds = model(x)\n",
    "            correct += (preds.argmax(1) == y).type(torch.float32).sum().item()\n",
    "    return correct / len(dataloader.dataset)"
   ]
  },
  {
   "cell_type": "code",
   "execution_count": 28,
   "id": "c13e9632",
   "metadata": {},
   "outputs": [
    {
     "data": {
      "text/plain": [
       "0.8822"
      ]
     },
     "execution_count": 28,
     "metadata": {},
     "output_type": "execute_result"
    }
   ],
   "source": [
    "get_test_performance(test_loader, classif_model)"
   ]
  },
  {
   "cell_type": "markdown",
   "id": "49df76ea",
   "metadata": {},
   "source": [
    "## Building a Regression MLP Using the Sequential API\n",
    "\n",
    "For this example we use the California Housing dataset. After creating a training, validation, and test set, we must normalize the data and organize them into dataloaders."
   ]
  },
  {
   "cell_type": "code",
   "execution_count": 29,
   "id": "3999407f",
   "metadata": {},
   "outputs": [],
   "source": [
    "housing = fetch_california_housing()\n",
    "x_train_full, x_test, y_train_full, y_test = train_test_split(\n",
    "    housing.data, housing.target, random_state=42)\n",
    "x_train, x_valid, y_train, y_valid = train_test_split(\n",
    "    x_train_full, y_train_full, random_state=42)"
   ]
  },
  {
   "cell_type": "code",
   "execution_count": 30,
   "id": "25dd2e80",
   "metadata": {},
   "outputs": [
    {
     "data": {
      "text/plain": [
       "((11610, 8), (3870, 8), (5160, 8))"
      ]
     },
     "execution_count": 30,
     "metadata": {},
     "output_type": "execute_result"
    }
   ],
   "source": [
    "x_train.shape, x_valid.shape, x_test.shape"
   ]
  },
  {
   "cell_type": "code",
   "execution_count": 31,
   "id": "cdde54a7",
   "metadata": {},
   "outputs": [
    {
     "data": {
      "text/plain": [
       "array([ 1.68120000e+00,  2.50000000e+01,  4.19220056e+00,  1.02228412e+00,\n",
       "        1.39200000e+03,  3.87743733e+00,  3.60600000e+01, -1.19010000e+02])"
      ]
     },
     "execution_count": 31,
     "metadata": {},
     "output_type": "execute_result"
    }
   ],
   "source": [
    "x_test[0]"
   ]
  },
  {
   "cell_type": "code",
   "execution_count": 32,
   "id": "04183e8d",
   "metadata": {},
   "outputs": [
    {
     "data": {
      "text/plain": [
       "((8,), (8,))"
      ]
     },
     "execution_count": 32,
     "metadata": {},
     "output_type": "execute_result"
    }
   ],
   "source": [
    "means, std_devs = x_train.mean(axis=0), x_train.std(axis=0)\n",
    "means.shape, std_devs.shape"
   ]
  },
  {
   "cell_type": "code",
   "execution_count": 33,
   "id": "b396fdad",
   "metadata": {},
   "outputs": [],
   "source": [
    "x_train = ((x_train - means) / std_devs).astype(np.float32)\n",
    "x_valid = ((x_valid - means) / std_devs).astype(np.float32)\n",
    "x_test = ((x_test - means) / std_devs).astype(np.float32)"
   ]
  },
  {
   "cell_type": "code",
   "execution_count": 34,
   "id": "411e407f",
   "metadata": {},
   "outputs": [
    {
     "data": {
      "text/plain": [
       "dtype('float32')"
      ]
     },
     "execution_count": 34,
     "metadata": {},
     "output_type": "execute_result"
    }
   ],
   "source": [
    "x_test.dtype"
   ]
  },
  {
   "cell_type": "code",
   "execution_count": 35,
   "id": "2a75419e",
   "metadata": {},
   "outputs": [],
   "source": [
    "train_dset = TensorDataset(torch.FloatTensor(x_train),\n",
    "                           torch.FloatTensor(y_train).unsqueeze(-1))\n",
    "valid_dset = TensorDataset(torch.FloatTensor(x_valid),\n",
    "                           torch.FloatTensor(y_valid).unsqueeze(-1))\n",
    "test_dset = TensorDataset(torch.FloatTensor(x_test),\n",
    "                          torch.FloatTensor(y_test).unsqueeze(-1))"
   ]
  },
  {
   "cell_type": "code",
   "execution_count": 36,
   "id": "e522ffc0",
   "metadata": {},
   "outputs": [],
   "source": [
    "train_loader = DataLoader(train_dset, batch_size=batch_size, shuffle=True)\n",
    "valid_loader = DataLoader(valid_dset, batch_size=batch_size, shuffle=False)\n",
    "test_loader = DataLoader(test_dset, batch_size=batch_size, shuffle=False)"
   ]
  },
  {
   "cell_type": "code",
   "execution_count": 37,
   "id": "3852c8cd",
   "metadata": {},
   "outputs": [],
   "source": [
    "class RegressionModel(nn.Module):\n",
    "    def __init__(self):\n",
    "        super().__init__()\n",
    "        self.sequential_model = nn.Sequential(\n",
    "            nn.Linear(in_features=8, out_features=50),\n",
    "            nn.ReLU(),\n",
    "            nn.Linear(in_features=50, out_features=50),\n",
    "            nn.ReLU(),\n",
    "            nn.Linear(in_features=50, out_features=50),\n",
    "            nn.ReLU(),\n",
    "            nn.Linear(in_features=50, out_features=1))\n",
    "    \n",
    "    def forward(self, x):\n",
    "        return self.sequential_model(x)"
   ]
  },
  {
   "cell_type": "markdown",
   "id": "78749533",
   "metadata": {},
   "source": [
    "### Weight initialization"
   ]
  },
  {
   "cell_type": "code",
   "execution_count": 38,
   "id": "52aa1245",
   "metadata": {},
   "outputs": [
    {
     "data": {
      "text/plain": [
       "RegressionModel(\n",
       "  (sequential_model): Sequential(\n",
       "    (0): Linear(in_features=8, out_features=50, bias=True)\n",
       "    (1): ReLU()\n",
       "    (2): Linear(in_features=50, out_features=50, bias=True)\n",
       "    (3): ReLU()\n",
       "    (4): Linear(in_features=50, out_features=50, bias=True)\n",
       "    (5): ReLU()\n",
       "    (6): Linear(in_features=50, out_features=1, bias=True)\n",
       "  )\n",
       ")"
      ]
     },
     "execution_count": 38,
     "metadata": {},
     "output_type": "execute_result"
    }
   ],
   "source": [
    "regression_model = RegressionModel()\n",
    "regression_model.apply(init_weights)"
   ]
  },
  {
   "cell_type": "code",
   "execution_count": 39,
   "id": "7727e4d1",
   "metadata": {},
   "outputs": [],
   "source": [
    "regression_model = regression_model.to(device)"
   ]
  },
  {
   "cell_type": "code",
   "execution_count": 40,
   "id": "6d8c444c",
   "metadata": {},
   "outputs": [],
   "source": [
    "def train_regression(dataloader, model, loss_fn, optimizer):\n",
    "    num_obs = len(dataloader.dataset)\n",
    "    num_batches = len(dataloader)\n",
    "    model.train()\n",
    "    for batch, (x, y) in enumerate(dataloader):\n",
    "        x, y = x.to(device), y.to(device)\n",
    "        preds = model(x)\n",
    "        batch_loss = loss_fn(preds, y)\n",
    "        batch_loss.backward()\n",
    "        optimizer.step()\n",
    "        optimizer.zero_grad()\n",
    "        if batch % 100 == 0:\n",
    "            print(f'Train Loss: {batch_loss.item():>.5}. Batch: [{batch}/{num_batches}]')"
   ]
  },
  {
   "cell_type": "code",
   "execution_count": 41,
   "id": "96cbfc16",
   "metadata": {},
   "outputs": [],
   "source": [
    "def eval_regression(dataloader, model, loss_fn):\n",
    "    total_loss = 0\n",
    "    num_obs = len(dataloader.dataset)\n",
    "    num_batches = len(dataloader)\n",
    "    model.eval()\n",
    "    with torch.no_grad():\n",
    "        for x, y in dataloader:\n",
    "            x, y = x.to(device), y.to(device)\n",
    "            preds = model(x)\n",
    "            total_loss += loss_fn(preds, y).item()\n",
    "        print(f'Validation Loss: {total_loss/num_batches:>.5}')"
   ]
  },
  {
   "cell_type": "code",
   "execution_count": 42,
   "id": "bd0006c8",
   "metadata": {},
   "outputs": [],
   "source": [
    "loss_fn = nn.MSELoss()\n",
    "regression_optim = optim.Adam(regression_model.parameters(), lr=1e-3, eps=1e-7)"
   ]
  },
  {
   "cell_type": "code",
   "execution_count": 43,
   "id": "d3a1855e",
   "metadata": {},
   "outputs": [
    {
     "name": "stdout",
     "output_type": "stream",
     "text": [
      "\n",
      " ----- Epoch 1 -----\n",
      "\n",
      "Train Loss: 4.6812. Batch: [0/363]\n",
      "Train Loss: 0.61528. Batch: [100/363]\n",
      "Train Loss: 0.3824. Batch: [200/363]\n",
      "Train Loss: 0.35226. Batch: [300/363]\n",
      "Validation Loss: 0.493\n",
      "\n",
      " ----- Epoch 2 -----\n",
      "\n",
      "Train Loss: 0.28571. Batch: [0/363]\n",
      "Train Loss: 0.39985. Batch: [100/363]\n",
      "Train Loss: 0.356. Batch: [200/363]\n",
      "Train Loss: 0.60781. Batch: [300/363]\n",
      "Validation Loss: 2.5737\n",
      "\n",
      " ----- Epoch 3 -----\n",
      "\n",
      "Train Loss: 0.50656. Batch: [0/363]\n",
      "Train Loss: 0.36145. Batch: [100/363]\n",
      "Train Loss: 0.27962. Batch: [200/363]\n",
      "Train Loss: 0.23393. Batch: [300/363]\n",
      "Validation Loss: 2.3216\n",
      "\n",
      " ----- Epoch 4 -----\n",
      "\n",
      "Train Loss: 0.52253. Batch: [0/363]\n",
      "Train Loss: 0.18368. Batch: [100/363]\n",
      "Train Loss: 0.33468. Batch: [200/363]\n",
      "Train Loss: 0.27719. Batch: [300/363]\n",
      "Validation Loss: 1.373\n",
      "\n",
      " ----- Epoch 5 -----\n",
      "\n",
      "Train Loss: 0.52883. Batch: [0/363]\n",
      "Train Loss: 0.83932. Batch: [100/363]\n",
      "Train Loss: 0.29432. Batch: [200/363]\n",
      "Train Loss: 0.37331. Batch: [300/363]\n",
      "Validation Loss: 1.9102\n",
      "\n",
      " ----- Epoch 6 -----\n",
      "\n",
      "Train Loss: 0.13499. Batch: [0/363]\n",
      "Train Loss: 0.081687. Batch: [100/363]\n",
      "Train Loss: 0.23685. Batch: [200/363]\n",
      "Train Loss: 0.16314. Batch: [300/363]\n",
      "Validation Loss: 0.72452\n",
      "\n",
      " ----- Epoch 7 -----\n",
      "\n",
      "Train Loss: 0.30925. Batch: [0/363]\n",
      "Train Loss: 0.55779. Batch: [100/363]\n",
      "Train Loss: 0.19397. Batch: [200/363]\n",
      "Train Loss: 0.34311. Batch: [300/363]\n",
      "Validation Loss: 0.46304\n",
      "\n",
      " ----- Epoch 8 -----\n",
      "\n",
      "Train Loss: 0.30535. Batch: [0/363]\n",
      "Train Loss: 0.10203. Batch: [100/363]\n",
      "Train Loss: 0.1254. Batch: [200/363]\n",
      "Train Loss: 0.2783. Batch: [300/363]\n",
      "Validation Loss: 0.64867\n",
      "\n",
      " ----- Epoch 9 -----\n",
      "\n",
      "Train Loss: 0.39068. Batch: [0/363]\n",
      "Train Loss: 0.20099. Batch: [100/363]\n",
      "Train Loss: 0.23152. Batch: [200/363]\n",
      "Train Loss: 0.33051. Batch: [300/363]\n",
      "Validation Loss: 0.29063\n",
      "\n",
      " ----- Epoch 10 -----\n",
      "\n",
      "Train Loss: 0.18729. Batch: [0/363]\n",
      "Train Loss: 0.48359. Batch: [100/363]\n",
      "Train Loss: 0.24162. Batch: [200/363]\n",
      "Train Loss: 0.5963. Batch: [300/363]\n",
      "Validation Loss: 0.49567\n",
      "\n",
      " ----- Epoch 11 -----\n",
      "\n",
      "Train Loss: 0.25267. Batch: [0/363]\n",
      "Train Loss: 0.39409. Batch: [100/363]\n",
      "Train Loss: 0.15267. Batch: [200/363]\n",
      "Train Loss: 0.22713. Batch: [300/363]\n",
      "Validation Loss: 0.72671\n",
      "\n",
      " ----- Epoch 12 -----\n",
      "\n",
      "Train Loss: 0.30158. Batch: [0/363]\n",
      "Train Loss: 0.12772. Batch: [100/363]\n",
      "Train Loss: 0.4285. Batch: [200/363]\n",
      "Train Loss: 0.32637. Batch: [300/363]\n",
      "Validation Loss: 0.51553\n",
      "\n",
      " ----- Epoch 13 -----\n",
      "\n",
      "Train Loss: 0.64185. Batch: [0/363]\n",
      "Train Loss: 0.45136. Batch: [100/363]\n",
      "Train Loss: 0.23458. Batch: [200/363]\n",
      "Train Loss: 0.35649. Batch: [300/363]\n",
      "Validation Loss: 0.30143\n",
      "\n",
      " ----- Epoch 14 -----\n",
      "\n",
      "Train Loss: 0.16264. Batch: [0/363]\n",
      "Train Loss: 0.37426. Batch: [100/363]\n",
      "Train Loss: 0.26841. Batch: [200/363]\n",
      "Train Loss: 0.18242. Batch: [300/363]\n",
      "Validation Loss: 0.38011\n",
      "\n",
      " ----- Epoch 15 -----\n",
      "\n",
      "Train Loss: 0.38767. Batch: [0/363]\n",
      "Train Loss: 0.22929. Batch: [100/363]\n",
      "Train Loss: 0.34522. Batch: [200/363]\n",
      "Train Loss: 0.22891. Batch: [300/363]\n",
      "Validation Loss: 0.30782\n",
      "\n",
      " ----- Epoch 16 -----\n",
      "\n",
      "Train Loss: 0.49802. Batch: [0/363]\n",
      "Train Loss: 0.14462. Batch: [100/363]\n",
      "Train Loss: 0.29684. Batch: [200/363]\n",
      "Train Loss: 0.2084. Batch: [300/363]\n",
      "Validation Loss: 0.3064\n",
      "\n",
      " ----- Epoch 17 -----\n",
      "\n",
      "Train Loss: 0.31996. Batch: [0/363]\n",
      "Train Loss: 0.14582. Batch: [100/363]\n",
      "Train Loss: 0.30196. Batch: [200/363]\n",
      "Train Loss: 0.38262. Batch: [300/363]\n",
      "Validation Loss: 0.55673\n",
      "\n",
      " ----- Epoch 18 -----\n",
      "\n",
      "Train Loss: 0.2554. Batch: [0/363]\n",
      "Train Loss: 0.30261. Batch: [100/363]\n",
      "Train Loss: 0.3926. Batch: [200/363]\n",
      "Train Loss: 0.47087. Batch: [300/363]\n",
      "Validation Loss: 0.34018\n",
      "\n",
      " ----- Epoch 19 -----\n",
      "\n",
      "Train Loss: 0.21644. Batch: [0/363]\n",
      "Train Loss: 0.18343. Batch: [100/363]\n",
      "Train Loss: 0.37635. Batch: [200/363]\n",
      "Train Loss: 0.55241. Batch: [300/363]\n",
      "Validation Loss: 0.55223\n",
      "\n",
      " ----- Epoch 20 -----\n",
      "\n",
      "Train Loss: 0.16897. Batch: [0/363]\n",
      "Train Loss: 0.56318. Batch: [100/363]\n",
      "Train Loss: 0.22709. Batch: [200/363]\n",
      "Train Loss: 0.18022. Batch: [300/363]\n",
      "Validation Loss: 0.29974\n"
     ]
    }
   ],
   "source": [
    "for epoch in range(20):\n",
    "    print(f'\\n ----- Epoch {epoch+1} -----\\n')\n",
    "    train_regression(train_loader, regression_model, loss_fn, regression_optim)\n",
    "    eval_regression(valid_loader, regression_model, loss_fn)"
   ]
  },
  {
   "cell_type": "markdown",
   "id": "4c488a27",
   "metadata": {},
   "source": [
    "## Building Complex Models Using the Functional API"
   ]
  },
  {
   "cell_type": "code",
   "execution_count": 44,
   "id": "d41f6f24",
   "metadata": {},
   "outputs": [],
   "source": [
    "class WideAndDeep(nn.Module):\n",
    "    def __init__(self):\n",
    "        super().__init__()\n",
    "        self.hidden_layer1 = nn.Linear(in_features=8, out_features=30)\n",
    "        self.relu = nn.ReLU()\n",
    "        self.hidden_layer2 = nn.Linear(in_features=30, out_features=30)\n",
    "        self.output_layer = nn.Linear(in_features=38, out_features=1)\n",
    "    \n",
    "    def forward(self, x):\n",
    "        z = self.relu(self.hidden_layer1(x))\n",
    "        z = self.relu(self.hidden_layer2(z))\n",
    "        w = torch.cat((x, z), dim=-1)\n",
    "        return self.output_layer(w)"
   ]
  },
  {
   "cell_type": "code",
   "execution_count": 45,
   "id": "5d3a2f13",
   "metadata": {},
   "outputs": [],
   "source": [
    "widedeep = WideAndDeep()\n",
    "widedeep.apply(init_weights)\n",
    "widedeep = widedeep.to(device)"
   ]
  },
  {
   "cell_type": "markdown",
   "id": "a90428cb",
   "metadata": {},
   "source": [
    "Note that we need to create another optimizer, as the existing one has been trained on a different architecture."
   ]
  },
  {
   "cell_type": "code",
   "execution_count": 46,
   "id": "8cf1cf31",
   "metadata": {},
   "outputs": [],
   "source": [
    "wnd_optim = optim.Adam(widedeep.parameters(), lr=1e-3, eps=1e-7)"
   ]
  },
  {
   "cell_type": "code",
   "execution_count": 47,
   "id": "445a9987",
   "metadata": {},
   "outputs": [
    {
     "name": "stdout",
     "output_type": "stream",
     "text": [
      "Train Loss: 8.6954. Batch: [0/363]\n",
      "Train Loss: 1.3159. Batch: [100/363]\n",
      "Train Loss: 0.85891. Batch: [200/363]\n",
      "Train Loss: 1.1598. Batch: [300/363]\n",
      "Validation Loss: 0.90985\n",
      "Train Loss: 0.59334. Batch: [0/363]\n",
      "Train Loss: 0.59671. Batch: [100/363]\n",
      "Train Loss: 0.54503. Batch: [200/363]\n",
      "Train Loss: 0.30858. Batch: [300/363]\n",
      "Validation Loss: 1.5062\n",
      "Train Loss: 0.47393. Batch: [0/363]\n",
      "Train Loss: 0.44183. Batch: [100/363]\n",
      "Train Loss: 0.48225. Batch: [200/363]\n",
      "Train Loss: 0.54218. Batch: [300/363]\n",
      "Validation Loss: 0.39961\n",
      "Train Loss: 0.16247. Batch: [0/363]\n",
      "Train Loss: 0.40491. Batch: [100/363]\n",
      "Train Loss: 0.11579. Batch: [200/363]\n",
      "Train Loss: 0.65929. Batch: [300/363]\n",
      "Validation Loss: 0.36242\n",
      "Train Loss: 0.47726. Batch: [0/363]\n",
      "Train Loss: 0.44288. Batch: [100/363]\n",
      "Train Loss: 1.3181. Batch: [200/363]\n",
      "Train Loss: 0.40701. Batch: [300/363]\n",
      "Validation Loss: 1.0855\n",
      "Train Loss: 0.16801. Batch: [0/363]\n",
      "Train Loss: 0.27146. Batch: [100/363]\n",
      "Train Loss: 0.38227. Batch: [200/363]\n",
      "Train Loss: 0.19793. Batch: [300/363]\n",
      "Validation Loss: 1.1907\n",
      "Train Loss: 0.16918. Batch: [0/363]\n",
      "Train Loss: 0.28273. Batch: [100/363]\n",
      "Train Loss: 0.2008. Batch: [200/363]\n",
      "Train Loss: 0.14634. Batch: [300/363]\n",
      "Validation Loss: 1.4352\n",
      "Train Loss: 0.25083. Batch: [0/363]\n",
      "Train Loss: 0.17263. Batch: [100/363]\n",
      "Train Loss: 0.25148. Batch: [200/363]\n",
      "Train Loss: 0.43997. Batch: [300/363]\n",
      "Validation Loss: 1.7806\n",
      "Train Loss: 0.56756. Batch: [0/363]\n",
      "Train Loss: 0.20037. Batch: [100/363]\n",
      "Train Loss: 0.60475. Batch: [200/363]\n",
      "Train Loss: 0.38334. Batch: [300/363]\n",
      "Validation Loss: 1.4081\n",
      "Train Loss: 0.29943. Batch: [0/363]\n",
      "Train Loss: 0.25237. Batch: [100/363]\n",
      "Train Loss: 0.28485. Batch: [200/363]\n",
      "Train Loss: 0.4609. Batch: [300/363]\n",
      "Validation Loss: 0.53373\n",
      "Train Loss: 0.31834. Batch: [0/363]\n",
      "Train Loss: 0.46301. Batch: [100/363]\n",
      "Train Loss: 0.23977. Batch: [200/363]\n",
      "Train Loss: 0.43162. Batch: [300/363]\n",
      "Validation Loss: 0.4611\n",
      "Train Loss: 0.30656. Batch: [0/363]\n",
      "Train Loss: 0.26957. Batch: [100/363]\n",
      "Train Loss: 0.13422. Batch: [200/363]\n",
      "Train Loss: 0.32556. Batch: [300/363]\n",
      "Validation Loss: 0.32731\n",
      "Train Loss: 0.24813. Batch: [0/363]\n",
      "Train Loss: 0.1722. Batch: [100/363]\n",
      "Train Loss: 0.32993. Batch: [200/363]\n",
      "Train Loss: 0.11414. Batch: [300/363]\n",
      "Validation Loss: 0.3615\n",
      "Train Loss: 0.34873. Batch: [0/363]\n",
      "Train Loss: 0.19259. Batch: [100/363]\n",
      "Train Loss: 0.16873. Batch: [200/363]\n",
      "Train Loss: 0.32706. Batch: [300/363]\n",
      "Validation Loss: 0.29496\n",
      "Train Loss: 0.46982. Batch: [0/363]\n",
      "Train Loss: 0.18283. Batch: [100/363]\n",
      "Train Loss: 0.18533. Batch: [200/363]\n",
      "Train Loss: 0.39214. Batch: [300/363]\n",
      "Validation Loss: 0.35703\n",
      "Train Loss: 0.10816. Batch: [0/363]\n",
      "Train Loss: 0.32958. Batch: [100/363]\n",
      "Train Loss: 0.20621. Batch: [200/363]\n",
      "Train Loss: 0.41879. Batch: [300/363]\n",
      "Validation Loss: 0.70373\n",
      "Train Loss: 0.282. Batch: [0/363]\n",
      "Train Loss: 0.38749. Batch: [100/363]\n",
      "Train Loss: 0.78639. Batch: [200/363]\n",
      "Train Loss: 0.16652. Batch: [300/363]\n",
      "Validation Loss: 1.6019\n",
      "Train Loss: 3.4877. Batch: [0/363]\n",
      "Train Loss: 0.25874. Batch: [100/363]\n",
      "Train Loss: 0.32196. Batch: [200/363]\n",
      "Train Loss: 0.43758. Batch: [300/363]\n",
      "Validation Loss: 0.54181\n",
      "Train Loss: 0.33774. Batch: [0/363]\n",
      "Train Loss: 0.2818. Batch: [100/363]\n",
      "Train Loss: 0.27182. Batch: [200/363]\n",
      "Train Loss: 0.22847. Batch: [300/363]\n",
      "Validation Loss: 2.6879\n",
      "Train Loss: 0.26448. Batch: [0/363]\n",
      "Train Loss: 0.20872. Batch: [100/363]\n",
      "Train Loss: 0.25489. Batch: [200/363]\n",
      "Train Loss: 0.19594. Batch: [300/363]\n",
      "Validation Loss: 2.7139\n"
     ]
    }
   ],
   "source": [
    "for epoch in range(20):\n",
    "    train_regression(train_loader, widedeep, loss_fn, wnd_optim)\n",
    "    eval_regression(valid_loader, widedeep, loss_fn)"
   ]
  },
  {
   "cell_type": "code",
   "execution_count": null,
   "id": "4ee8c43e",
   "metadata": {},
   "outputs": [],
   "source": []
  }
 ],
 "metadata": {
  "kernelspec": {
   "display_name": "Python 3 (ipykernel)",
   "language": "python",
   "name": "python3"
  },
  "language_info": {
   "codemirror_mode": {
    "name": "ipython",
    "version": 3
   },
   "file_extension": ".py",
   "mimetype": "text/x-python",
   "name": "python",
   "nbconvert_exporter": "python",
   "pygments_lexer": "ipython3",
   "version": "3.11.3"
  }
 },
 "nbformat": 4,
 "nbformat_minor": 5
}
