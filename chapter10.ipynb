{
 "cells": [
  {
   "cell_type": "markdown",
   "id": "9bfe6779",
   "metadata": {},
   "source": [
    "# Chapter 10\n",
    "\n",
    "## Building an Image Classifier Using the Sequential API"
   ]
  },
  {
   "cell_type": "code",
   "execution_count": 1,
   "id": "8601b225",
   "metadata": {},
   "outputs": [],
   "source": [
    "import numpy as np\n",
    "import matplotlib.pyplot as plt\n",
    "from sklearn.datasets import fetch_california_housing\n",
    "from sklearn.model_selection import train_test_split\n",
    "import torch\n",
    "import torch.nn as nn\n",
    "import torch.optim as optim\n",
    "from torch.utils.data import Dataset, DataLoader, TensorDataset, Subset\n",
    "from torchvision.datasets import FashionMNIST\n",
    "from torchvision.transforms import ToTensor\n",
    "from torch.utils.tensorboard import SummaryWriter"
   ]
  },
  {
   "cell_type": "code",
   "execution_count": 2,
   "id": "e76b9c26",
   "metadata": {},
   "outputs": [],
   "source": [
    "root_dir = 'data'\n",
    "full_train_dset = FashionMNIST(root=root_dir,\n",
    "                               train=True,\n",
    "                               download=True,\n",
    "                               transform=ToTensor())\n",
    "test_dset = FashionMNIST(root=root_dir,\n",
    "                         train=False,\n",
    "                         download=True,\n",
    "                         transform=ToTensor())"
   ]
  },
  {
   "cell_type": "code",
   "execution_count": 3,
   "id": "d30ae606",
   "metadata": {},
   "outputs": [],
   "source": [
    "device = 'cuda'\n",
    "if torch.cuda.device_count() == 2:\n",
    "    torch.cuda.set_device(1)"
   ]
  },
  {
   "cell_type": "code",
   "execution_count": 4,
   "id": "5a4c46a8",
   "metadata": {},
   "outputs": [],
   "source": [
    "train_dset = Subset(full_train_dset, indices=range(55000))\n",
    "valid_dset = Subset(full_train_dset, indices=range(55000, 60000))"
   ]
  },
  {
   "cell_type": "code",
   "execution_count": 5,
   "id": "e39bf7be",
   "metadata": {},
   "outputs": [
    {
     "data": {
      "text/plain": [
       "(55000, 5000)"
      ]
     },
     "execution_count": 5,
     "metadata": {},
     "output_type": "execute_result"
    }
   ],
   "source": [
    "len(train_dset), len(valid_dset)"
   ]
  },
  {
   "cell_type": "code",
   "execution_count": 6,
   "id": "1f761d0d",
   "metadata": {},
   "outputs": [],
   "source": [
    "batch_size = 32 # Default batch size on keras"
   ]
  },
  {
   "cell_type": "code",
   "execution_count": 7,
   "id": "bef43a9d",
   "metadata": {},
   "outputs": [],
   "source": [
    "train_loader = DataLoader(train_dset, batch_size=batch_size, shuffle=True)\n",
    "valid_loader = DataLoader(valid_dset, batch_size=batch_size, shuffle=False)\n",
    "test_loader = DataLoader(test_dset, batch_size=batch_size, shuffle=False)"
   ]
  },
  {
   "cell_type": "markdown",
   "id": "78e5f4d3",
   "metadata": {},
   "source": [
    "## Normalization\n",
    "\n",
    "In Geron's book the data are normalized by dividing by 255. The `ToTensor()` transform added to the Dataset definition takes care of this automatically."
   ]
  },
  {
   "cell_type": "code",
   "execution_count": 8,
   "id": "97c94788",
   "metadata": {},
   "outputs": [],
   "source": [
    "img, tgt = next(iter(valid_loader))"
   ]
  },
  {
   "cell_type": "code",
   "execution_count": 9,
   "id": "788b4c9c",
   "metadata": {},
   "outputs": [
    {
     "data": {
      "text/plain": [
       "tensor(1.)"
      ]
     },
     "execution_count": 9,
     "metadata": {},
     "output_type": "execute_result"
    }
   ],
   "source": [
    "img.max()"
   ]
  },
  {
   "cell_type": "code",
   "execution_count": 10,
   "id": "cd6fe9c5",
   "metadata": {},
   "outputs": [],
   "source": [
    "class_names = [\"T-shirt/top\", \"Trouser\", \"Pullover\", \"Dress\", \"Coat\",\n",
    "               \"Sandal\", \"Shirt\", \"Sneaker\", \"Bag\", \"Ankle boot\"]"
   ]
  },
  {
   "cell_type": "code",
   "execution_count": 11,
   "id": "02309bb1",
   "metadata": {},
   "outputs": [],
   "source": [
    "class MyModel(nn.Module):\n",
    "    def __init__(self):\n",
    "        super().__init__()\n",
    "        self.sequential_model = nn.Sequential(\n",
    "            nn.Flatten(),\n",
    "            nn.Linear(in_features=784, out_features=300),\n",
    "            nn.ReLU(),\n",
    "            nn.Linear(in_features=300, out_features=100),\n",
    "            nn.ReLU(),\n",
    "            nn.Linear(in_features=100, out_features=10))\n",
    "    \n",
    "    def forward(self, x):\n",
    "        return self.sequential_model(x)"
   ]
  },
  {
   "cell_type": "code",
   "execution_count": 12,
   "id": "c057db0b",
   "metadata": {},
   "outputs": [
    {
     "data": {
      "text/plain": [
       "MyModel(\n",
       "  (sequential_model): Sequential(\n",
       "    (0): Flatten(start_dim=1, end_dim=-1)\n",
       "    (1): Linear(in_features=784, out_features=300, bias=True)\n",
       "    (2): ReLU()\n",
       "    (3): Linear(in_features=300, out_features=100, bias=True)\n",
       "    (4): ReLU()\n",
       "    (5): Linear(in_features=100, out_features=10, bias=True)\n",
       "  )\n",
       ")"
      ]
     },
     "execution_count": 12,
     "metadata": {},
     "output_type": "execute_result"
    }
   ],
   "source": [
    "classif_model = MyModel()\n",
    "classif_model"
   ]
  },
  {
   "cell_type": "code",
   "execution_count": 13,
   "id": "e5596b34",
   "metadata": {},
   "outputs": [
    {
     "data": {
      "text/plain": [
       "tensor(0.0097, grad_fn=<SelectBackward0>)"
      ]
     },
     "execution_count": 13,
     "metadata": {},
     "output_type": "execute_result"
    }
   ],
   "source": [
    "classif_model.sequential_model[1].bias[0]"
   ]
  },
  {
   "cell_type": "code",
   "execution_count": 14,
   "id": "22176dd6",
   "metadata": {},
   "outputs": [
    {
     "data": {
      "text/plain": [
       "tensor([-0.0194,  0.0207,  0.0205, -0.0123, -0.0234,  0.0215,  0.0184, -0.0249,\n",
       "         0.0315, -0.0067], grad_fn=<SliceBackward0>)"
      ]
     },
     "execution_count": 14,
     "metadata": {},
     "output_type": "execute_result"
    }
   ],
   "source": [
    "classif_model.sequential_model[1].weight[0, :10]"
   ]
  },
  {
   "cell_type": "markdown",
   "id": "a3ce2bc7",
   "metadata": {},
   "source": [
    "## Weight initialization\n",
    "\n",
    "In Keras weights in a dense layer are, [by default](https://www.tensorflow.org/api_docs/python/tf/keras/layers/Dense), initialized with a Glorot Uniform initialization.\n",
    "\n",
    "In Pytorch weights in a linear layer are, [by default](https://pytorch.org/docs/stable/generated/torch.nn.Linear.html#torch.nn.Linear) initialized with a uniform distribution with  U(−k,k) where k=1/in_features. This is essentially a LeCun uniform initialization. Note that in PyTorch, Glorot initialization is called Xavier initialization."
   ]
  },
  {
   "cell_type": "code",
   "execution_count": 15,
   "id": "e9437ebd",
   "metadata": {},
   "outputs": [],
   "source": [
    "@torch.no_grad()\n",
    "def init_weights(m):\n",
    "    if isinstance(m, nn.Linear):\n",
    "        torch.nn.init.xavier_uniform_(m.weight)\n",
    "        m.bias.data.fill_(0.)"
   ]
  },
  {
   "cell_type": "code",
   "execution_count": 16,
   "id": "cf40d666",
   "metadata": {},
   "outputs": [
    {
     "data": {
      "text/plain": [
       "MyModel(\n",
       "  (sequential_model): Sequential(\n",
       "    (0): Flatten(start_dim=1, end_dim=-1)\n",
       "    (1): Linear(in_features=784, out_features=300, bias=True)\n",
       "    (2): ReLU()\n",
       "    (3): Linear(in_features=300, out_features=100, bias=True)\n",
       "    (4): ReLU()\n",
       "    (5): Linear(in_features=100, out_features=10, bias=True)\n",
       "  )\n",
       ")"
      ]
     },
     "execution_count": 16,
     "metadata": {},
     "output_type": "execute_result"
    }
   ],
   "source": [
    "classif_model.apply(init_weights)"
   ]
  },
  {
   "cell_type": "code",
   "execution_count": 17,
   "id": "b19df074",
   "metadata": {},
   "outputs": [
    {
     "data": {
      "text/plain": [
       "tensor(0., grad_fn=<SelectBackward0>)"
      ]
     },
     "execution_count": 17,
     "metadata": {},
     "output_type": "execute_result"
    }
   ],
   "source": [
    "classif_model.sequential_model[1].bias[0]"
   ]
  },
  {
   "cell_type": "code",
   "execution_count": 18,
   "id": "cecb27f1",
   "metadata": {},
   "outputs": [
    {
     "data": {
      "text/plain": [
       "tensor([ 0.0380, -0.0405,  0.0061, -0.0318,  0.0638, -0.0513,  0.0744, -0.0589,\n",
       "         0.0524,  0.0436], grad_fn=<SliceBackward0>)"
      ]
     },
     "execution_count": 18,
     "metadata": {},
     "output_type": "execute_result"
    }
   ],
   "source": [
    "classif_model.sequential_model[1].weight[0, :10]"
   ]
  },
  {
   "cell_type": "markdown",
   "id": "7f506245",
   "metadata": {},
   "source": [
    "Both the bias and the weight look different. We assume that we are using the same initialization approach as Keras.\n",
    "\n",
    "The Keras model has a final softmax activation. If we use PyTorch cross-entropy loss, the softmax is fused in the loss, so we don't need to include it."
   ]
  },
  {
   "cell_type": "code",
   "execution_count": 19,
   "id": "74120b9a",
   "metadata": {},
   "outputs": [
    {
     "data": {
      "text/plain": [
       "MyModel(\n",
       "  (sequential_model): Sequential(\n",
       "    (0): Flatten(start_dim=1, end_dim=-1)\n",
       "    (1): Linear(in_features=784, out_features=300, bias=True)\n",
       "    (2): ReLU()\n",
       "    (3): Linear(in_features=300, out_features=100, bias=True)\n",
       "    (4): ReLU()\n",
       "    (5): Linear(in_features=100, out_features=10, bias=True)\n",
       "  )\n",
       ")"
      ]
     },
     "execution_count": 19,
     "metadata": {},
     "output_type": "execute_result"
    }
   ],
   "source": [
    "classif_model.to(device)"
   ]
  },
  {
   "cell_type": "code",
   "execution_count": 20,
   "id": "9d87bcba",
   "metadata": {},
   "outputs": [],
   "source": [
    "loss_fn = torch.nn.CrossEntropyLoss()"
   ]
  },
  {
   "cell_type": "markdown",
   "id": "4b844b7f",
   "metadata": {},
   "source": [
    "## Optimizers\n",
    "\n",
    "The example in Geron's book uses the \"sgd\" optimizer, which I suspect corresponds to the [default settings](https://www.tensorflow.org/api_docs/python/tf/keras/optimizers/experimental/SGD), i.e., lr = 0.01 and momentum = 0.0."
   ]
  },
  {
   "cell_type": "code",
   "execution_count": 21,
   "id": "7487429d",
   "metadata": {},
   "outputs": [],
   "source": [
    "classif_optim = optim.SGD(classif_model.parameters(), lr=0.01, momentum=0.0)"
   ]
  },
  {
   "cell_type": "code",
   "execution_count": 22,
   "id": "e26dc5f2",
   "metadata": {},
   "outputs": [],
   "source": [
    "def train(dataloader, model, loss_fn, optimizer):\n",
    "    num_obs = len(dataloader.dataset)\n",
    "    model.train()\n",
    "    for batch, (x, y) in enumerate(dataloader):\n",
    "        x, y = x.to(device), y.to(device)\n",
    "        preds = model(x)\n",
    "        batch_loss = loss_fn(preds, y)\n",
    "        batch_loss.backward()\n",
    "        optimizer.step()\n",
    "        optimizer.zero_grad()\n",
    "        if batch % 250 == 0:\n",
    "            print(f'Train loss: {batch_loss.item():>.5}')"
   ]
  },
  {
   "cell_type": "code",
   "execution_count": 23,
   "id": "67df4fd5",
   "metadata": {},
   "outputs": [],
   "source": [
    "def validate(dataloader, model, loss_fn):\n",
    "    num_batches = len(dataloader)\n",
    "    num_obs = len(dataloader.dataset)\n",
    "    total_loss = 0\n",
    "    correct = 0\n",
    "    model.eval()\n",
    "    with torch.no_grad():\n",
    "        for x, y in dataloader:\n",
    "            x, y = x.to(device), y.to(device)\n",
    "            preds = model(x)\n",
    "            total_loss += loss_fn(preds, y).item()\n",
    "            correct += (preds.argmax(1) == y).type(torch.float).sum().item()\n",
    "    avg_batch_loss = total_loss / num_batches\n",
    "    accuracy = correct / num_obs\n",
    "    print('Validation:')\n",
    "    print(f'\\nAverage loss: {avg_batch_loss:>.5} - Accuracy: {accuracy:>.3}')\n",
    "    return avg_batch_loss, accuracy"
   ]
  },
  {
   "cell_type": "code",
   "execution_count": 24,
   "id": "ffd85440",
   "metadata": {},
   "outputs": [],
   "source": [
    "epochs = 30"
   ]
  },
  {
   "cell_type": "code",
   "execution_count": 25,
   "id": "9aef7cd1",
   "metadata": {},
   "outputs": [
    {
     "name": "stdout",
     "output_type": "stream",
     "text": [
      "\n",
      "----- Epoch: 1 -----\n",
      "\n",
      "Train loss: 2.2598\n",
      "Train loss: 0.8287\n",
      "Train loss: 0.87436\n",
      "Train loss: 0.64119\n",
      "Train loss: 0.65544\n",
      "Train loss: 0.55431\n",
      "Train loss: 0.72651\n",
      "Validation:\n",
      "\n",
      "Average loss: 0.53774 - Accuracy: 0.812\n",
      "\n",
      "----- Epoch: 2 -----\n",
      "\n",
      "Train loss: 0.45458\n",
      "Train loss: 0.3924\n",
      "Train loss: 0.43722\n",
      "Train loss: 0.41766\n",
      "Train loss: 0.57856\n",
      "Train loss: 0.40585\n",
      "Train loss: 0.4903\n",
      "Validation:\n",
      "\n",
      "Average loss: 0.4529 - Accuracy: 0.838\n",
      "\n",
      "----- Epoch: 3 -----\n",
      "\n",
      "Train loss: 0.50073\n",
      "Train loss: 0.37522\n",
      "Train loss: 0.33948\n",
      "Train loss: 0.53763\n",
      "Train loss: 0.62118\n",
      "Train loss: 0.77319\n",
      "Train loss: 0.50318\n",
      "Validation:\n",
      "\n",
      "Average loss: 0.43388 - Accuracy: 0.84\n",
      "\n",
      "----- Epoch: 4 -----\n",
      "\n",
      "Train loss: 0.28299\n",
      "Train loss: 0.83093\n",
      "Train loss: 0.27268\n",
      "Train loss: 0.39683\n",
      "Train loss: 0.27692\n",
      "Train loss: 0.48836\n",
      "Train loss: 0.47582\n",
      "Validation:\n",
      "\n",
      "Average loss: 0.40688 - Accuracy: 0.856\n",
      "\n",
      "----- Epoch: 5 -----\n",
      "\n",
      "Train loss: 0.14218\n",
      "Train loss: 0.43433\n",
      "Train loss: 0.50023\n",
      "Train loss: 0.41341\n",
      "Train loss: 0.57753\n",
      "Train loss: 0.16595\n",
      "Train loss: 0.15647\n",
      "Validation:\n",
      "\n",
      "Average loss: 0.38915 - Accuracy: 0.86\n",
      "\n",
      "----- Epoch: 6 -----\n",
      "\n",
      "Train loss: 0.23373\n",
      "Train loss: 0.45709\n",
      "Train loss: 0.15961\n",
      "Train loss: 0.17206\n",
      "Train loss: 0.34764\n",
      "Train loss: 0.37806\n",
      "Train loss: 0.6502\n",
      "Validation:\n",
      "\n",
      "Average loss: 0.40823 - Accuracy: 0.856\n",
      "\n",
      "----- Epoch: 7 -----\n",
      "\n",
      "Train loss: 0.42731\n",
      "Train loss: 0.62331\n",
      "Train loss: 0.33892\n",
      "Train loss: 0.61542\n",
      "Train loss: 0.24616\n",
      "Train loss: 0.17202\n",
      "Train loss: 0.52806\n",
      "Validation:\n",
      "\n",
      "Average loss: 0.42722 - Accuracy: 0.845\n",
      "\n",
      "----- Epoch: 8 -----\n",
      "\n",
      "Train loss: 0.27198\n",
      "Train loss: 0.30982\n",
      "Train loss: 0.31009\n",
      "Train loss: 0.1938\n",
      "Train loss: 0.4052\n",
      "Train loss: 0.3241\n",
      "Train loss: 0.23758\n",
      "Validation:\n",
      "\n",
      "Average loss: 0.38656 - Accuracy: 0.857\n",
      "\n",
      "----- Epoch: 9 -----\n",
      "\n",
      "Train loss: 0.28184\n",
      "Train loss: 0.30461\n",
      "Train loss: 0.35539\n",
      "Train loss: 0.44377\n",
      "Train loss: 0.21725\n",
      "Train loss: 0.34628\n",
      "Train loss: 0.28585\n",
      "Validation:\n",
      "\n",
      "Average loss: 0.35342 - Accuracy: 0.876\n",
      "\n",
      "----- Epoch: 10 -----\n",
      "\n",
      "Train loss: 0.24397\n",
      "Train loss: 0.21663\n",
      "Train loss: 0.27163\n",
      "Train loss: 0.36721\n",
      "Train loss: 0.55658\n",
      "Train loss: 0.25759\n",
      "Train loss: 0.13926\n",
      "Validation:\n",
      "\n",
      "Average loss: 0.36321 - Accuracy: 0.87\n",
      "\n",
      "----- Epoch: 11 -----\n",
      "\n",
      "Train loss: 0.35741\n",
      "Train loss: 0.37808\n",
      "Train loss: 0.15047\n",
      "Train loss: 0.23569\n",
      "Train loss: 0.099428\n",
      "Train loss: 0.11818\n",
      "Train loss: 0.22942\n",
      "Validation:\n",
      "\n",
      "Average loss: 0.35244 - Accuracy: 0.873\n",
      "\n",
      "----- Epoch: 12 -----\n",
      "\n",
      "Train loss: 0.47253\n",
      "Train loss: 0.24634\n",
      "Train loss: 0.38109\n",
      "Train loss: 0.38882\n",
      "Train loss: 0.3654\n",
      "Train loss: 0.39176\n",
      "Train loss: 0.54841\n",
      "Validation:\n",
      "\n",
      "Average loss: 0.35881 - Accuracy: 0.875\n",
      "\n",
      "----- Epoch: 13 -----\n",
      "\n",
      "Train loss: 0.31275\n",
      "Train loss: 0.30477\n",
      "Train loss: 0.3138\n",
      "Train loss: 0.73404\n",
      "Train loss: 0.43621\n",
      "Train loss: 0.59978\n",
      "Train loss: 0.33391\n",
      "Validation:\n",
      "\n",
      "Average loss: 0.33777 - Accuracy: 0.874\n",
      "\n",
      "----- Epoch: 14 -----\n",
      "\n",
      "Train loss: 0.33943\n",
      "Train loss: 0.36681\n",
      "Train loss: 0.20188\n",
      "Train loss: 0.21196\n",
      "Train loss: 0.2069\n",
      "Train loss: 0.26628\n",
      "Train loss: 0.20335\n",
      "Validation:\n",
      "\n",
      "Average loss: 0.3538 - Accuracy: 0.872\n",
      "\n",
      "----- Epoch: 15 -----\n",
      "\n",
      "Train loss: 0.38541\n",
      "Train loss: 0.2034\n",
      "Train loss: 0.26049\n",
      "Train loss: 0.26698\n",
      "Train loss: 0.18754\n",
      "Train loss: 0.26247\n",
      "Train loss: 0.25614\n",
      "Validation:\n",
      "\n",
      "Average loss: 0.33281 - Accuracy: 0.878\n",
      "\n",
      "----- Epoch: 16 -----\n",
      "\n",
      "Train loss: 0.29543\n",
      "Train loss: 0.32122\n",
      "Train loss: 0.19084\n",
      "Train loss: 0.25199\n",
      "Train loss: 0.29417\n",
      "Train loss: 0.18123\n",
      "Train loss: 0.33448\n",
      "Validation:\n",
      "\n",
      "Average loss: 0.328 - Accuracy: 0.879\n",
      "\n",
      "----- Epoch: 17 -----\n",
      "\n",
      "Train loss: 0.10004\n",
      "Train loss: 0.4115\n",
      "Train loss: 0.079155\n",
      "Train loss: 0.25129\n",
      "Train loss: 0.13817\n",
      "Train loss: 0.21711\n",
      "Train loss: 0.50314\n",
      "Validation:\n",
      "\n",
      "Average loss: 0.32994 - Accuracy: 0.879\n",
      "\n",
      "----- Epoch: 18 -----\n",
      "\n",
      "Train loss: 0.17555\n",
      "Train loss: 0.10971\n",
      "Train loss: 0.22332\n",
      "Train loss: 0.43432\n",
      "Train loss: 0.084924\n",
      "Train loss: 0.30581\n",
      "Train loss: 0.20674\n",
      "Validation:\n",
      "\n",
      "Average loss: 0.34557 - Accuracy: 0.877\n",
      "\n",
      "----- Epoch: 19 -----\n",
      "\n",
      "Train loss: 0.34031\n",
      "Train loss: 0.27101\n",
      "Train loss: 0.25315\n",
      "Train loss: 0.43936\n",
      "Train loss: 0.21063\n",
      "Train loss: 0.2741\n",
      "Train loss: 0.34507\n",
      "Validation:\n",
      "\n",
      "Average loss: 0.31872 - Accuracy: 0.885\n",
      "\n",
      "----- Epoch: 20 -----\n",
      "\n",
      "Train loss: 0.51181\n",
      "Train loss: 0.23054\n",
      "Train loss: 0.28455\n",
      "Train loss: 0.29724\n",
      "Train loss: 0.23525\n",
      "Train loss: 0.31451\n",
      "Train loss: 0.14325\n",
      "Validation:\n",
      "\n",
      "Average loss: 0.32532 - Accuracy: 0.877\n",
      "\n",
      "----- Epoch: 21 -----\n",
      "\n",
      "Train loss: 0.099218\n",
      "Train loss: 0.21083\n",
      "Train loss: 0.13376\n",
      "Train loss: 0.19178\n",
      "Train loss: 0.27106\n",
      "Train loss: 0.21822\n",
      "Train loss: 0.31065\n",
      "Validation:\n",
      "\n",
      "Average loss: 0.33565 - Accuracy: 0.879\n",
      "\n",
      "----- Epoch: 22 -----\n",
      "\n",
      "Train loss: 0.23203\n",
      "Train loss: 0.29132\n",
      "Train loss: 0.2622\n",
      "Train loss: 0.19461\n",
      "Train loss: 0.27438\n",
      "Train loss: 0.14457\n",
      "Train loss: 0.35121\n",
      "Validation:\n",
      "\n",
      "Average loss: 0.32049 - Accuracy: 0.884\n",
      "\n",
      "----- Epoch: 23 -----\n",
      "\n",
      "Train loss: 0.55905\n",
      "Train loss: 0.21219\n",
      "Train loss: 0.37032\n",
      "Train loss: 0.19948\n",
      "Train loss: 0.30535\n",
      "Train loss: 0.096898\n",
      "Train loss: 0.28119\n",
      "Validation:\n",
      "\n",
      "Average loss: 0.31216 - Accuracy: 0.884\n",
      "\n",
      "----- Epoch: 24 -----\n",
      "\n",
      "Train loss: 0.40228\n",
      "Train loss: 0.17665\n",
      "Train loss: 0.32734\n",
      "Train loss: 0.20205\n",
      "Train loss: 0.11647\n",
      "Train loss: 0.31442\n",
      "Train loss: 0.24101\n",
      "Validation:\n",
      "\n",
      "Average loss: 0.32593 - Accuracy: 0.884\n",
      "\n",
      "----- Epoch: 25 -----\n",
      "\n",
      "Train loss: 0.12635\n",
      "Train loss: 0.16596\n",
      "Train loss: 0.15837\n",
      "Train loss: 0.42724\n",
      "Train loss: 0.31222\n",
      "Train loss: 0.29761\n",
      "Train loss: 0.26486\n",
      "Validation:\n",
      "\n",
      "Average loss: 0.34239 - Accuracy: 0.873\n",
      "\n",
      "----- Epoch: 26 -----\n",
      "\n",
      "Train loss: 0.24702\n",
      "Train loss: 0.29329\n",
      "Train loss: 0.13833\n",
      "Train loss: 0.088246\n",
      "Train loss: 0.25923\n",
      "Train loss: 0.11352\n",
      "Train loss: 0.2843\n",
      "Validation:\n",
      "\n",
      "Average loss: 0.31315 - Accuracy: 0.885\n",
      "\n",
      "----- Epoch: 27 -----\n",
      "\n",
      "Train loss: 0.094673\n",
      "Train loss: 0.12274\n",
      "Train loss: 0.18742\n",
      "Train loss: 0.5705\n",
      "Train loss: 0.11529\n",
      "Train loss: 0.059636\n",
      "Train loss: 0.21775\n",
      "Validation:\n",
      "\n",
      "Average loss: 0.31048 - Accuracy: 0.887\n",
      "\n",
      "----- Epoch: 28 -----\n",
      "\n",
      "Train loss: 0.216\n",
      "Train loss: 0.14843\n",
      "Train loss: 0.085651\n",
      "Train loss: 0.23154\n",
      "Train loss: 0.19548\n",
      "Train loss: 0.32036\n",
      "Train loss: 0.31082\n",
      "Validation:\n",
      "\n",
      "Average loss: 0.3161 - Accuracy: 0.888\n",
      "\n",
      "----- Epoch: 29 -----\n",
      "\n",
      "Train loss: 0.39598\n",
      "Train loss: 0.087764\n",
      "Train loss: 0.51649\n",
      "Train loss: 0.22298\n",
      "Train loss: 0.13725\n",
      "Train loss: 0.25192\n",
      "Train loss: 0.2429\n",
      "Validation:\n",
      "\n",
      "Average loss: 0.32668 - Accuracy: 0.885\n",
      "\n",
      "----- Epoch: 30 -----\n",
      "\n",
      "Train loss: 0.07163\n",
      "Train loss: 0.17833\n",
      "Train loss: 0.40595\n",
      "Train loss: 0.042037\n",
      "Train loss: 0.26562\n",
      "Train loss: 0.2365\n",
      "Train loss: 0.10373\n",
      "Validation:\n",
      "\n",
      "Average loss: 0.32382 - Accuracy: 0.887\n"
     ]
    }
   ],
   "source": [
    "test_loss, test_accuracy = [], []\n",
    "\n",
    "for epoch in range(epochs):\n",
    "    print(f'\\n----- Epoch: {epoch+1} -----\\n')\n",
    "    train(train_loader, classif_model, loss_fn, classif_optim)\n",
    "    loss, acc = validate(valid_loader, classif_model, loss_fn)\n",
    "    test_loss.append(loss)\n",
    "    test_accuracy.append(acc)"
   ]
  },
  {
   "cell_type": "markdown",
   "id": "2fbe0520",
   "metadata": {},
   "source": [
    "This is very similar to the performance shown in Geron's book."
   ]
  },
  {
   "cell_type": "code",
   "execution_count": 26,
   "id": "c8bcfcd7",
   "metadata": {},
   "outputs": [
    {
     "data": {
      "image/png": "[encoded data removed]",
      "text/plain": [
       "<Figure size 640x480 with 1 Axes>"
      ]
     },
     "metadata": {},
     "output_type": "display_data"
    }
   ],
   "source": [
    "plt.plot(np.arange(30), test_accuracy, 'r-', label='Validation accuracy')\n",
    "plt.plot(np.arange(30), test_loss, 'b-', label='Validation loss')\n",
    "plt.grid()\n",
    "plt.xlabel('Epoch')\n",
    "plt.legend()\n",
    "plt.show()"
   ]
  },
  {
   "cell_type": "markdown",
   "id": "5aa42855",
   "metadata": {},
   "source": [
    "### Performance on the test set"
   ]
  },
  {
   "cell_type": "code",
   "execution_count": 27,
   "id": "246cc0ca",
   "metadata": {},
   "outputs": [],
   "source": [
    "def get_test_performance(dataloader, model):\n",
    "    test_accuracy = 0\n",
    "    correct = 0\n",
    "    model.eval()\n",
    "    with torch.no_grad():\n",
    "        for x, y in dataloader:\n",
    "            x, y = x.to(device), y.to(device)\n",
    "            preds = model(x)\n",
    "            correct += (preds.argmax(1) == y).type(torch.float32).sum().item()\n",
    "    return correct / len(dataloader.dataset)"
   ]
  },
  {
   "cell_type": "code",
   "execution_count": 28,
   "id": "c13e9632",
   "metadata": {},
   "outputs": [
    {
     "data": {
      "text/plain": [
       "0.8782"
      ]
     },
     "execution_count": 28,
     "metadata": {},
     "output_type": "execute_result"
    }
   ],
   "source": [
    "get_test_performance(test_loader, classif_model)"
   ]
  },
  {
   "cell_type": "markdown",
   "id": "49df76ea",
   "metadata": {},
   "source": [
    "## Building a Regression MLP Using the Sequential API\n",
    "\n",
    "For this example we use the California Housing dataset. After creating a training, validation, and test set, we must normalize the data and organize them into dataloaders.\n",
    "\n",
    "**Note**: in HOML3 the loss is the mean squared error (MSE), but the metric is the root mean squared error (RMSE), therefore to go from the loss to the metric, you have to take the square root of the loss. Our loss and the loss in HOML3 should be directly comparable."
   ]
  },
  {
   "cell_type": "code",
   "execution_count": 29,
   "id": "3999407f",
   "metadata": {},
   "outputs": [],
   "source": [
    "housing = fetch_california_housing()\n",
    "x_train_full, x_test, y_train_full, y_test = train_test_split(\n",
    "    housing.data, housing.target, random_state=42)\n",
    "x_train, x_valid, y_train, y_valid = train_test_split(\n",
    "    x_train_full, y_train_full, random_state=42)"
   ]
  },
  {
   "cell_type": "code",
   "execution_count": 30,
   "id": "25dd2e80",
   "metadata": {},
   "outputs": [
    {
     "data": {
      "text/plain": [
       "((11610, 8), (3870, 8), (5160, 8))"
      ]
     },
     "execution_count": 30,
     "metadata": {},
     "output_type": "execute_result"
    }
   ],
   "source": [
    "x_train.shape, x_valid.shape, x_test.shape"
   ]
  },
  {
   "cell_type": "code",
   "execution_count": 31,
   "id": "cdde54a7",
   "metadata": {},
   "outputs": [
    {
     "data": {
      "text/plain": [
       "array([ 3.52140000e+00,  1.50000000e+01,  3.04994451e+00,  1.10654828e+00,\n",
       "        1.44700000e+03,  1.60599334e+00,  3.76300000e+01, -1.22430000e+02])"
      ]
     },
     "execution_count": 31,
     "metadata": {},
     "output_type": "execute_result"
    }
   ],
   "source": [
    "x_train[0]"
   ]
  },
  {
   "cell_type": "markdown",
   "id": "6e1af89a",
   "metadata": {},
   "source": [
    "The data is clearly not normalized."
   ]
  },
  {
   "cell_type": "code",
   "execution_count": 32,
   "id": "e10c4d49",
   "metadata": {},
   "outputs": [
    {
     "data": {
      "text/plain": [
       "(-124.35, 16305.0, -124.27, 35682.0, -124.25, 16122.0)"
      ]
     },
     "execution_count": 32,
     "metadata": {},
     "output_type": "execute_result"
    }
   ],
   "source": [
    "x_train.min(), x_train.max(), x_valid.min(), x_valid.max(), x_test.min(), x_test.max()"
   ]
  },
  {
   "cell_type": "code",
   "execution_count": 33,
   "id": "04183e8d",
   "metadata": {},
   "outputs": [
    {
     "data": {
      "text/plain": [
       "((8,), (8,))"
      ]
     },
     "execution_count": 33,
     "metadata": {},
     "output_type": "execute_result"
    }
   ],
   "source": [
    "means, std_devs = x_train.mean(axis=0), x_train.std(axis=0)\n",
    "means.shape, std_devs.shape"
   ]
  },
  {
   "cell_type": "code",
   "execution_count": 34,
   "id": "b396fdad",
   "metadata": {},
   "outputs": [],
   "source": [
    "z_train = ((x_train - means) / std_devs).astype(np.float32)\n",
    "z_valid = ((x_valid - means) / std_devs).astype(np.float32)\n",
    "z_test = ((x_test - means) / std_devs).astype(np.float32)"
   ]
  },
  {
   "cell_type": "code",
   "execution_count": 35,
   "id": "411e407f",
   "metadata": {},
   "outputs": [
    {
     "data": {
      "text/plain": [
       "dtype('float32')"
      ]
     },
     "execution_count": 35,
     "metadata": {},
     "output_type": "execute_result"
    }
   ],
   "source": [
    "z_test.dtype"
   ]
  },
  {
   "cell_type": "code",
   "execution_count": 36,
   "id": "77db7ad3",
   "metadata": {},
   "outputs": [
    {
     "data": {
      "text/plain": [
       "(2.4642746e-10, 1.0, 0.021390013, 3.6403675, -0.004968547, 0.99959093)"
      ]
     },
     "execution_count": 36,
     "metadata": {},
     "output_type": "execute_result"
    }
   ],
   "source": [
    "z_train.mean(), z_train.std(), z_valid.mean(), z_valid.std(), z_test.mean(), z_test.std()"
   ]
  },
  {
   "cell_type": "code",
   "execution_count": 37,
   "id": "46ec0bdf",
   "metadata": {},
   "outputs": [],
   "source": [
    "x_tensor_train = torch.FloatTensor(z_train)\n",
    "y_tensor_train = torch.FloatTensor(y_train).unsqueeze(-1)\n",
    "x_tensor_valid = torch.FloatTensor(z_valid)\n",
    "y_tensor_valid = torch.FloatTensor(y_valid).unsqueeze(-1)\n",
    "x_tensor_test = torch.FloatTensor(z_test)\n",
    "y_tensor_test = torch.FloatTensor(y_test).unsqueeze(-1)"
   ]
  },
  {
   "cell_type": "code",
   "execution_count": 38,
   "id": "c26a3889",
   "metadata": {},
   "outputs": [
    {
     "data": {
      "text/plain": [
       "(tensor(0.0214), tensor(3.6404))"
      ]
     },
     "execution_count": 38,
     "metadata": {},
     "output_type": "execute_result"
    }
   ],
   "source": [
    "x_tensor_valid.mean(), x_tensor_valid.std()"
   ]
  },
  {
   "cell_type": "code",
   "execution_count": 39,
   "id": "2a75419e",
   "metadata": {},
   "outputs": [],
   "source": [
    "train_dset = TensorDataset(x_tensor_train, y_tensor_train)\n",
    "valid_dset = TensorDataset(x_tensor_valid, y_tensor_valid)\n",
    "test_dset = TensorDataset(x_tensor_test, y_tensor_test)"
   ]
  },
  {
   "cell_type": "code",
   "execution_count": 40,
   "id": "e522ffc0",
   "metadata": {},
   "outputs": [],
   "source": [
    "train_loader = DataLoader(train_dset, batch_size=batch_size, shuffle=True)\n",
    "valid_loader = DataLoader(valid_dset, batch_size=batch_size, shuffle=False)\n",
    "test_loader = DataLoader(test_dset, batch_size=batch_size, shuffle=False)"
   ]
  },
  {
   "cell_type": "code",
   "execution_count": 41,
   "id": "3852c8cd",
   "metadata": {},
   "outputs": [],
   "source": [
    "class RegressionModel(nn.Module):\n",
    "    def __init__(self):\n",
    "        super().__init__()\n",
    "        self.sequential_model = nn.Sequential(\n",
    "            nn.Linear(in_features=8, out_features=50),\n",
    "            nn.ReLU(),\n",
    "            nn.Linear(in_features=50, out_features=50),\n",
    "            nn.ReLU(),\n",
    "            nn.Linear(in_features=50, out_features=50),\n",
    "            nn.ReLU(),\n",
    "            nn.Linear(in_features=50, out_features=1))\n",
    "    \n",
    "    def forward(self, x):\n",
    "        return self.sequential_model(x)"
   ]
  },
  {
   "cell_type": "markdown",
   "id": "78749533",
   "metadata": {},
   "source": [
    "### Weight initialization"
   ]
  },
  {
   "cell_type": "code",
   "execution_count": 42,
   "id": "52aa1245",
   "metadata": {},
   "outputs": [
    {
     "data": {
      "text/plain": [
       "RegressionModel(\n",
       "  (sequential_model): Sequential(\n",
       "    (0): Linear(in_features=8, out_features=50, bias=True)\n",
       "    (1): ReLU()\n",
       "    (2): Linear(in_features=50, out_features=50, bias=True)\n",
       "    (3): ReLU()\n",
       "    (4): Linear(in_features=50, out_features=50, bias=True)\n",
       "    (5): ReLU()\n",
       "    (6): Linear(in_features=50, out_features=1, bias=True)\n",
       "  )\n",
       ")"
      ]
     },
     "execution_count": 42,
     "metadata": {},
     "output_type": "execute_result"
    }
   ],
   "source": [
    "regression_model = RegressionModel()\n",
    "regression_model.apply(init_weights)"
   ]
  },
  {
   "cell_type": "code",
   "execution_count": 43,
   "id": "7727e4d1",
   "metadata": {},
   "outputs": [],
   "source": [
    "regression_model = regression_model.to(device)"
   ]
  },
  {
   "cell_type": "code",
   "execution_count": 44,
   "id": "6d8c444c",
   "metadata": {},
   "outputs": [],
   "source": [
    "def train_regression(dataloader, model, loss_fn, optimizer):\n",
    "    total_loss = 0\n",
    "    num_obs = len(dataloader.dataset)\n",
    "    num_batches = len(dataloader)\n",
    "    model.train()\n",
    "    for batch, (x, y) in enumerate(dataloader):\n",
    "        x, y = x.to(device), y.to(device)\n",
    "        preds = model(x)\n",
    "        batch_loss = loss_fn(preds, y)\n",
    "        total_loss += batch_loss.item()\n",
    "        batch_loss.backward()\n",
    "        optimizer.step()\n",
    "        optimizer.zero_grad()\n",
    "    print(f\"Train Loss: {total_loss/num_batches:>.5}\")"
   ]
  },
  {
   "cell_type": "code",
   "execution_count": 45,
   "id": "96cbfc16",
   "metadata": {},
   "outputs": [],
   "source": [
    "def eval_regression(dataloader, model, loss_fn):\n",
    "    total_loss = 0\n",
    "    num_obs = len(dataloader.dataset)\n",
    "    num_batches = len(dataloader)\n",
    "    model.eval()\n",
    "    with torch.no_grad():\n",
    "        for x, y in dataloader:\n",
    "            x, y = x.to(device), y.to(device)\n",
    "            preds = model(x)\n",
    "            total_loss += loss_fn(preds, y).item()\n",
    "        print(f'Validation Loss: {total_loss/num_batches:>.5}')"
   ]
  },
  {
   "cell_type": "code",
   "execution_count": 46,
   "id": "bd0006c8",
   "metadata": {},
   "outputs": [],
   "source": [
    "loss_fn = nn.MSELoss()\n",
    "regression_optim = optim.Adam(regression_model.parameters(), lr=1e-3, eps=1e-7)"
   ]
  },
  {
   "cell_type": "code",
   "execution_count": 47,
   "id": "d3a1855e",
   "metadata": {},
   "outputs": [
    {
     "name": "stdout",
     "output_type": "stream",
     "text": [
      "\n",
      " ----- Epoch 1 -----\n",
      "Train Loss: 0.81788\n",
      "Validation Loss: 0.37046\n",
      "\n",
      " ----- Epoch 2 -----\n",
      "Train Loss: 0.37564\n",
      "Validation Loss: 0.38949\n",
      "\n",
      " ----- Epoch 3 -----\n",
      "Train Loss: 0.34257\n",
      "Validation Loss: 0.59244\n",
      "\n",
      " ----- Epoch 4 -----\n",
      "Train Loss: 0.33984\n",
      "Validation Loss: 1.1651\n",
      "\n",
      " ----- Epoch 5 -----\n",
      "Train Loss: 0.32233\n",
      "Validation Loss: 3.556\n",
      "\n",
      " ----- Epoch 6 -----\n",
      "Train Loss: 0.33994\n",
      "Validation Loss: 0.30953\n",
      "\n",
      " ----- Epoch 7 -----\n",
      "Train Loss: 0.30563\n",
      "Validation Loss: 1.527\n",
      "\n",
      " ----- Epoch 8 -----\n",
      "Train Loss: 0.30651\n",
      "Validation Loss: 1.0936\n",
      "\n",
      " ----- Epoch 9 -----\n",
      "Train Loss: 0.29389\n",
      "Validation Loss: 3.9415\n",
      "\n",
      " ----- Epoch 10 -----\n",
      "Train Loss: 0.29799\n",
      "Validation Loss: 1.1277\n",
      "\n",
      " ----- Epoch 11 -----\n",
      "Train Loss: 0.31273\n",
      "Validation Loss: 1.1509\n",
      "\n",
      " ----- Epoch 12 -----\n",
      "Train Loss: 0.28833\n",
      "Validation Loss: 0.27233\n",
      "\n",
      " ----- Epoch 13 -----\n",
      "Train Loss: 0.28\n",
      "Validation Loss: 0.28907\n",
      "\n",
      " ----- Epoch 14 -----\n",
      "Train Loss: 0.27736\n",
      "Validation Loss: 0.37452\n",
      "\n",
      " ----- Epoch 15 -----\n",
      "Train Loss: 0.2728\n",
      "Validation Loss: 0.27716\n",
      "\n",
      " ----- Epoch 16 -----\n",
      "Train Loss: 0.27477\n",
      "Validation Loss: 0.44149\n",
      "\n",
      " ----- Epoch 17 -----\n",
      "Train Loss: 0.27224\n",
      "Validation Loss: 0.30305\n",
      "\n",
      " ----- Epoch 18 -----\n",
      "Train Loss: 0.27174\n",
      "Validation Loss: 0.75143\n",
      "\n",
      " ----- Epoch 19 -----\n",
      "Train Loss: 0.26809\n",
      "Validation Loss: 0.3043\n",
      "\n",
      " ----- Epoch 20 -----\n",
      "Train Loss: 0.26364\n",
      "Validation Loss: 0.60484\n"
     ]
    }
   ],
   "source": [
    "for epoch in range(20):\n",
    "    print(f'\\n ----- Epoch {epoch+1} -----')\n",
    "    train_regression(train_loader, regression_model, loss_fn, regression_optim)\n",
    "    eval_regression(valid_loader, regression_model, loss_fn)"
   ]
  },
  {
   "cell_type": "markdown",
   "id": "4c488a27",
   "metadata": {},
   "source": [
    "## Building Complex Models Using the Functional API"
   ]
  },
  {
   "cell_type": "code",
   "execution_count": 48,
   "id": "d41f6f24",
   "metadata": {},
   "outputs": [],
   "source": [
    "class WideAndDeep(nn.Module):\n",
    "    def __init__(self):\n",
    "        super().__init__()\n",
    "        self.hidden_layer1 = nn.Linear(in_features=8, out_features=30)\n",
    "        self.relu = nn.ReLU()\n",
    "        self.hidden_layer2 = nn.Linear(in_features=30, out_features=30)\n",
    "        self.output_layer = nn.Linear(in_features=38, out_features=1)\n",
    "    \n",
    "    def forward(self, x):\n",
    "        z = self.relu(self.hidden_layer1(x))\n",
    "        z = self.relu(self.hidden_layer2(z))\n",
    "        w = torch.cat((x, z), dim=-1)\n",
    "        return self.output_layer(w)"
   ]
  },
  {
   "cell_type": "code",
   "execution_count": 49,
   "id": "5d3a2f13",
   "metadata": {},
   "outputs": [],
   "source": [
    "widedeep = WideAndDeep()\n",
    "widedeep.apply(init_weights)\n",
    "widedeep = widedeep.to(device)"
   ]
  },
  {
   "cell_type": "markdown",
   "id": "a90428cb",
   "metadata": {},
   "source": [
    "Note that we need to create another optimizer, as the existing one has been trained on a different architecture."
   ]
  },
  {
   "cell_type": "code",
   "execution_count": 50,
   "id": "8cf1cf31",
   "metadata": {},
   "outputs": [],
   "source": [
    "wnd_optim = optim.Adam(widedeep.parameters(), lr=1e-3, eps=1e-7)"
   ]
  },
  {
   "cell_type": "code",
   "execution_count": 51,
   "id": "445a9987",
   "metadata": {},
   "outputs": [
    {
     "name": "stdout",
     "output_type": "stream",
     "text": [
      "\n",
      " ----- Epoch 1 -----\n",
      "Train Loss: 1.1853\n",
      "Validation Loss: 0.67669\n",
      "\n",
      " ----- Epoch 2 -----\n",
      "Train Loss: 0.44997\n",
      "Validation Loss: 0.38968\n",
      "\n",
      " ----- Epoch 3 -----\n",
      "Train Loss: 0.39356\n",
      "Validation Loss: 0.35445\n",
      "\n",
      " ----- Epoch 4 -----\n",
      "Train Loss: 0.36832\n",
      "Validation Loss: 0.4875\n",
      "\n",
      " ----- Epoch 5 -----\n",
      "Train Loss: 0.35712\n",
      "Validation Loss: 0.35604\n",
      "\n",
      " ----- Epoch 6 -----\n",
      "Train Loss: 0.34796\n",
      "Validation Loss: 0.33302\n",
      "\n",
      " ----- Epoch 7 -----\n",
      "Train Loss: 0.33967\n",
      "Validation Loss: 0.42444\n",
      "\n",
      " ----- Epoch 8 -----\n",
      "Train Loss: 0.33522\n",
      "Validation Loss: 1.9243\n",
      "\n",
      " ----- Epoch 9 -----\n",
      "Train Loss: 0.33862\n",
      "Validation Loss: 3.0885\n",
      "\n",
      " ----- Epoch 10 -----\n",
      "Train Loss: 0.3588\n",
      "Validation Loss: 1.915\n",
      "\n",
      " ----- Epoch 11 -----\n",
      "Train Loss: 0.3326\n",
      "Validation Loss: 3.8271\n",
      "\n",
      " ----- Epoch 12 -----\n",
      "Train Loss: 0.35038\n",
      "Validation Loss: 1.4098\n",
      "\n",
      " ----- Epoch 13 -----\n",
      "Train Loss: 0.32446\n",
      "Validation Loss: 1.9612\n",
      "\n",
      " ----- Epoch 14 -----\n",
      "Train Loss: 0.32261\n",
      "Validation Loss: 1.2074\n",
      "\n",
      " ----- Epoch 15 -----\n",
      "Train Loss: 0.32098\n",
      "Validation Loss: 1.7509\n",
      "\n",
      " ----- Epoch 16 -----\n",
      "Train Loss: 0.32051\n",
      "Validation Loss: 1.0638\n",
      "\n",
      " ----- Epoch 17 -----\n",
      "Train Loss: 0.31646\n",
      "Validation Loss: 2.1845\n",
      "\n",
      " ----- Epoch 18 -----\n",
      "Train Loss: 0.3187\n",
      "Validation Loss: 1.4048\n",
      "\n",
      " ----- Epoch 19 -----\n",
      "Train Loss: 0.31782\n",
      "Validation Loss: 1.6842\n",
      "\n",
      " ----- Epoch 20 -----\n",
      "Train Loss: 0.31187\n",
      "Validation Loss: 0.6615\n"
     ]
    }
   ],
   "source": [
    "for epoch in range(20):\n",
    "    print(f'\\n ----- Epoch {epoch+1} -----')\n",
    "    train_regression(train_loader, widedeep, loss_fn, wnd_optim)\n",
    "    eval_regression(valid_loader, widedeep, loss_fn)"
   ]
  },
  {
   "attachments": {},
   "cell_type": "markdown",
   "id": "04cfb561",
   "metadata": {},
   "source": [
    "### Sending inputs through two different paths\n",
    "\n",
    "The next example HOML3 sends features 0 to 4 to the wide path and features 2 to 7 through the deep path as shown below:\n",
    "\n",
    "![wide_deep](img/mls3_1015.png)\n",
    "\n",
    "To make this work we need to:\n",
    "\n",
    "1. Modify the Dataset so that it returns two inputs and one target.\n",
    "2. Modify the model so that it has two inputs.\n",
    "\n",
    "In this case, since there is only one output, the loss is unchanged. The source code for TensorDataset can be found [here](https://github.com/pytorch/pytorch/blob/03de15806e5d27ee4ef6d82dbcc66dac78f6e3bf/torch/utils/data/dataset.py#L193).\n",
    "\n",
    "We just need to redefine `__getitem__()` and we don't need to touch `__init__()`. Our modified implementation returns a tuple containing a tuple of inputs and the output tensor."
   ]
  },
  {
   "cell_type": "code",
   "execution_count": 52,
   "id": "22ac3eea",
   "metadata": {},
   "outputs": [],
   "source": [
    "class WideAndDeepDataset(TensorDataset):\n",
    "    def __getitem__(self, index):\n",
    "        x, y = self.tensors\n",
    "        return (x[index, :5], x[index, 2:], y[index])"
   ]
  },
  {
   "cell_type": "code",
   "execution_count": 53,
   "id": "a8c32b51",
   "metadata": {},
   "outputs": [],
   "source": [
    "wnd_train_dset = WideAndDeepDataset(x_tensor_train, y_tensor_train)\n",
    "wnd_valid_dset = WideAndDeepDataset(x_tensor_valid, y_tensor_valid)\n",
    "wnd_test_dset = WideAndDeepDataset(x_tensor_test, y_tensor_test)"
   ]
  },
  {
   "cell_type": "code",
   "execution_count": 54,
   "id": "90771006",
   "metadata": {},
   "outputs": [],
   "source": [
    "wnd_train_loader = DataLoader(wnd_train_dset, batch_size, shuffle=True)\n",
    "wnd_valid_loader = DataLoader(wnd_valid_dset, batch_size, shuffle=False)\n",
    "wnd_test_loader = DataLoader(wnd_test_dset, batch_size, shuffle=False)"
   ]
  },
  {
   "cell_type": "code",
   "execution_count": 55,
   "id": "b71c8ead",
   "metadata": {},
   "outputs": [],
   "source": [
    "class WideAndDeepTwoInputs(nn.Module):\n",
    "    # x_wide contains 5 features. x_deep contains 6\n",
    "    def __init__(self):\n",
    "        super().__init__()\n",
    "        self.hidden_layer1 = nn.Linear(in_features=6, out_features=30)\n",
    "        self.relu = nn.ReLU()\n",
    "        self.hidden_layer2 = nn.Linear(in_features=30, out_features=30)\n",
    "        self.output_layer = nn.Linear(in_features=35, out_features=1)\n",
    "    \n",
    "    def forward(self, x_wide, x_deep):\n",
    "        x_deep = self.relu(self.hidden_layer1(x_deep))\n",
    "        x_deep = self.relu(self.hidden_layer2(x_deep))\n",
    "        w = torch.cat((x_wide, x_deep), dim=-1)\n",
    "        return self.output_layer(w)"
   ]
  },
  {
   "cell_type": "code",
   "execution_count": 56,
   "id": "c6cf11e3",
   "metadata": {},
   "outputs": [],
   "source": [
    "model_two_inputs = WideAndDeepTwoInputs()\n",
    "model_two_inputs.apply(init_weights)\n",
    "model_two_inputs = model_two_inputs.to(device)"
   ]
  },
  {
   "cell_type": "code",
   "execution_count": 57,
   "id": "7418c3d2",
   "metadata": {},
   "outputs": [],
   "source": [
    "def train_two_inputs(dataloader, model, loss_fn, optimizer):\n",
    "    total_loss = 0\n",
    "    num_obs = len(dataloader.dataset)\n",
    "    num_batches = len(dataloader)\n",
    "    model.train()\n",
    "    for batch, (x_wide, x_deep, y) in enumerate(dataloader):\n",
    "        x_wide, x_deep, y = x_wide.to(device), x_deep.to(device), y.to(device)\n",
    "        preds = model(x_wide, x_deep)\n",
    "        batch_loss = loss_fn(preds, y)\n",
    "        total_loss += batch_loss.item()\n",
    "        batch_loss.backward()\n",
    "        optimizer.step()\n",
    "        optimizer.zero_grad()\n",
    "    print(f\"Train Loss: {total_loss/num_batches:>.5}\")"
   ]
  },
  {
   "cell_type": "code",
   "execution_count": 58,
   "id": "ed5fe9b6",
   "metadata": {},
   "outputs": [],
   "source": [
    "def eval_two_inputs(dataloader, model, loss_fn):\n",
    "    total_loss = 0\n",
    "    num_obs = len(dataloader.dataset)\n",
    "    num_batches = len(dataloader)\n",
    "    model.eval()\n",
    "    with torch.no_grad():\n",
    "        for x_wide, x_deep, y in dataloader:\n",
    "            x_wide, x_deep, y = x_wide.to(device), x_deep.to(device), y.to(device)\n",
    "            preds = model(x_wide, x_deep)\n",
    "            total_loss += loss_fn(preds, y).item()\n",
    "        print(f'Validation Loss: {total_loss/num_batches:>.5}')"
   ]
  },
  {
   "cell_type": "code",
   "execution_count": 59,
   "id": "84f52118",
   "metadata": {},
   "outputs": [],
   "source": [
    "wnd_optim_two_inputs = optim.Adam(model_two_inputs.parameters(), lr=1e-3, eps=1e-7)"
   ]
  },
  {
   "cell_type": "code",
   "execution_count": 60,
   "id": "d67f5a11",
   "metadata": {},
   "outputs": [
    {
     "name": "stdout",
     "output_type": "stream",
     "text": [
      "\n",
      "----- Epoch: 1 -----\n",
      "Train Loss: 1.7308\n",
      "Validation Loss: 0.82043\n",
      "\n",
      "----- Epoch: 2 -----\n",
      "Train Loss: 0.53574\n",
      "Validation Loss: 0.76607\n",
      "\n",
      "----- Epoch: 3 -----\n",
      "Train Loss: 0.44516\n",
      "Validation Loss: 0.45189\n",
      "\n",
      "----- Epoch: 4 -----\n",
      "Train Loss: 0.42589\n",
      "Validation Loss: 0.40792\n",
      "\n",
      "----- Epoch: 5 -----\n",
      "Train Loss: 0.39487\n",
      "Validation Loss: 0.6785\n",
      "\n",
      "----- Epoch: 6 -----\n",
      "Train Loss: 0.38849\n",
      "Validation Loss: 0.64042\n",
      "\n",
      "----- Epoch: 7 -----\n",
      "Train Loss: 0.37544\n",
      "Validation Loss: 5.0535\n",
      "\n",
      "----- Epoch: 8 -----\n",
      "Train Loss: 0.39214\n",
      "Validation Loss: 2.7496\n",
      "\n",
      "----- Epoch: 9 -----\n",
      "Train Loss: 0.38007\n",
      "Validation Loss: 2.6884\n",
      "\n",
      "----- Epoch: 10 -----\n",
      "Train Loss: 0.37568\n",
      "Validation Loss: 3.959\n",
      "\n",
      "----- Epoch: 11 -----\n",
      "Train Loss: 0.39184\n",
      "Validation Loss: 1.7122\n",
      "\n",
      "----- Epoch: 12 -----\n",
      "Train Loss: 0.36096\n",
      "Validation Loss: 1.4377\n",
      "\n",
      "----- Epoch: 13 -----\n",
      "Train Loss: 0.35708\n",
      "Validation Loss: 1.1323\n",
      "\n",
      "----- Epoch: 14 -----\n",
      "Train Loss: 0.35312\n",
      "Validation Loss: 0.78477\n",
      "\n",
      "----- Epoch: 15 -----\n",
      "Train Loss: 0.34501\n",
      "Validation Loss: 0.95389\n",
      "\n",
      "----- Epoch: 16 -----\n",
      "Train Loss: 0.34736\n",
      "Validation Loss: 0.67227\n",
      "\n",
      "----- Epoch: 17 -----\n",
      "Train Loss: 0.34284\n",
      "Validation Loss: 0.6848\n",
      "\n",
      "----- Epoch: 18 -----\n",
      "Train Loss: 0.34312\n",
      "Validation Loss: 1.3253\n",
      "\n",
      "----- Epoch: 19 -----\n",
      "Train Loss: 0.33997\n",
      "Validation Loss: 1.9801\n",
      "\n",
      "----- Epoch: 20 -----\n",
      "Train Loss: 0.3476\n",
      "Validation Loss: 2.2867\n"
     ]
    }
   ],
   "source": [
    "for epoch in range(20):\n",
    "    print(f\"\\n----- Epoch: {epoch+1} -----\")\n",
    "    train_two_inputs(wnd_train_loader, model_two_inputs, loss_fn, wnd_optim_two_inputs)\n",
    "    eval_two_inputs(wnd_valid_loader, model_two_inputs, loss_fn)"
   ]
  },
  {
   "cell_type": "markdown",
   "id": "d531c2d6",
   "metadata": {},
   "source": [
    "### Multiple inputs and multiple outputs\n",
    "\n",
    "![multiple_outputs](img/multioutput.png)\n",
    "\n",
    "The model now returns two outputs which go into two separate losses that are then added together."
   ]
  },
  {
   "cell_type": "code",
   "execution_count": 61,
   "id": "bdb4aadd",
   "metadata": {},
   "outputs": [],
   "source": [
    "class MulitpleOutputsModel(nn.Module):\n",
    "    def __init__(self):\n",
    "        super().__init__()\n",
    "        self.hidden_layer1 = nn.Linear(in_features=6, out_features=30)\n",
    "        self.relu = nn.ReLU()\n",
    "        self.hidden_layer2 = nn.Linear(in_features=30, out_features=30)\n",
    "        self.output_layer = nn.Linear(in_features=35, out_features=1)\n",
    "        self.aux_output = nn.Linear(in_features=30, out_features=1)\n",
    "    \n",
    "    def forward(self, x_wide, x_deep):\n",
    "        x_deep = self.relu(self.hidden_layer1(x_deep))\n",
    "        x_deep = self.relu(self.hidden_layer2(x_deep))\n",
    "        main_out = self.output_layer(torch.cat((x_wide, x_deep), dim=-1))\n",
    "        aux_out = self.aux_output(x_deep)\n",
    "        return main_out, aux_out"
   ]
  },
  {
   "cell_type": "code",
   "execution_count": 62,
   "id": "e2d5a80b",
   "metadata": {},
   "outputs": [],
   "source": [
    "multi_output_model = MulitpleOutputsModel()\n",
    "multi_output_model.apply(init_weights)\n",
    "multi_output_model = multi_output_model.to(device)"
   ]
  },
  {
   "cell_type": "code",
   "execution_count": 63,
   "id": "80021159",
   "metadata": {},
   "outputs": [],
   "source": [
    "multi_output_optim = optim.Adam(multi_output_model.parameters(), eps=1e-7)"
   ]
  },
  {
   "cell_type": "code",
   "execution_count": 64,
   "id": "9b339fc7",
   "metadata": {},
   "outputs": [],
   "source": [
    "def train_two_outputs(dataloader, model, loss_fn, optimizer, weights):\n",
    "    total_loss = 0\n",
    "    num_obs = len(dataloader.dataset)\n",
    "    num_batches = len(dataloader)\n",
    "    model.train()\n",
    "    for batch, (x_wide, x_deep, y) in enumerate(dataloader):\n",
    "        x_wide, x_deep, y = x_wide.to(device), x_deep.to(device), y.to(device)\n",
    "        main_preds, aux_preds = model(x_wide, x_deep)\n",
    "        main_loss, aux_loss = loss_fn(main_preds, y), loss_fn(aux_preds, y)\n",
    "        batch_loss = weights[0]*main_loss + weights[1]*aux_loss\n",
    "        total_loss += batch_loss.item()\n",
    "        batch_loss.backward()\n",
    "        optimizer.step()\n",
    "        optimizer.zero_grad()\n",
    "    print(f\"Train Loss: {total_loss/num_batches:>.5}\")"
   ]
  },
  {
   "cell_type": "code",
   "execution_count": 65,
   "id": "0c1e1a26",
   "metadata": {},
   "outputs": [],
   "source": [
    "def eval_two_outputs(dataloader, model, loss_fn, weights):\n",
    "    total_loss = 0\n",
    "    num_obs = len(dataloader.dataset)\n",
    "    num_batches = len(dataloader)\n",
    "    model.eval()\n",
    "    with torch.no_grad():\n",
    "        for x_wide, x_deep, y in dataloader:\n",
    "            x_wide, x_deep, y = x_wide.to(device), x_deep.to(device), y.to(device)\n",
    "            main_preds, aux_preds = model(x_wide, x_deep)\n",
    "            main_loss, aux_loss = loss_fn(main_preds, y), loss_fn(aux_preds, y)\n",
    "            batch_loss = weights[0]*main_loss + weights[1]*aux_loss\n",
    "            total_loss += batch_loss.item()\n",
    "        out_loss = total_loss / num_batches\n",
    "        print(f'Validation Loss: {out_loss:>.5}')\n",
    "    return out_loss"
   ]
  },
  {
   "cell_type": "code",
   "execution_count": 66,
   "id": "8faffe37",
   "metadata": {},
   "outputs": [
    {
     "name": "stdout",
     "output_type": "stream",
     "text": [
      "\n",
      "----- Epoch: 1 -----\n",
      "Train Loss: 1.216\n",
      "Validation Loss: 0.98379\n",
      "\n",
      "----- Epoch: 2 -----\n",
      "Train Loss: 0.47435\n",
      "Validation Loss: 0.87124\n",
      "\n",
      "----- Epoch: 3 -----\n",
      "Train Loss: 0.4347\n",
      "Validation Loss: 0.51954\n",
      "\n",
      "----- Epoch: 4 -----\n",
      "Train Loss: 0.42014\n",
      "Validation Loss: 1.1647\n",
      "\n",
      "----- Epoch: 5 -----\n",
      "Train Loss: 0.42987\n",
      "Validation Loss: 1.3167\n",
      "\n",
      "----- Epoch: 6 -----\n",
      "Train Loss: 0.40963\n",
      "Validation Loss: 0.76537\n",
      "\n",
      "----- Epoch: 7 -----\n",
      "Train Loss: 0.39271\n",
      "Validation Loss: 0.36858\n",
      "\n",
      "----- Epoch: 8 -----\n",
      "Train Loss: 0.37555\n",
      "Validation Loss: 0.463\n",
      "\n",
      "----- Epoch: 9 -----\n",
      "Train Loss: 0.3679\n",
      "Validation Loss: 0.57672\n",
      "\n",
      "----- Epoch: 10 -----\n",
      "Train Loss: 0.37029\n",
      "Validation Loss: 0.66761\n",
      "\n",
      "----- Epoch: 11 -----\n",
      "Train Loss: 0.37054\n",
      "Validation Loss: 0.94435\n",
      "\n",
      "----- Epoch: 12 -----\n",
      "Train Loss: 0.35667\n",
      "Validation Loss: 0.8061\n",
      "\n",
      "----- Epoch: 13 -----\n",
      "Train Loss: 0.35229\n",
      "Validation Loss: 1.0195\n",
      "\n",
      "----- Epoch: 14 -----\n",
      "Train Loss: 0.35483\n",
      "Validation Loss: 0.58288\n",
      "\n",
      "----- Epoch: 15 -----\n",
      "Train Loss: 0.35088\n",
      "Validation Loss: 0.65632\n",
      "\n",
      "----- Epoch: 16 -----\n",
      "Train Loss: 0.34793\n",
      "Validation Loss: 0.82769\n",
      "\n",
      "----- Epoch: 17 -----\n",
      "Train Loss: 0.34214\n",
      "Validation Loss: 0.88726\n",
      "\n",
      "----- Epoch: 18 -----\n",
      "Train Loss: 0.34115\n",
      "Validation Loss: 0.6148\n",
      "\n",
      "----- Epoch: 19 -----\n",
      "Train Loss: 0.33767\n",
      "Validation Loss: 0.65026\n",
      "\n",
      "----- Epoch: 20 -----\n",
      "Train Loss: 0.33515\n",
      "Validation Loss: 0.66952\n"
     ]
    }
   ],
   "source": [
    "weights = (0.9, 0.1)\n",
    "for epoch in range(20):\n",
    "    print(f\"\\n----- Epoch: {epoch+1} -----\")\n",
    "    train_two_outputs(wnd_train_loader, multi_output_model, loss_fn, multi_output_optim, weights)\n",
    "    eval_two_outputs(wnd_valid_loader, multi_output_model, loss_fn, weights)"
   ]
  },
  {
   "cell_type": "markdown",
   "id": "127e740c",
   "metadata": {},
   "source": [
    "## Saving and Restoring a Model\n",
    "\n",
    "In PyTorch one can save only the learnable weights or both the model and the weights. Full details are given in [this tutorial](https://pytorch.org/tutorials/beginner/saving_loading_models.html). In both cases, the function to use is `torch.save()`, which serializes its input via pickle. Learnable parameters and *registered buffers* (e.g., the running mean in batch normalization) are stored in the `state_dict()`. Note that optimizers have their own `.state_dict()`."
   ]
  },
  {
   "cell_type": "code",
   "execution_count": 67,
   "id": "793b3999",
   "metadata": {},
   "outputs": [
    {
     "data": {
      "text/plain": [
       "{'hidden_layer1.weight': torch.Size([30, 6]),\n",
       " 'hidden_layer1.bias': torch.Size([30]),\n",
       " 'hidden_layer2.weight': torch.Size([30, 30]),\n",
       " 'hidden_layer2.bias': torch.Size([30]),\n",
       " 'output_layer.weight': torch.Size([1, 35]),\n",
       " 'output_layer.bias': torch.Size([1]),\n",
       " 'aux_output.weight': torch.Size([1, 30]),\n",
       " 'aux_output.bias': torch.Size([1])}"
      ]
     },
     "execution_count": 67,
     "metadata": {},
     "output_type": "execute_result"
    }
   ],
   "source": [
    "{k: v.shape for k, v in multi_output_model.state_dict().items()}"
   ]
  },
  {
   "cell_type": "code",
   "execution_count": 68,
   "id": "a77a1c65",
   "metadata": {},
   "outputs": [
    {
     "data": {
      "text/plain": [
       "dict_keys(['state', 'param_groups'])"
      ]
     },
     "execution_count": 68,
     "metadata": {},
     "output_type": "execute_result"
    }
   ],
   "source": [
    "multi_output_optim.state_dict().keys()"
   ]
  },
  {
   "cell_type": "code",
   "execution_count": 69,
   "id": "3507fd7f",
   "metadata": {},
   "outputs": [
    {
     "data": {
      "text/plain": [
       "dict_keys([0, 1, 2, 3, 4, 5, 6, 7])"
      ]
     },
     "execution_count": 69,
     "metadata": {},
     "output_type": "execute_result"
    }
   ],
   "source": [
    "multi_output_optim.state_dict()['state'].keys()"
   ]
  },
  {
   "cell_type": "code",
   "execution_count": 70,
   "id": "f0c546d2",
   "metadata": {},
   "outputs": [
    {
     "data": {
      "text/plain": [
       "[{'lr': 0.001,\n",
       "  'betas': (0.9, 0.999),\n",
       "  'eps': 1e-07,\n",
       "  'weight_decay': 0,\n",
       "  'amsgrad': False,\n",
       "  'maximize': False,\n",
       "  'foreach': None,\n",
       "  'capturable': False,\n",
       "  'differentiable': False,\n",
       "  'fused': None,\n",
       "  'params': [0, 1, 2, 3, 4, 5, 6, 7]}]"
      ]
     },
     "execution_count": 70,
     "metadata": {},
     "output_type": "execute_result"
    }
   ],
   "source": [
    "multi_output_optim.state_dict()['param_groups']"
   ]
  },
  {
   "cell_type": "markdown",
   "id": "b4ccd0df",
   "metadata": {},
   "source": [
    "To save a `state_dict` to a `PATH` use\n",
    "\n",
    "```python\n",
    "torch.save(model.state_dict(), PATH)\n",
    "```\n",
    "\n",
    "To load the model you must first deserialize the dictionary from `PATH` via `torch.load()`, and then load the dictionary (NOT the path) into the model's state dictionary, as shown below.\n",
    "\n",
    "```python\n",
    "model.load_state_dict(torch.load(PATH))\n",
    "```\n",
    "\n",
    "### Important! Dereferencing the best model\n",
    "\n",
    "If you only plan to keep the best performing model (according to the acquired validation loss), don’t forget that `best_model_state = model.state_dict()` returns a **reference** to the state and not its copy! You must serialize best_model_state or use `best_model_state = deepcopy(model.state_dict())` otherwise your best best_model_state will keep getting updated by the subsequent training iterations. As a result, the final model state will be the state of the overfitted model.\n",
    "\n",
    "### Saving and loading multiple models at once\n",
    "\n",
    "```python\n",
    "# ----- Saving -----\n",
    "torch.save({\n",
    "            'modelA_state_dict': modelA.state_dict(),\n",
    "            'modelB_state_dict': modelB.state_dict(),\n",
    "            'optimizerA_state_dict': optimizerA.state_dict(),\n",
    "            'optimizerB_state_dict': optimizerB.state_dict(),\n",
    "            ...\n",
    "            }, PATH)\n",
    "\n",
    "# ----- Loading -----\n",
    "modelA = TheModelAClass(*args, **kwargs)\n",
    "modelB = TheModelBClass(*args, **kwargs)\n",
    "optimizerA = TheOptimizerAClass(*args, **kwargs)\n",
    "optimizerB = TheOptimizerBClass(*args, **kwargs)\n",
    "\n",
    "checkpoint = torch.load(PATH)\n",
    "modelA.load_state_dict(checkpoint['modelA_state_dict'])\n",
    "modelB.load_state_dict(checkpoint['modelB_state_dict'])\n",
    "optimizerA.load_state_dict(checkpoint['optimizerA_state_dict'])\n",
    "optimizerB.load_state_dict(checkpoint['optimizerB_state_dict'])\n",
    "\n",
    "modelA.eval()\n",
    "modelB.eval()\n",
    "# - or -\n",
    "modelA.train()\n",
    "modelB.train()\n",
    "\n",
    "```\n",
    "\n",
    "Look the documentation for [warmstarting using a different model](https://pytorch.org/tutorials/beginner/saving_loading_models.html#warmstarting-model-using-parameters-from-a-different-model).\n",
    "\n",
    "## Using Callbacks\n",
    "\n",
    "There are no callbacks in plain PyTorch, but we can obtain the same results with a bit of work.\n",
    "\n",
    "### Model Checkpoint\n",
    "\n",
    "Read this [page](https://pytorch.org/tutorials/recipes/recipes/saving_and_loading_a_general_checkpoint.html) to learn about general checkpointing in PyTorch. To be able to fully recover the state of a model you may want to save\n",
    "\n",
    "1. The model's `state_dict`.\n",
    "2. The optimizer's `state_dict`.\n",
    "3. The epoch.\n",
    "4. The latest recorded training loss.\n",
    "\n",
    "We have complete freedom to store all the information we want in the checkpoint. For example, we may want to structure it as follows:"
   ]
  },
  {
   "cell_type": "code",
   "execution_count": 71,
   "id": "5fbc3cea",
   "metadata": {},
   "outputs": [],
   "source": [
    "from pathlib import Path\n",
    "cp_dir = Path('checkpoints')\n",
    "cp_dir.mkdir(exist_ok=True)\n",
    "cp_path = cp_dir / 'checkpoint.pth'\n",
    "\n",
    "epoch = 20\n",
    "train_loss = 0.33783\n",
    "valid_loss = 0.69521\n",
    "\n",
    "\n",
    "torch.save({\n",
    "    'epoch': epoch,\n",
    "    'model_state_dict': multi_output_model.state_dict(),\n",
    "    'optimizer_state_dict': multi_output_optim.state_dict(),\n",
    "    'train_loss': train_loss,\n",
    "    'valid_loss': valid_loss\n",
    "}, cp_path)"
   ]
  },
  {
   "cell_type": "code",
   "execution_count": 72,
   "id": "dc6da7a1",
   "metadata": {},
   "outputs": [
    {
     "name": "stdout",
     "output_type": "stream",
     "text": [
      "total 24\r\n",
      "-rw-rw-r-- 1 giovenko giovenko 23339 May 20 16:15 checkpoint.pth\r\n"
     ]
    }
   ],
   "source": [
    "!ls -l checkpoints/"
   ]
  },
  {
   "cell_type": "markdown",
   "id": "8d0d14b6",
   "metadata": {},
   "source": [
    "### Early Stopping\n",
    "\n",
    "In early stopping we check the performance of a model in terms of validation loss, and if the loss has not improved for a number $n$ of epochs, we stop the training. We refer to $n$ as *patience*.\n",
    "\n",
    "In order to implement early stopping we therefore need to:\n",
    "\n",
    "1. Get the desired patient (int).\n",
    "2. Have a counter that keeps track of the number of epochs since the last minimum validation loss.\n",
    "3. Storage for the best epoch and the best validation loss.\n",
    "4. A mechanism to save a checkpoint every time a new minimum validation loss is achieved.\n"
   ]
  },
  {
   "cell_type": "code",
   "execution_count": 73,
   "id": "e40f3c72",
   "metadata": {},
   "outputs": [],
   "source": [
    "class EarlyStopping:\n",
    "    def __init__(self, patience=5):\n",
    "        self.patience = patience\n",
    "        self.best_loss = np.inf\n",
    "        self.best_epoch = np.inf\n",
    "        self.epochs_since_best = 0\n",
    "        \n",
    "    def stop_early(self, epoch, valid_loss):\n",
    "        if valid_loss < self.best_loss:\n",
    "            self.best_loss = valid_loss\n",
    "            self.best_epoch = epoch\n",
    "            self.epochs_since_best = 0\n",
    "        else:\n",
    "            self.epochs_since_best += 1\n",
    "            if self.epochs_since_best == self.patience:\n",
    "                return True\n",
    "        return False"
   ]
  },
  {
   "cell_type": "code",
   "execution_count": 74,
   "id": "fd93e164",
   "metadata": {},
   "outputs": [],
   "source": [
    "multi_output_optim = optim.Adam(multi_output_model.parameters(), eps=1e-7)"
   ]
  },
  {
   "cell_type": "code",
   "execution_count": 75,
   "id": "e76bb2fd",
   "metadata": {},
   "outputs": [
    {
     "name": "stdout",
     "output_type": "stream",
     "text": [
      "\n",
      "----- Epoch: 1 -----\n",
      "Train Loss: 0.33697\n",
      "Validation Loss: 0.50446\n",
      "\n",
      "----- Epoch: 2 -----\n",
      "Train Loss: 0.3305\n",
      "Validation Loss: 1.1231\n",
      "\n",
      "----- Epoch: 3 -----\n",
      "Train Loss: 0.33434\n",
      "Validation Loss: 0.60446\n",
      "\n",
      "----- Epoch: 4 -----\n",
      "Train Loss: 0.33188\n",
      "Validation Loss: 0.71849\n",
      "\n",
      "----- Epoch: 5 -----\n",
      "Train Loss: 0.32739\n",
      "Validation Loss: 0.45381\n",
      "\n",
      "----- Epoch: 6 -----\n",
      "Train Loss: 0.32892\n",
      "Validation Loss: 0.807\n",
      "\n",
      "----- Epoch: 7 -----\n",
      "Train Loss: 0.33477\n",
      "Validation Loss: 0.5289\n",
      "\n",
      "----- Epoch: 8 -----\n",
      "Train Loss: 0.32655\n",
      "Validation Loss: 0.59588\n",
      "\n",
      "----- Epoch: 9 -----\n",
      "Train Loss: 0.32397\n",
      "Validation Loss: 0.33751\n",
      "\n",
      "----- Epoch: 10 -----\n",
      "Train Loss: 0.31995\n",
      "Validation Loss: 0.34055\n",
      "\n",
      "----- Epoch: 11 -----\n",
      "Train Loss: 0.32795\n",
      "Validation Loss: 0.31695\n",
      "\n",
      "----- Epoch: 12 -----\n",
      "Train Loss: 0.32118\n",
      "Validation Loss: 0.30978\n",
      "\n",
      "----- Epoch: 13 -----\n",
      "Train Loss: 0.32118\n",
      "Validation Loss: 0.39125\n",
      "\n",
      "----- Epoch: 14 -----\n",
      "Train Loss: 0.32002\n",
      "Validation Loss: 0.32176\n",
      "\n",
      "----- Epoch: 15 -----\n",
      "Train Loss: 0.31795\n",
      "Validation Loss: 0.32378\n",
      "\n",
      "----- Epoch: 16 -----\n",
      "Train Loss: 0.31616\n",
      "Validation Loss: 0.36227\n",
      "\n",
      "----- Epoch: 17 -----\n",
      "Train Loss: 0.32065\n",
      "Validation Loss: 0.49104\n"
     ]
    }
   ],
   "source": [
    "weights = (0.9, 0.1)\n",
    "early_stopping = EarlyStopping()\n",
    "\n",
    "for epoch in range(100):\n",
    "    print(f\"\\n----- Epoch: {epoch+1} -----\")\n",
    "    train_two_outputs(wnd_train_loader, multi_output_model, loss_fn, multi_output_optim, weights)\n",
    "    valid_loss = eval_two_outputs(wnd_valid_loader, multi_output_model, loss_fn, weights)\n",
    "    if early_stopping.stop_early(epoch, valid_loss):\n",
    "        break"
   ]
  },
  {
   "cell_type": "markdown",
   "id": "cbf78cad",
   "metadata": {},
   "source": [
    "## Using TensorBoard\n",
    "\n",
    "TO CHECK: tensorboard runs fine inside a colab notebook, but I didn't manage to make it run inside jupyter because of some authentication issues. Check how to fix this. The commands I added were:\n",
    "\n",
    "```\n",
    "%load_ext tensorboard\n",
    "%tensorboard --logdir=./runs\n",
    "```"
   ]
  },
  {
   "cell_type": "code",
   "execution_count": 76,
   "id": "12f203b5",
   "metadata": {},
   "outputs": [
    {
     "name": "stdout",
     "output_type": "stream",
     "text": [
      "\n",
      "----- Epoch: 1 -----\n",
      "Train Loss: 0.31981\n",
      "Validation Loss: 0.32612\n",
      "\n",
      "----- Epoch: 2 -----\n",
      "Train Loss: 0.31697\n",
      "Validation Loss: 0.44084\n",
      "\n",
      "----- Epoch: 3 -----\n",
      "Train Loss: 0.315\n",
      "Validation Loss: 0.31956\n",
      "\n",
      "----- Epoch: 4 -----\n",
      "Train Loss: 0.31264\n",
      "Validation Loss: 0.44518\n",
      "\n",
      "----- Epoch: 5 -----\n",
      "Train Loss: 0.3129\n",
      "Validation Loss: 0.41059\n",
      "\n",
      "----- Epoch: 6 -----\n",
      "Train Loss: 0.32542\n",
      "Validation Loss: 0.50554\n",
      "\n",
      "----- Epoch: 7 -----\n",
      "Train Loss: 0.31735\n",
      "Validation Loss: 0.49812\n",
      "\n",
      "----- Epoch: 8 -----\n",
      "Train Loss: 0.31118\n",
      "Validation Loss: 0.485\n",
      "\n",
      "----- Epoch: 9 -----\n",
      "Train Loss: 0.30901\n",
      "Validation Loss: 0.32526\n",
      "\n",
      "----- Epoch: 10 -----\n",
      "Train Loss: 0.31156\n",
      "Validation Loss: 0.31697\n",
      "\n",
      "----- Epoch: 11 -----\n",
      "Train Loss: 0.30832\n",
      "Validation Loss: 0.47582\n",
      "\n",
      "----- Epoch: 12 -----\n",
      "Train Loss: 0.30746\n",
      "Validation Loss: 0.38116\n",
      "\n",
      "----- Epoch: 13 -----\n",
      "Train Loss: 0.30627\n",
      "Validation Loss: 0.29644\n",
      "\n",
      "----- Epoch: 14 -----\n",
      "Train Loss: 0.30588\n",
      "Validation Loss: 0.31179\n",
      "\n",
      "----- Epoch: 15 -----\n",
      "Train Loss: 0.30666\n",
      "Validation Loss: 0.31057\n",
      "\n",
      "----- Epoch: 16 -----\n",
      "Train Loss: 0.30784\n",
      "Validation Loss: 0.46307\n",
      "\n",
      "----- Epoch: 17 -----\n",
      "Train Loss: 0.30644\n",
      "Validation Loss: 0.90901\n",
      "\n",
      "----- Epoch: 18 -----\n",
      "Train Loss: 0.30535\n",
      "Validation Loss: 1.0641\n",
      "\n",
      "----- Epoch: 19 -----\n",
      "Train Loss: 0.31083\n",
      "Validation Loss: 0.59555\n",
      "\n",
      "----- Epoch: 20 -----\n",
      "Train Loss: 0.30425\n",
      "Validation Loss: 0.57414\n"
     ]
    }
   ],
   "source": [
    "multi_output_optim = optim.Adam(multi_output_model.parameters(), eps=1e-7)\n",
    "writer = SummaryWriter()\n",
    "\n",
    "for epoch in range(20):\n",
    "    print(f\"\\n----- Epoch: {epoch+1} -----\")\n",
    "    train_two_outputs(wnd_train_loader, multi_output_model, loss_fn, multi_output_optim, weights)\n",
    "    valid_loss = eval_two_outputs(wnd_valid_loader, multi_output_model, loss_fn, weights)\n",
    "    writer.add_scalar('Validation Loss', valid_loss, epoch)"
   ]
  },
  {
   "cell_type": "code",
   "execution_count": 77,
   "id": "147953c4",
   "metadata": {},
   "outputs": [],
   "source": [
    "writer.flush()"
   ]
  },
  {
   "cell_type": "code",
   "execution_count": 78,
   "id": "d61a19fb",
   "metadata": {},
   "outputs": [
    {
     "data": {
      "text/html": [
       "\n",
       "      <iframe id=\"tensorboard-frame-cb2f68a6b50e26a0\" width=\"100%\" height=\"800\" frameborder=\"0\">\n",
       "      </iframe>\n",
       "      <script>\n",
       "        (function() {\n",
       "          const frame = document.getElementById(\"tensorboard-frame-cb2f68a6b50e26a0\");\n",
       "          const url = new URL(\"/\", window.location);\n",
       "          const port = 6006;\n",
       "          if (port) {\n",
       "            url.port = port;\n",
       "          }\n",
       "          frame.src = url;\n",
       "        })();\n",
       "      </script>\n",
       "    "
      ],
      "text/plain": [
       "<IPython.core.display.HTML object>"
      ]
     },
     "metadata": {},
     "output_type": "display_data"
    }
   ],
   "source": [
    "%load_ext tensorboard\n",
    "%tensorboard --logdir=./runs"
   ]
  },
  {
   "cell_type": "code",
   "execution_count": null,
   "id": "0205e10a",
   "metadata": {},
   "outputs": [],
   "source": []
  }
 ],
 "metadata": {
  "kernelspec": {
   "display_name": "Python 3 (ipykernel)",
   "language": "python",
   "name": "python3"
  },
  "language_info": {
   "codemirror_mode": {
    "name": "ipython",
    "version": 3
   },
   "file_extension": ".py",
   "mimetype": "text/x-python",
   "name": "python",
   "nbconvert_exporter": "python",
   "pygments_lexer": "ipython3",
   "version": "3.11.3"
  }
 },
 "nbformat": 4,
 "nbformat_minor": 5
}
