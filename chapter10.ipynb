{
 "cells": [
  {
   "cell_type": "markdown",
   "id": "9bfe6779",
   "metadata": {},
   "source": [
    "# Chapter 10\n",
    "\n",
    "## Building an Image Classifier Using the Sequential API"
   ]
  },
  {
   "cell_type": "code",
   "execution_count": 1,
   "id": "8601b225",
   "metadata": {},
   "outputs": [],
   "source": [
    "import numpy as np\n",
    "import matplotlib.pyplot as plt\n",
    "from sklearn.datasets import fetch_california_housing\n",
    "from sklearn.model_selection import train_test_split\n",
    "import torch\n",
    "import torch.nn as nn\n",
    "import torch.optim as optim\n",
    "from torch.utils.data import Dataset, DataLoader, TensorDataset, Subset\n",
    "from torchvision.datasets import FashionMNIST\n",
    "from torchvision.transforms import ToTensor"
   ]
  },
  {
   "cell_type": "code",
   "execution_count": 2,
   "id": "e76b9c26",
   "metadata": {},
   "outputs": [],
   "source": [
    "root_dir = 'data'\n",
    "full_train_dset = FashionMNIST(root=root_dir,\n",
    "                               train=True,\n",
    "                               download=True,\n",
    "                               transform=ToTensor())\n",
    "test_dset = FashionMNIST(root=root_dir,\n",
    "                         train=False,\n",
    "                         download=True,\n",
    "                         transform=ToTensor())"
   ]
  },
  {
   "cell_type": "code",
   "execution_count": 3,
   "id": "d30ae606",
   "metadata": {},
   "outputs": [],
   "source": [
    "device = 'cuda'\n",
    "if torch.cuda.device_count() == 2:\n",
    "    torch.cuda.set_device(1)"
   ]
  },
  {
   "cell_type": "code",
   "execution_count": 4,
   "id": "5a4c46a8",
   "metadata": {},
   "outputs": [],
   "source": [
    "train_dset = Subset(full_train_dset, indices=range(55000))\n",
    "valid_dset = Subset(full_train_dset, indices=range(55000, 60000))"
   ]
  },
  {
   "cell_type": "code",
   "execution_count": 5,
   "id": "e39bf7be",
   "metadata": {},
   "outputs": [
    {
     "data": {
      "text/plain": [
       "(55000, 5000)"
      ]
     },
     "execution_count": 5,
     "metadata": {},
     "output_type": "execute_result"
    }
   ],
   "source": [
    "len(train_dset), len(valid_dset)"
   ]
  },
  {
   "cell_type": "code",
   "execution_count": 6,
   "id": "1f761d0d",
   "metadata": {},
   "outputs": [],
   "source": [
    "batch_size = 32 # Default batch size on keras"
   ]
  },
  {
   "cell_type": "code",
   "execution_count": 7,
   "id": "bef43a9d",
   "metadata": {},
   "outputs": [],
   "source": [
    "train_loader = DataLoader(train_dset, batch_size=batch_size, shuffle=True)\n",
    "valid_loader = DataLoader(valid_dset, batch_size=batch_size, shuffle=False)\n",
    "test_loader = DataLoader(test_dset, batch_size=batch_size, shuffle=False)"
   ]
  },
  {
   "cell_type": "markdown",
   "id": "78e5f4d3",
   "metadata": {},
   "source": [
    "## Normalization\n",
    "\n",
    "In Geron's book the data are normalized by dividing by 255. The `ToTensor()` transform added to the Dataset definition takes care of this automatically."
   ]
  },
  {
   "cell_type": "code",
   "execution_count": 8,
   "id": "97c94788",
   "metadata": {},
   "outputs": [],
   "source": [
    "img, tgt = next(iter(valid_loader))"
   ]
  },
  {
   "cell_type": "code",
   "execution_count": 9,
   "id": "788b4c9c",
   "metadata": {},
   "outputs": [
    {
     "data": {
      "text/plain": [
       "tensor(1.)"
      ]
     },
     "execution_count": 9,
     "metadata": {},
     "output_type": "execute_result"
    }
   ],
   "source": [
    "img.max()"
   ]
  },
  {
   "cell_type": "code",
   "execution_count": 10,
   "id": "cd6fe9c5",
   "metadata": {},
   "outputs": [],
   "source": [
    "class_names = [\"T-shirt/top\", \"Trouser\", \"Pullover\", \"Dress\", \"Coat\",\n",
    "               \"Sandal\", \"Shirt\", \"Sneaker\", \"Bag\", \"Ankle boot\"]"
   ]
  },
  {
   "cell_type": "code",
   "execution_count": 11,
   "id": "02309bb1",
   "metadata": {},
   "outputs": [],
   "source": [
    "class MyModel(nn.Module):\n",
    "    def __init__(self):\n",
    "        super().__init__()\n",
    "        self.sequential_model = nn.Sequential(\n",
    "            nn.Flatten(),\n",
    "            nn.Linear(in_features=784, out_features=300),\n",
    "            nn.ReLU(),\n",
    "            nn.Linear(in_features=300, out_features=100),\n",
    "            nn.ReLU(),\n",
    "            nn.Linear(in_features=100, out_features=10))\n",
    "    \n",
    "    def forward(self, x):\n",
    "        return self.sequential_model(x)"
   ]
  },
  {
   "cell_type": "code",
   "execution_count": 12,
   "id": "c057db0b",
   "metadata": {},
   "outputs": [
    {
     "data": {
      "text/plain": [
       "MyModel(\n",
       "  (sequential_model): Sequential(\n",
       "    (0): Flatten(start_dim=1, end_dim=-1)\n",
       "    (1): Linear(in_features=784, out_features=300, bias=True)\n",
       "    (2): ReLU()\n",
       "    (3): Linear(in_features=300, out_features=100, bias=True)\n",
       "    (4): ReLU()\n",
       "    (5): Linear(in_features=100, out_features=10, bias=True)\n",
       "  )\n",
       ")"
      ]
     },
     "execution_count": 12,
     "metadata": {},
     "output_type": "execute_result"
    }
   ],
   "source": [
    "classif_model = MyModel()\n",
    "classif_model"
   ]
  },
  {
   "cell_type": "code",
   "execution_count": 13,
   "id": "e5596b34",
   "metadata": {},
   "outputs": [
    {
     "data": {
      "text/plain": [
       "tensor(0.0025, grad_fn=<SelectBackward0>)"
      ]
     },
     "execution_count": 13,
     "metadata": {},
     "output_type": "execute_result"
    }
   ],
   "source": [
    "classif_model.sequential_model[1].bias[0]"
   ]
  },
  {
   "cell_type": "code",
   "execution_count": 14,
   "id": "22176dd6",
   "metadata": {},
   "outputs": [
    {
     "data": {
      "text/plain": [
       "tensor([-0.0172, -0.0012,  0.0147, -0.0222,  0.0215, -0.0214,  0.0159,  0.0212,\n",
       "         0.0188, -0.0332], grad_fn=<SliceBackward0>)"
      ]
     },
     "execution_count": 14,
     "metadata": {},
     "output_type": "execute_result"
    }
   ],
   "source": [
    "classif_model.sequential_model[1].weight[0, :10]"
   ]
  },
  {
   "cell_type": "markdown",
   "id": "a3ce2bc7",
   "metadata": {},
   "source": [
    "## Weight initialization\n",
    "\n",
    "In Keras weights in a dense layer are, [by default](https://www.tensorflow.org/api_docs/python/tf/keras/layers/Dense), initialized with a Glorot Uniform initialization.\n",
    "\n",
    "In Pytorch weights in a linear layer are, [by default](https://pytorch.org/docs/stable/generated/torch.nn.Linear.html#torch.nn.Linear) initialized with a uniform distribution with  U(−k,k) where k=1/in_features. This is essentially a LeCun uniform initialization. Note that in PyTorch, Glorot initialization is called Xavier initialization."
   ]
  },
  {
   "cell_type": "code",
   "execution_count": 15,
   "id": "e9437ebd",
   "metadata": {},
   "outputs": [],
   "source": [
    "@torch.no_grad()\n",
    "def init_weights(m):\n",
    "    if isinstance(m, nn.Linear):\n",
    "        torch.nn.init.xavier_uniform_(m.weight)\n",
    "        m.bias.data.fill_(0.)"
   ]
  },
  {
   "cell_type": "code",
   "execution_count": 16,
   "id": "cf40d666",
   "metadata": {},
   "outputs": [
    {
     "data": {
      "text/plain": [
       "MyModel(\n",
       "  (sequential_model): Sequential(\n",
       "    (0): Flatten(start_dim=1, end_dim=-1)\n",
       "    (1): Linear(in_features=784, out_features=300, bias=True)\n",
       "    (2): ReLU()\n",
       "    (3): Linear(in_features=300, out_features=100, bias=True)\n",
       "    (4): ReLU()\n",
       "    (5): Linear(in_features=100, out_features=10, bias=True)\n",
       "  )\n",
       ")"
      ]
     },
     "execution_count": 16,
     "metadata": {},
     "output_type": "execute_result"
    }
   ],
   "source": [
    "classif_model.apply(init_weights)"
   ]
  },
  {
   "cell_type": "code",
   "execution_count": 17,
   "id": "b19df074",
   "metadata": {},
   "outputs": [
    {
     "data": {
      "text/plain": [
       "tensor(0., grad_fn=<SelectBackward0>)"
      ]
     },
     "execution_count": 17,
     "metadata": {},
     "output_type": "execute_result"
    }
   ],
   "source": [
    "classif_model.sequential_model[1].bias[0]"
   ]
  },
  {
   "cell_type": "code",
   "execution_count": 18,
   "id": "cecb27f1",
   "metadata": {},
   "outputs": [
    {
     "data": {
      "text/plain": [
       "tensor([-0.0434,  0.0522,  0.0365, -0.0370, -0.0265,  0.0726,  0.0289,  0.0270,\n",
       "        -0.0580, -0.0119], grad_fn=<SliceBackward0>)"
      ]
     },
     "execution_count": 18,
     "metadata": {},
     "output_type": "execute_result"
    }
   ],
   "source": [
    "classif_model.sequential_model[1].weight[0, :10]"
   ]
  },
  {
   "cell_type": "markdown",
   "id": "7f506245",
   "metadata": {},
   "source": [
    "Both the bias and the weight look different. We assume that we are using the same initialization approach as Keras.\n",
    "\n",
    "The Keras model has a final softmax activation. If we use PyTorch cross-entropy loss, the softmax is fused in the loss, so we don't need to include it."
   ]
  },
  {
   "cell_type": "code",
   "execution_count": 19,
   "id": "74120b9a",
   "metadata": {},
   "outputs": [
    {
     "data": {
      "text/plain": [
       "MyModel(\n",
       "  (sequential_model): Sequential(\n",
       "    (0): Flatten(start_dim=1, end_dim=-1)\n",
       "    (1): Linear(in_features=784, out_features=300, bias=True)\n",
       "    (2): ReLU()\n",
       "    (3): Linear(in_features=300, out_features=100, bias=True)\n",
       "    (4): ReLU()\n",
       "    (5): Linear(in_features=100, out_features=10, bias=True)\n",
       "  )\n",
       ")"
      ]
     },
     "execution_count": 19,
     "metadata": {},
     "output_type": "execute_result"
    }
   ],
   "source": [
    "classif_model.to(device)"
   ]
  },
  {
   "cell_type": "code",
   "execution_count": 20,
   "id": "9d87bcba",
   "metadata": {},
   "outputs": [],
   "source": [
    "loss_fn = torch.nn.CrossEntropyLoss()"
   ]
  },
  {
   "cell_type": "markdown",
   "id": "4b844b7f",
   "metadata": {},
   "source": [
    "## Optimizers\n",
    "\n",
    "The example in Geron's book uses the \"sgd\" optimizer, which I suspect corresponds to the [default settings](https://www.tensorflow.org/api_docs/python/tf/keras/optimizers/experimental/SGD), i.e., lr = 0.01 and momentum = 0.0."
   ]
  },
  {
   "cell_type": "code",
   "execution_count": 21,
   "id": "7487429d",
   "metadata": {},
   "outputs": [],
   "source": [
    "classif_optim = optim.SGD(classif_model.parameters(), lr=0.01, momentum=0.0)"
   ]
  },
  {
   "cell_type": "code",
   "execution_count": 22,
   "id": "e26dc5f2",
   "metadata": {},
   "outputs": [],
   "source": [
    "def train(dataloader, model, loss_fn, optimizer):\n",
    "    num_obs = len(dataloader.dataset)\n",
    "    model.train()\n",
    "    for batch, (x, y) in enumerate(dataloader):\n",
    "        x, y = x.to(device), y.to(device)\n",
    "        preds = model(x)\n",
    "        batch_loss = loss_fn(preds, y)\n",
    "        batch_loss.backward()\n",
    "        optimizer.step()\n",
    "        optimizer.zero_grad()\n",
    "        if batch % 250 == 0:\n",
    "            print(f'Train loss: {batch_loss.item():>.5}')"
   ]
  },
  {
   "cell_type": "code",
   "execution_count": 23,
   "id": "67df4fd5",
   "metadata": {},
   "outputs": [],
   "source": [
    "def validate(dataloader, model, loss_fn):\n",
    "    num_batches = len(dataloader)\n",
    "    num_obs = len(dataloader.dataset)\n",
    "    total_loss = 0\n",
    "    correct = 0\n",
    "    model.eval()\n",
    "    with torch.no_grad():\n",
    "        for x, y in dataloader:\n",
    "            x, y = x.to(device), y.to(device)\n",
    "            preds = model(x)\n",
    "            total_loss += loss_fn(preds, y).item()\n",
    "            correct += (preds.argmax(1) == y).type(torch.float).sum().item()\n",
    "    avg_batch_loss = total_loss / num_batches\n",
    "    accuracy = correct / num_obs\n",
    "    print('Validation:')\n",
    "    print(f'\\nAverage loss: {avg_batch_loss:>.5} - Accuracy: {accuracy:>.3}')\n",
    "    return avg_batch_loss, accuracy"
   ]
  },
  {
   "cell_type": "code",
   "execution_count": 24,
   "id": "ffd85440",
   "metadata": {},
   "outputs": [],
   "source": [
    "epochs = 30"
   ]
  },
  {
   "cell_type": "code",
   "execution_count": 25,
   "id": "9aef7cd1",
   "metadata": {},
   "outputs": [
    {
     "name": "stdout",
     "output_type": "stream",
     "text": [
      "\n",
      "----- Epoch: 1 -----\n",
      "\n",
      "Train loss: 2.3564\n",
      "Train loss: 0.78182\n",
      "Train loss: 0.7641\n",
      "Train loss: 0.66306\n",
      "Train loss: 0.78993\n",
      "Train loss: 0.5127\n",
      "Train loss: 0.42563\n",
      "Validation:\n",
      "\n",
      "Average loss: 0.50528 - Accuracy: 0.823\n",
      "\n",
      "----- Epoch: 2 -----\n",
      "\n",
      "Train loss: 0.48282\n",
      "Train loss: 0.31914\n",
      "Train loss: 0.50171\n",
      "Train loss: 0.59217\n",
      "Train loss: 0.23079\n",
      "Train loss: 0.69483\n",
      "Train loss: 0.3701\n",
      "Validation:\n",
      "\n",
      "Average loss: 0.47227 - Accuracy: 0.835\n",
      "\n",
      "----- Epoch: 3 -----\n",
      "\n",
      "Train loss: 0.2188\n",
      "Train loss: 0.4403\n",
      "Train loss: 0.38261\n",
      "Train loss: 0.44017\n",
      "Train loss: 0.89349\n",
      "Train loss: 0.48471\n",
      "Train loss: 0.39363\n",
      "Validation:\n",
      "\n",
      "Average loss: 0.4271 - Accuracy: 0.848\n",
      "\n",
      "----- Epoch: 4 -----\n",
      "\n",
      "Train loss: 0.4441\n",
      "Train loss: 0.34227\n",
      "Train loss: 0.29001\n",
      "Train loss: 0.35759\n",
      "Train loss: 0.60983\n",
      "Train loss: 0.68696\n",
      "Train loss: 0.39053\n",
      "Validation:\n",
      "\n",
      "Average loss: 0.40234 - Accuracy: 0.858\n",
      "\n",
      "----- Epoch: 5 -----\n",
      "\n",
      "Train loss: 0.67423\n",
      "Train loss: 0.51525\n",
      "Train loss: 0.14682\n",
      "Train loss: 0.31169\n",
      "Train loss: 0.30618\n",
      "Train loss: 0.2535\n",
      "Train loss: 0.3592\n",
      "Validation:\n",
      "\n",
      "Average loss: 0.40496 - Accuracy: 0.859\n",
      "\n",
      "----- Epoch: 6 -----\n",
      "\n",
      "Train loss: 0.4726\n",
      "Train loss: 0.42249\n",
      "Train loss: 0.23039\n",
      "Train loss: 0.24503\n",
      "Train loss: 0.36028\n",
      "Train loss: 0.33082\n",
      "Train loss: 0.43162\n",
      "Validation:\n",
      "\n",
      "Average loss: 0.38266 - Accuracy: 0.862\n",
      "\n",
      "----- Epoch: 7 -----\n",
      "\n",
      "Train loss: 0.23392\n",
      "Train loss: 0.43364\n",
      "Train loss: 0.32125\n",
      "Train loss: 0.41345\n",
      "Train loss: 0.35469\n",
      "Train loss: 0.54036\n",
      "Train loss: 0.39586\n",
      "Validation:\n",
      "\n",
      "Average loss: 0.39129 - Accuracy: 0.863\n",
      "\n",
      "----- Epoch: 8 -----\n",
      "\n",
      "Train loss: 0.14673\n",
      "Train loss: 0.40252\n",
      "Train loss: 0.55578\n",
      "Train loss: 0.26917\n",
      "Train loss: 0.24059\n",
      "Train loss: 0.59532\n",
      "Train loss: 0.23437\n",
      "Validation:\n",
      "\n",
      "Average loss: 0.35315 - Accuracy: 0.872\n",
      "\n",
      "----- Epoch: 9 -----\n",
      "\n",
      "Train loss: 0.39361\n",
      "Train loss: 0.39648\n",
      "Train loss: 0.34082\n",
      "Train loss: 0.18236\n",
      "Train loss: 0.26833\n",
      "Train loss: 0.19812\n",
      "Train loss: 0.26873\n",
      "Validation:\n",
      "\n",
      "Average loss: 0.35524 - Accuracy: 0.871\n",
      "\n",
      "----- Epoch: 10 -----\n",
      "\n",
      "Train loss: 0.35538\n",
      "Train loss: 0.36151\n",
      "Train loss: 0.25045\n",
      "Train loss: 0.48182\n",
      "Train loss: 0.45314\n",
      "Train loss: 0.20641\n",
      "Train loss: 0.39638\n",
      "Validation:\n",
      "\n",
      "Average loss: 0.35468 - Accuracy: 0.874\n",
      "\n",
      "----- Epoch: 11 -----\n",
      "\n",
      "Train loss: 0.2792\n",
      "Train loss: 0.18488\n",
      "Train loss: 0.23901\n",
      "Train loss: 0.4002\n",
      "Train loss: 0.082395\n",
      "Train loss: 0.41489\n",
      "Train loss: 0.40072\n",
      "Validation:\n",
      "\n",
      "Average loss: 0.34727 - Accuracy: 0.877\n",
      "\n",
      "----- Epoch: 12 -----\n",
      "\n",
      "Train loss: 0.45162\n",
      "Train loss: 0.15087\n",
      "Train loss: 0.24638\n",
      "Train loss: 0.31179\n",
      "Train loss: 0.74361\n",
      "Train loss: 0.33302\n",
      "Train loss: 0.46301\n",
      "Validation:\n",
      "\n",
      "Average loss: 0.33908 - Accuracy: 0.874\n",
      "\n",
      "----- Epoch: 13 -----\n",
      "\n",
      "Train loss: 0.1627\n",
      "Train loss: 0.42594\n",
      "Train loss: 0.45738\n",
      "Train loss: 0.20708\n",
      "Train loss: 0.68612\n",
      "Train loss: 0.38477\n",
      "Train loss: 0.47661\n",
      "Validation:\n",
      "\n",
      "Average loss: 0.33097 - Accuracy: 0.878\n",
      "\n",
      "----- Epoch: 14 -----\n",
      "\n",
      "Train loss: 0.39816\n",
      "Train loss: 0.2911\n",
      "Train loss: 0.14559\n",
      "Train loss: 0.24984\n",
      "Train loss: 0.22532\n",
      "Train loss: 0.18221\n",
      "Train loss: 0.43713\n",
      "Validation:\n",
      "\n",
      "Average loss: 0.33173 - Accuracy: 0.878\n",
      "\n",
      "----- Epoch: 15 -----\n",
      "\n",
      "Train loss: 0.2891\n",
      "Train loss: 0.22879\n",
      "Train loss: 0.40927\n",
      "Train loss: 0.31544\n",
      "Train loss: 0.28742\n",
      "Train loss: 0.2766\n",
      "Train loss: 0.24043\n",
      "Validation:\n",
      "\n",
      "Average loss: 0.3313 - Accuracy: 0.876\n",
      "\n",
      "----- Epoch: 16 -----\n",
      "\n",
      "Train loss: 0.26386\n",
      "Train loss: 0.25789\n",
      "Train loss: 0.16215\n",
      "Train loss: 0.2472\n",
      "Train loss: 0.32295\n",
      "Train loss: 0.082783\n",
      "Train loss: 0.4308\n",
      "Validation:\n",
      "\n",
      "Average loss: 0.32785 - Accuracy: 0.881\n",
      "\n",
      "----- Epoch: 17 -----\n",
      "\n",
      "Train loss: 0.26025\n",
      "Train loss: 0.29956\n",
      "Train loss: 0.3997\n",
      "Train loss: 0.20842\n",
      "Train loss: 0.43676\n",
      "Train loss: 0.18444\n",
      "Train loss: 0.10524\n",
      "Validation:\n",
      "\n",
      "Average loss: 0.32799 - Accuracy: 0.88\n",
      "\n",
      "----- Epoch: 18 -----\n",
      "\n",
      "Train loss: 0.22304\n",
      "Train loss: 0.27169\n",
      "Train loss: 0.23467\n",
      "Train loss: 0.25723\n",
      "Train loss: 0.17928\n",
      "Train loss: 0.098955\n",
      "Train loss: 0.1276\n",
      "Validation:\n",
      "\n",
      "Average loss: 0.32188 - Accuracy: 0.88\n",
      "\n",
      "----- Epoch: 19 -----\n",
      "\n",
      "Train loss: 0.22864\n",
      "Train loss: 0.30093\n",
      "Train loss: 0.38262\n",
      "Train loss: 0.1672\n",
      "Train loss: 0.16403\n",
      "Train loss: 0.098334\n",
      "Train loss: 0.28281\n",
      "Validation:\n",
      "\n",
      "Average loss: 0.31832 - Accuracy: 0.882\n",
      "\n",
      "----- Epoch: 20 -----\n",
      "\n",
      "Train loss: 0.30543\n",
      "Train loss: 0.1652\n",
      "Train loss: 0.041258\n",
      "Train loss: 0.14907\n",
      "Train loss: 0.219\n",
      "Train loss: 0.17628\n",
      "Train loss: 0.13203\n",
      "Validation:\n",
      "\n",
      "Average loss: 0.32649 - Accuracy: 0.881\n",
      "\n",
      "----- Epoch: 21 -----\n",
      "\n",
      "Train loss: 0.16708\n",
      "Train loss: 0.47525\n",
      "Train loss: 0.41136\n",
      "Train loss: 0.13398\n",
      "Train loss: 0.21565\n",
      "Train loss: 0.24865\n",
      "Train loss: 0.17426\n",
      "Validation:\n",
      "\n",
      "Average loss: 0.33949 - Accuracy: 0.875\n",
      "\n",
      "----- Epoch: 22 -----\n",
      "\n",
      "Train loss: 0.10476\n",
      "Train loss: 0.19401\n",
      "Train loss: 0.17725\n",
      "Train loss: 0.23121\n",
      "Train loss: 0.27434\n",
      "Train loss: 0.14029\n",
      "Train loss: 0.13689\n",
      "Validation:\n",
      "\n",
      "Average loss: 0.31168 - Accuracy: 0.883\n",
      "\n",
      "----- Epoch: 23 -----\n",
      "\n",
      "Train loss: 0.32519\n",
      "Train loss: 0.3036\n",
      "Train loss: 0.2987\n",
      "Train loss: 0.081709\n",
      "Train loss: 0.18478\n",
      "Train loss: 0.14603\n",
      "Train loss: 0.19315\n",
      "Validation:\n",
      "\n",
      "Average loss: 0.31219 - Accuracy: 0.882\n",
      "\n",
      "----- Epoch: 24 -----\n",
      "\n",
      "Train loss: 0.28752\n",
      "Train loss: 0.27447\n",
      "Train loss: 0.2017\n",
      "Train loss: 0.23241\n",
      "Train loss: 0.20218\n",
      "Train loss: 0.30046\n",
      "Train loss: 0.22079\n",
      "Validation:\n",
      "\n",
      "Average loss: 0.34482 - Accuracy: 0.88\n",
      "\n",
      "----- Epoch: 25 -----\n",
      "\n",
      "Train loss: 0.37166\n",
      "Train loss: 0.13567\n",
      "Train loss: 0.25272\n",
      "Train loss: 0.1536\n",
      "Train loss: 0.35768\n",
      "Train loss: 0.20928\n",
      "Train loss: 0.22217\n",
      "Validation:\n",
      "\n",
      "Average loss: 0.31073 - Accuracy: 0.888\n",
      "\n",
      "----- Epoch: 26 -----\n",
      "\n",
      "Train loss: 0.15358\n",
      "Train loss: 0.41244\n",
      "Train loss: 0.32244\n",
      "Train loss: 0.064346\n",
      "Train loss: 0.14729\n",
      "Train loss: 0.22991\n",
      "Train loss: 0.092884\n",
      "Validation:\n",
      "\n",
      "Average loss: 0.31292 - Accuracy: 0.882\n",
      "\n",
      "----- Epoch: 27 -----\n",
      "\n",
      "Train loss: 0.22994\n",
      "Train loss: 0.2356\n",
      "Train loss: 0.31959\n",
      "Train loss: 0.16331\n",
      "Train loss: 0.3645\n",
      "Train loss: 0.22555\n",
      "Train loss: 0.19686\n",
      "Validation:\n",
      "\n",
      "Average loss: 0.31557 - Accuracy: 0.886\n",
      "\n",
      "----- Epoch: 28 -----\n",
      "\n",
      "Train loss: 0.30572\n",
      "Train loss: 0.13329\n",
      "Train loss: 0.19707\n",
      "Train loss: 0.16435\n",
      "Train loss: 0.10638\n",
      "Train loss: 0.49719\n",
      "Train loss: 0.11681\n",
      "Validation:\n",
      "\n",
      "Average loss: 0.315 - Accuracy: 0.883\n",
      "\n",
      "----- Epoch: 29 -----\n",
      "\n",
      "Train loss: 0.21836\n",
      "Train loss: 0.1509\n",
      "Train loss: 0.31929\n",
      "Train loss: 0.30399\n",
      "Train loss: 0.22517\n",
      "Train loss: 0.21371\n",
      "Train loss: 0.16829\n",
      "Validation:\n",
      "\n",
      "Average loss: 0.30298 - Accuracy: 0.889\n",
      "\n",
      "----- Epoch: 30 -----\n",
      "\n",
      "Train loss: 0.2175\n",
      "Train loss: 0.5188\n",
      "Train loss: 0.11899\n",
      "Train loss: 0.055857\n",
      "Train loss: 0.097997\n",
      "Train loss: 0.20755\n",
      "Train loss: 0.099952\n",
      "Validation:\n",
      "\n",
      "Average loss: 0.33048 - Accuracy: 0.883\n"
     ]
    }
   ],
   "source": [
    "test_loss, test_accuracy = [], []\n",
    "\n",
    "for epoch in range(epochs):\n",
    "    print(f'\\n----- Epoch: {epoch+1} -----\\n')\n",
    "    train(train_loader, classif_model, loss_fn, classif_optim)\n",
    "    loss, acc = validate(valid_loader, classif_model, loss_fn)\n",
    "    test_loss.append(loss)\n",
    "    test_accuracy.append(acc)"
   ]
  },
  {
   "cell_type": "markdown",
   "id": "2fbe0520",
   "metadata": {},
   "source": [
    "This is very similar to the performance shown in Geron's book."
   ]
  },
  {
   "cell_type": "code",
   "execution_count": 26,
   "id": "c8bcfcd7",
   "metadata": {},
   "outputs": [
    {
     "data": {
      "image/png": "[encoded data removed]",
      "text/plain": [
       "<Figure size 640x480 with 1 Axes>"
      ]
     },
     "metadata": {},
     "output_type": "display_data"
    }
   ],
   "source": [
    "plt.plot(np.arange(30), test_accuracy, 'r-', label='Validation accuracy')\n",
    "plt.plot(np.arange(30), test_loss, 'b-', label='Validation loss')\n",
    "plt.grid()\n",
    "plt.xlabel('Epoch')\n",
    "plt.legend()\n",
    "plt.show()"
   ]
  },
  {
   "cell_type": "markdown",
   "id": "5aa42855",
   "metadata": {},
   "source": [
    "### Performance on the test set"
   ]
  },
  {
   "cell_type": "code",
   "execution_count": 27,
   "id": "246cc0ca",
   "metadata": {},
   "outputs": [],
   "source": [
    "def get_test_performance(dataloader, model):\n",
    "    test_accuracy = 0\n",
    "    correct = 0\n",
    "    model.eval()\n",
    "    with torch.no_grad():\n",
    "        for x, y in dataloader:\n",
    "            x, y = x.to(device), y.to(device)\n",
    "            preds = model(x)\n",
    "            correct += (preds.argmax(1) == y).type(torch.float32).sum().item()\n",
    "    return correct / len(dataloader.dataset)"
   ]
  },
  {
   "cell_type": "code",
   "execution_count": 28,
   "id": "c13e9632",
   "metadata": {},
   "outputs": [
    {
     "data": {
      "text/plain": [
       "0.8731"
      ]
     },
     "execution_count": 28,
     "metadata": {},
     "output_type": "execute_result"
    }
   ],
   "source": [
    "get_test_performance(test_loader, classif_model)"
   ]
  },
  {
   "cell_type": "markdown",
   "id": "49df76ea",
   "metadata": {},
   "source": [
    "## Building a Regression MLP Using the Sequential API\n",
    "\n",
    "For this example we use the California Housing dataset. After creating a training, validation, and test set, we must normalize the data and organize them into dataloaders.\n",
    "\n",
    "**Note**: in HOML3 the loss is the mean squared error (MSE), but the metric is the root mean squared error (RMSE), therefore to go from the loss to the metric, you have to take the square root of the loss. Our loss and the loss in HOML3 should be directly comparable."
   ]
  },
  {
   "cell_type": "code",
   "execution_count": 29,
   "id": "3999407f",
   "metadata": {},
   "outputs": [],
   "source": [
    "housing = fetch_california_housing()\n",
    "x_train_full, x_test, y_train_full, y_test = train_test_split(\n",
    "    housing.data, housing.target, random_state=42)\n",
    "x_train, x_valid, y_train, y_valid = train_test_split(\n",
    "    x_train_full, y_train_full, random_state=42)"
   ]
  },
  {
   "cell_type": "code",
   "execution_count": 30,
   "id": "25dd2e80",
   "metadata": {},
   "outputs": [
    {
     "data": {
      "text/plain": [
       "((11610, 8), (3870, 8), (5160, 8))"
      ]
     },
     "execution_count": 30,
     "metadata": {},
     "output_type": "execute_result"
    }
   ],
   "source": [
    "x_train.shape, x_valid.shape, x_test.shape"
   ]
  },
  {
   "cell_type": "code",
   "execution_count": 31,
   "id": "cdde54a7",
   "metadata": {},
   "outputs": [
    {
     "data": {
      "text/plain": [
       "array([ 3.52140000e+00,  1.50000000e+01,  3.04994451e+00,  1.10654828e+00,\n",
       "        1.44700000e+03,  1.60599334e+00,  3.76300000e+01, -1.22430000e+02])"
      ]
     },
     "execution_count": 31,
     "metadata": {},
     "output_type": "execute_result"
    }
   ],
   "source": [
    "x_train[0]"
   ]
  },
  {
   "cell_type": "markdown",
   "id": "bd0adc10",
   "metadata": {},
   "source": [
    "The data is clearly not normalized."
   ]
  },
  {
   "cell_type": "code",
   "execution_count": 32,
   "id": "e51e94c7",
   "metadata": {},
   "outputs": [
    {
     "data": {
      "text/plain": [
       "(-124.35, 16305.0, -124.27, 35682.0, -124.25, 16122.0)"
      ]
     },
     "execution_count": 32,
     "metadata": {},
     "output_type": "execute_result"
    }
   ],
   "source": [
    "x_train.min(), x_train.max(), x_valid.min(), x_valid.max(), x_test.min(), x_test.max()"
   ]
  },
  {
   "cell_type": "code",
   "execution_count": 33,
   "id": "04183e8d",
   "metadata": {},
   "outputs": [
    {
     "data": {
      "text/plain": [
       "((8,), (8,))"
      ]
     },
     "execution_count": 33,
     "metadata": {},
     "output_type": "execute_result"
    }
   ],
   "source": [
    "means, std_devs = x_train.mean(axis=0), x_train.std(axis=0)\n",
    "means.shape, std_devs.shape"
   ]
  },
  {
   "cell_type": "code",
   "execution_count": 34,
   "id": "b396fdad",
   "metadata": {},
   "outputs": [],
   "source": [
    "z_train = ((x_train - means) / std_devs).astype(np.float32)\n",
    "z_valid = ((x_valid - means) / std_devs).astype(np.float32)\n",
    "z_test = ((x_test - means) / std_devs).astype(np.float32)"
   ]
  },
  {
   "cell_type": "code",
   "execution_count": 35,
   "id": "411e407f",
   "metadata": {},
   "outputs": [
    {
     "data": {
      "text/plain": [
       "dtype('float32')"
      ]
     },
     "execution_count": 35,
     "metadata": {},
     "output_type": "execute_result"
    }
   ],
   "source": [
    "z_test.dtype"
   ]
  },
  {
   "cell_type": "code",
   "execution_count": 36,
   "id": "9218bb21",
   "metadata": {},
   "outputs": [
    {
     "data": {
      "text/plain": [
       "(2.4642746e-10, 1.0, 0.021390013, 3.6403675, -0.004968547, 0.99959093)"
      ]
     },
     "execution_count": 36,
     "metadata": {},
     "output_type": "execute_result"
    }
   ],
   "source": [
    "z_train.mean(), z_train.std(), z_valid.mean(), z_valid.std(), z_test.mean(), z_test.std()"
   ]
  },
  {
   "cell_type": "code",
   "execution_count": 37,
   "id": "a990127b",
   "metadata": {},
   "outputs": [],
   "source": [
    "x_tensor_train = torch.FloatTensor(z_train)\n",
    "y_tensor_train = torch.FloatTensor(y_train).unsqueeze(-1)\n",
    "x_tensor_valid = torch.FloatTensor(z_valid)\n",
    "y_tensor_valid = torch.FloatTensor(y_valid).unsqueeze(-1)\n",
    "x_tensor_test = torch.FloatTensor(z_test)\n",
    "y_tensor_test = torch.FloatTensor(y_test).unsqueeze(-1)"
   ]
  },
  {
   "cell_type": "code",
   "execution_count": 38,
   "id": "563ecc5c",
   "metadata": {},
   "outputs": [
    {
     "data": {
      "text/plain": [
       "(tensor(0.0214), tensor(3.6404))"
      ]
     },
     "execution_count": 38,
     "metadata": {},
     "output_type": "execute_result"
    }
   ],
   "source": [
    "x_tensor_valid.mean(), x_tensor_valid.std()"
   ]
  },
  {
   "cell_type": "code",
   "execution_count": 39,
   "id": "2a75419e",
   "metadata": {},
   "outputs": [],
   "source": [
    "train_dset = TensorDataset(x_tensor_train, y_tensor_train)\n",
    "valid_dset = TensorDataset(x_tensor_valid, y_tensor_valid)\n",
    "test_dset = TensorDataset(x_tensor_test, y_tensor_test)"
   ]
  },
  {
   "cell_type": "code",
   "execution_count": 40,
   "id": "e522ffc0",
   "metadata": {},
   "outputs": [],
   "source": [
    "train_loader = DataLoader(train_dset, batch_size=batch_size, shuffle=True)\n",
    "valid_loader = DataLoader(valid_dset, batch_size=batch_size, shuffle=False)\n",
    "test_loader = DataLoader(test_dset, batch_size=batch_size, shuffle=False)"
   ]
  },
  {
   "cell_type": "code",
   "execution_count": 41,
   "id": "3852c8cd",
   "metadata": {},
   "outputs": [],
   "source": [
    "class RegressionModel(nn.Module):\n",
    "    def __init__(self):\n",
    "        super().__init__()\n",
    "        self.sequential_model = nn.Sequential(\n",
    "            nn.Linear(in_features=8, out_features=50),\n",
    "            nn.ReLU(),\n",
    "            nn.Linear(in_features=50, out_features=50),\n",
    "            nn.ReLU(),\n",
    "            nn.Linear(in_features=50, out_features=50),\n",
    "            nn.ReLU(),\n",
    "            nn.Linear(in_features=50, out_features=1))\n",
    "    \n",
    "    def forward(self, x):\n",
    "        return self.sequential_model(x)"
   ]
  },
  {
   "cell_type": "markdown",
   "id": "78749533",
   "metadata": {},
   "source": [
    "### Weight initialization"
   ]
  },
  {
   "cell_type": "code",
   "execution_count": 42,
   "id": "52aa1245",
   "metadata": {},
   "outputs": [
    {
     "data": {
      "text/plain": [
       "RegressionModel(\n",
       "  (sequential_model): Sequential(\n",
       "    (0): Linear(in_features=8, out_features=50, bias=True)\n",
       "    (1): ReLU()\n",
       "    (2): Linear(in_features=50, out_features=50, bias=True)\n",
       "    (3): ReLU()\n",
       "    (4): Linear(in_features=50, out_features=50, bias=True)\n",
       "    (5): ReLU()\n",
       "    (6): Linear(in_features=50, out_features=1, bias=True)\n",
       "  )\n",
       ")"
      ]
     },
     "execution_count": 42,
     "metadata": {},
     "output_type": "execute_result"
    }
   ],
   "source": [
    "regression_model = RegressionModel()\n",
    "regression_model.apply(init_weights)"
   ]
  },
  {
   "cell_type": "code",
   "execution_count": 43,
   "id": "7727e4d1",
   "metadata": {},
   "outputs": [],
   "source": [
    "regression_model = regression_model.to(device)"
   ]
  },
  {
   "cell_type": "code",
   "execution_count": 44,
   "id": "6d8c444c",
   "metadata": {},
   "outputs": [],
   "source": [
    "def train_regression(dataloader, model, loss_fn, optimizer):\n",
    "    total_loss = 0\n",
    "    num_obs = len(dataloader.dataset)\n",
    "    num_batches = len(dataloader)\n",
    "    model.train()\n",
    "    for batch, (x, y) in enumerate(dataloader):\n",
    "        x, y = x.to(device), y.to(device)\n",
    "        preds = model(x)\n",
    "        batch_loss = loss_fn(preds, y)\n",
    "        total_loss += batch_loss.item()\n",
    "        batch_loss.backward()\n",
    "        optimizer.step()\n",
    "        optimizer.zero_grad()\n",
    "    print(f\"Train Loss: {total_loss/num_batches:>.5}\")"
   ]
  },
  {
   "cell_type": "code",
   "execution_count": 45,
   "id": "96cbfc16",
   "metadata": {},
   "outputs": [],
   "source": [
    "def eval_regression(dataloader, model, loss_fn):\n",
    "    total_loss = 0\n",
    "    num_obs = len(dataloader.dataset)\n",
    "    num_batches = len(dataloader)\n",
    "    model.eval()\n",
    "    with torch.no_grad():\n",
    "        for x, y in dataloader:\n",
    "            x, y = x.to(device), y.to(device)\n",
    "            preds = model(x)\n",
    "            total_loss += loss_fn(preds, y).item()\n",
    "        print(f'Validation Loss: {total_loss/num_batches:>.5}')"
   ]
  },
  {
   "cell_type": "code",
   "execution_count": 46,
   "id": "bd0006c8",
   "metadata": {},
   "outputs": [],
   "source": [
    "loss_fn = nn.MSELoss()\n",
    "regression_optim = optim.Adam(regression_model.parameters(), lr=1e-3, eps=1e-7)"
   ]
  },
  {
   "cell_type": "code",
   "execution_count": 47,
   "id": "d3a1855e",
   "metadata": {},
   "outputs": [
    {
     "name": "stdout",
     "output_type": "stream",
     "text": [
      "\n",
      " ----- Epoch 1 -----\n",
      "Train Loss: 0.82841\n",
      "Validation Loss: 0.55169\n",
      "\n",
      " ----- Epoch 2 -----\n",
      "Train Loss: 0.37154\n",
      "Validation Loss: 2.2622\n",
      "\n",
      " ----- Epoch 3 -----\n",
      "Train Loss: 0.36366\n",
      "Validation Loss: 0.32544\n",
      "\n",
      " ----- Epoch 4 -----\n",
      "Train Loss: 0.33822\n",
      "Validation Loss: 0.64965\n",
      "\n",
      " ----- Epoch 5 -----\n",
      "Train Loss: 0.32801\n",
      "Validation Loss: 1.4544\n",
      "\n",
      " ----- Epoch 6 -----\n",
      "Train Loss: 0.32435\n",
      "Validation Loss: 1.4592\n",
      "\n",
      " ----- Epoch 7 -----\n",
      "Train Loss: 0.31361\n",
      "Validation Loss: 3.8273\n",
      "\n",
      " ----- Epoch 8 -----\n",
      "Train Loss: 0.34039\n",
      "Validation Loss: 0.36349\n",
      "\n",
      " ----- Epoch 9 -----\n",
      "Train Loss: 0.30402\n",
      "Validation Loss: 0.56003\n",
      "\n",
      " ----- Epoch 10 -----\n",
      "Train Loss: 0.30735\n",
      "Validation Loss: 1.3594\n",
      "\n",
      " ----- Epoch 11 -----\n",
      "Train Loss: 0.31131\n",
      "Validation Loss: 0.37016\n",
      "\n",
      " ----- Epoch 12 -----\n",
      "Train Loss: 0.29403\n",
      "Validation Loss: 1.0019\n",
      "\n",
      " ----- Epoch 13 -----\n",
      "Train Loss: 0.30035\n",
      "Validation Loss: 0.53096\n",
      "\n",
      " ----- Epoch 14 -----\n",
      "Train Loss: 0.29183\n",
      "Validation Loss: 0.40373\n",
      "\n",
      " ----- Epoch 15 -----\n",
      "Train Loss: 0.28541\n",
      "Validation Loss: 0.2945\n",
      "\n",
      " ----- Epoch 16 -----\n",
      "Train Loss: 0.28293\n",
      "Validation Loss: 0.31544\n",
      "\n",
      " ----- Epoch 17 -----\n",
      "Train Loss: 0.2811\n",
      "Validation Loss: 0.29509\n",
      "\n",
      " ----- Epoch 18 -----\n",
      "Train Loss: 0.27514\n",
      "Validation Loss: 0.34569\n",
      "\n",
      " ----- Epoch 19 -----\n",
      "Train Loss: 0.2757\n",
      "Validation Loss: 0.29587\n",
      "\n",
      " ----- Epoch 20 -----\n",
      "Train Loss: 0.27195\n",
      "Validation Loss: 0.53843\n"
     ]
    }
   ],
   "source": [
    "for epoch in range(20):\n",
    "    print(f'\\n ----- Epoch {epoch+1} -----')\n",
    "    train_regression(train_loader, regression_model, loss_fn, regression_optim)\n",
    "    eval_regression(valid_loader, regression_model, loss_fn)"
   ]
  },
  {
   "cell_type": "markdown",
   "id": "4c488a27",
   "metadata": {},
   "source": [
    "## Building Complex Models Using the Functional API"
   ]
  },
  {
   "cell_type": "code",
   "execution_count": 48,
   "id": "d41f6f24",
   "metadata": {},
   "outputs": [],
   "source": [
    "class WideAndDeep(nn.Module):\n",
    "    def __init__(self):\n",
    "        super().__init__()\n",
    "        self.hidden_layer1 = nn.Linear(in_features=8, out_features=30)\n",
    "        self.relu = nn.ReLU()\n",
    "        self.hidden_layer2 = nn.Linear(in_features=30, out_features=30)\n",
    "        self.output_layer = nn.Linear(in_features=38, out_features=1)\n",
    "    \n",
    "    def forward(self, x):\n",
    "        z = self.relu(self.hidden_layer1(x))\n",
    "        z = self.relu(self.hidden_layer2(z))\n",
    "        w = torch.cat((x, z), dim=-1)\n",
    "        return self.output_layer(w)"
   ]
  },
  {
   "cell_type": "code",
   "execution_count": 49,
   "id": "5d3a2f13",
   "metadata": {},
   "outputs": [],
   "source": [
    "widedeep = WideAndDeep()\n",
    "widedeep.apply(init_weights)\n",
    "widedeep = widedeep.to(device)"
   ]
  },
  {
   "cell_type": "markdown",
   "id": "a90428cb",
   "metadata": {},
   "source": [
    "Note that we need to create another optimizer, as the existing one has been trained on a different architecture."
   ]
  },
  {
   "cell_type": "code",
   "execution_count": 50,
   "id": "8cf1cf31",
   "metadata": {},
   "outputs": [],
   "source": [
    "wnd_optim = optim.Adam(widedeep.parameters(), lr=1e-3, eps=1e-7)"
   ]
  },
  {
   "cell_type": "code",
   "execution_count": 51,
   "id": "445a9987",
   "metadata": {},
   "outputs": [
    {
     "name": "stdout",
     "output_type": "stream",
     "text": [
      "\n",
      " ----- Epoch 1 -----\n",
      "Train Loss: 1.3558\n",
      "Validation Loss: 3.3985\n",
      "\n",
      " ----- Epoch 2 -----\n",
      "Train Loss: 0.46591\n",
      "Validation Loss: 0.57788\n",
      "\n",
      " ----- Epoch 3 -----\n",
      "Train Loss: 0.39137\n",
      "Validation Loss: 0.35826\n",
      "\n",
      " ----- Epoch 4 -----\n",
      "Train Loss: 0.37376\n",
      "Validation Loss: 0.34647\n",
      "\n",
      " ----- Epoch 5 -----\n",
      "Train Loss: 0.36318\n",
      "Validation Loss: 0.41629\n",
      "\n",
      " ----- Epoch 6 -----\n",
      "Train Loss: 0.35329\n",
      "Validation Loss: 1.2227\n",
      "\n",
      " ----- Epoch 7 -----\n",
      "Train Loss: 0.34655\n",
      "Validation Loss: 1.9933\n",
      "\n",
      " ----- Epoch 8 -----\n",
      "Train Loss: 0.36074\n",
      "Validation Loss: 1.7717\n",
      "\n",
      " ----- Epoch 9 -----\n",
      "Train Loss: 0.35534\n",
      "Validation Loss: 3.4004\n",
      "\n",
      " ----- Epoch 10 -----\n",
      "Train Loss: 0.3561\n",
      "Validation Loss: 1.7216\n",
      "\n",
      " ----- Epoch 11 -----\n",
      "Train Loss: 0.33839\n",
      "Validation Loss: 1.4947\n",
      "\n",
      " ----- Epoch 12 -----\n",
      "Train Loss: 0.32793\n",
      "Validation Loss: 0.4553\n",
      "\n",
      " ----- Epoch 13 -----\n",
      "Train Loss: 0.32642\n",
      "Validation Loss: 1.1004\n",
      "\n",
      " ----- Epoch 14 -----\n",
      "Train Loss: 0.32041\n",
      "Validation Loss: 0.85418\n",
      "\n",
      " ----- Epoch 15 -----\n",
      "Train Loss: 0.31686\n",
      "Validation Loss: 1.6981\n",
      "\n",
      " ----- Epoch 16 -----\n",
      "Train Loss: 0.32077\n",
      "Validation Loss: 1.0914\n",
      "\n",
      " ----- Epoch 17 -----\n",
      "Train Loss: 0.31024\n",
      "Validation Loss: 2.2085\n",
      "\n",
      " ----- Epoch 18 -----\n",
      "Train Loss: 0.32326\n",
      "Validation Loss: 1.3932\n",
      "\n",
      " ----- Epoch 19 -----\n",
      "Train Loss: 0.31602\n",
      "Validation Loss: 1.9561\n",
      "\n",
      " ----- Epoch 20 -----\n",
      "Train Loss: 0.31072\n",
      "Validation Loss: 1.6025\n"
     ]
    }
   ],
   "source": [
    "for epoch in range(20):\n",
    "    print(f'\\n ----- Epoch {epoch+1} -----')\n",
    "    train_regression(train_loader, widedeep, loss_fn, wnd_optim)\n",
    "    eval_regression(valid_loader, widedeep, loss_fn)"
   ]
  },
  {
   "attachments": {},
   "cell_type": "markdown",
   "id": "21afb750",
   "metadata": {},
   "source": [
    "### Sending inputs through two different paths\n",
    "\n",
    "The next example HOML3 sends features 0 to 4 to the wide path and features 2 to 7 through the deep path as shown below:\n",
    "\n",
    "![wide_deep](img/mls3_1015.png)\n",
    "\n",
    "To make this work we need to:\n",
    "\n",
    "1. Modify the Dataset so that it returns two inputs and one target.\n",
    "2. Modify the model so that it has two inputs.\n",
    "\n",
    "In this case, since there is only one output, the loss is unchanged. The source code for TensorDataset can be found [here](https://github.com/pytorch/pytorch/blob/03de15806e5d27ee4ef6d82dbcc66dac78f6e3bf/torch/utils/data/dataset.py#L193).\n",
    "\n",
    "We just need to redefine `__getitem__()` and we don't need to touch `__init__()`. Our modified implementation returns a tuple containing a tuple of inputs and the output tensor."
   ]
  },
  {
   "cell_type": "code",
   "execution_count": 52,
   "id": "c84dee44",
   "metadata": {},
   "outputs": [],
   "source": [
    "class WideAndDeepDataset(TensorDataset):\n",
    "    def __getitem__(self, index):\n",
    "        x, y = self.tensors\n",
    "        return (x[index, :5], x[index, 2:], y[index])"
   ]
  },
  {
   "cell_type": "code",
   "execution_count": 53,
   "id": "7fc47e3f",
   "metadata": {},
   "outputs": [],
   "source": [
    "wnd_train_dset = WideAndDeepDataset(x_tensor_train, y_tensor_train)\n",
    "wnd_valid_dset = WideAndDeepDataset(x_tensor_valid, y_tensor_valid)\n",
    "wnd_test_dset = WideAndDeepDataset(x_tensor_test, y_tensor_test)"
   ]
  },
  {
   "cell_type": "code",
   "execution_count": 54,
   "id": "5ca28b4a",
   "metadata": {},
   "outputs": [],
   "source": [
    "wnd_train_loader = DataLoader(wnd_train_dset, batch_size, shuffle=True)\n",
    "wnd_valid_loader = DataLoader(wnd_valid_dset, batch_size, shuffle=False)\n",
    "wnd_test_loader = DataLoader(wnd_test_dset, batch_size, shuffle=False)"
   ]
  },
  {
   "cell_type": "code",
   "execution_count": 55,
   "id": "f638119c",
   "metadata": {},
   "outputs": [],
   "source": [
    "class WideAndDeepTwoInputs(nn.Module):\n",
    "    # x_wide contains 5 features. x_deep contains 6\n",
    "    def __init__(self):\n",
    "        super().__init__()\n",
    "        self.hidden_layer1 = nn.Linear(in_features=6, out_features=30)\n",
    "        self.relu = nn.ReLU()\n",
    "        self.hidden_layer2 = nn.Linear(in_features=30, out_features=30)\n",
    "        self.output_layer = nn.Linear(in_features=35, out_features=1)\n",
    "    \n",
    "    def forward(self, x_wide, x_deep):\n",
    "        x_deep = self.relu(self.hidden_layer1(x_deep))\n",
    "        x_deep = self.relu(self.hidden_layer2(x_deep))\n",
    "        w = torch.cat((x_wide, x_deep), dim=-1)\n",
    "        return self.output_layer(w)"
   ]
  },
  {
   "cell_type": "code",
   "execution_count": 56,
   "id": "8fd86d49",
   "metadata": {},
   "outputs": [],
   "source": [
    "model_two_inputs = WideAndDeepTwoInputs()\n",
    "model_two_inputs.apply(init_weights)\n",
    "model_two_inputs = model_two_inputs.to(device)"
   ]
  },
  {
   "cell_type": "code",
   "execution_count": 57,
   "id": "96b9b604",
   "metadata": {},
   "outputs": [],
   "source": [
    "def train_two_inputs(dataloader, model, loss_fn, optimizer):\n",
    "    total_loss = 0\n",
    "    num_obs = len(dataloader.dataset)\n",
    "    num_batches = len(dataloader)\n",
    "    model.train()\n",
    "    for batch, (x_wide, x_deep, y) in enumerate(dataloader):\n",
    "        x_wide, x_deep, y = x_wide.to(device), x_deep.to(device), y.to(device)\n",
    "        preds = model(x_wide, x_deep)\n",
    "        batch_loss = loss_fn(preds, y)\n",
    "        total_loss += batch_loss.item()\n",
    "        batch_loss.backward()\n",
    "        optimizer.step()\n",
    "        optimizer.zero_grad()\n",
    "    print(f\"Train Loss: {total_loss/num_batches:>.5}\")"
   ]
  },
  {
   "cell_type": "code",
   "execution_count": 58,
   "id": "3b27a324",
   "metadata": {},
   "outputs": [],
   "source": [
    "def eval_two_inputs(dataloader, model, loss_fn):\n",
    "    total_loss = 0\n",
    "    num_obs = len(dataloader.dataset)\n",
    "    num_batches = len(dataloader)\n",
    "    model.eval()\n",
    "    with torch.no_grad():\n",
    "        for x_wide, x_deep, y in dataloader:\n",
    "            x_wide, x_deep, y = x_wide.to(device), x_deep.to(device), y.to(device)\n",
    "            preds = model(x_wide, x_deep)\n",
    "            total_loss += loss_fn(preds, y).item()\n",
    "        print(f'Validation Loss: {total_loss/num_batches:>.5}')"
   ]
  },
  {
   "cell_type": "code",
   "execution_count": 59,
   "id": "5be1ec94",
   "metadata": {},
   "outputs": [],
   "source": [
    "wnd_optim_two_inputs = optim.Adam(model_two_inputs.parameters(), lr=1e-3, eps=1e-7)"
   ]
  },
  {
   "cell_type": "code",
   "execution_count": 60,
   "id": "0974d573",
   "metadata": {},
   "outputs": [
    {
     "name": "stdout",
     "output_type": "stream",
     "text": [
      "\n",
      "----- Epoch: 1 -----\n",
      "Train Loss: 1.3503\n",
      "Validation Loss: 1.2598\n",
      "\n",
      "----- Epoch: 2 -----\n",
      "Train Loss: 0.6067\n",
      "Validation Loss: 0.53724\n",
      "\n",
      "----- Epoch: 3 -----\n",
      "Train Loss: 0.48713\n",
      "Validation Loss: 0.44046\n",
      "\n",
      "----- Epoch: 4 -----\n",
      "Train Loss: 0.42955\n",
      "Validation Loss: 0.46473\n",
      "\n",
      "----- Epoch: 5 -----\n",
      "Train Loss: 0.39422\n",
      "Validation Loss: 0.65582\n",
      "\n",
      "----- Epoch: 6 -----\n",
      "Train Loss: 0.37524\n",
      "Validation Loss: 1.7768\n",
      "\n",
      "----- Epoch: 7 -----\n",
      "Train Loss: 0.37171\n",
      "Validation Loss: 1.0006\n",
      "\n",
      "----- Epoch: 8 -----\n",
      "Train Loss: 0.36554\n",
      "Validation Loss: 1.4627\n",
      "\n",
      "----- Epoch: 9 -----\n",
      "Train Loss: 0.35748\n",
      "Validation Loss: 1.1696\n",
      "\n",
      "----- Epoch: 10 -----\n",
      "Train Loss: 0.3555\n",
      "Validation Loss: 0.35428\n",
      "\n",
      "----- Epoch: 11 -----\n",
      "Train Loss: 0.3474\n",
      "Validation Loss: 0.49802\n",
      "\n",
      "----- Epoch: 12 -----\n",
      "Train Loss: 0.34205\n",
      "Validation Loss: 1.0847\n",
      "\n",
      "----- Epoch: 13 -----\n",
      "Train Loss: 0.34541\n",
      "Validation Loss: 1.3652\n",
      "\n",
      "----- Epoch: 14 -----\n",
      "Train Loss: 0.34595\n",
      "Validation Loss: 0.65656\n",
      "\n",
      "----- Epoch: 15 -----\n",
      "Train Loss: 0.33612\n",
      "Validation Loss: 0.3335\n",
      "\n",
      "----- Epoch: 16 -----\n",
      "Train Loss: 0.33086\n",
      "Validation Loss: 0.41547\n",
      "\n",
      "----- Epoch: 17 -----\n",
      "Train Loss: 0.33121\n",
      "Validation Loss: 0.32116\n",
      "\n",
      "----- Epoch: 18 -----\n",
      "Train Loss: 0.33461\n",
      "Validation Loss: 0.4008\n",
      "\n",
      "----- Epoch: 19 -----\n",
      "Train Loss: 0.3287\n",
      "Validation Loss: 0.56566\n",
      "\n",
      "----- Epoch: 20 -----\n",
      "Train Loss: 0.3285\n",
      "Validation Loss: 0.88187\n"
     ]
    }
   ],
   "source": [
    "for epoch in range(20):\n",
    "    print(f\"\\n----- Epoch: {epoch+1} -----\")\n",
    "    train_two_inputs(wnd_train_loader, model_two_inputs, loss_fn, wnd_optim_two_inputs)\n",
    "    eval_two_inputs(wnd_valid_loader, model_two_inputs, loss_fn)"
   ]
  },
  {
   "cell_type": "markdown",
   "id": "5ca2145e",
   "metadata": {},
   "source": [
    "### Multiple inputs and multiple outputs\n",
    "\n",
    "![multiple_outputs](img/multioutput.png)\n",
    "\n",
    "The model now returns two outputs which go into two separate losses that are then added together."
   ]
  },
  {
   "cell_type": "code",
   "execution_count": 61,
   "id": "90bb123a",
   "metadata": {},
   "outputs": [],
   "source": [
    "class MulitpleOutputsModel(nn.Module):\n",
    "    def __init__(self):\n",
    "        super().__init__()\n",
    "        self.hidden_layer1 = nn.Linear(in_features=6, out_features=30)\n",
    "        self.relu = nn.ReLU()\n",
    "        self.hidden_layer2 = nn.Linear(in_features=30, out_features=30)\n",
    "        self.output_layer = nn.Linear(in_features=35, out_features=1)\n",
    "        self.aux_output = nn.Linear(in_features=30, out_features=1)\n",
    "    \n",
    "    def forward(self, x_wide, x_deep):\n",
    "        x_deep = self.relu(self.hidden_layer1(x_deep))\n",
    "        x_deep = self.relu(self.hidden_layer2(x_deep))\n",
    "        main_out = self.output_layer(torch.cat((x_wide, x_deep), dim=-1))\n",
    "        aux_out = self.aux_output(x_deep)\n",
    "        return main_out, aux_out"
   ]
  },
  {
   "cell_type": "code",
   "execution_count": 62,
   "id": "6e9051a7",
   "metadata": {},
   "outputs": [],
   "source": [
    "multi_output_model = MulitpleOutputsModel()\n",
    "multi_output_model.apply(init_weights)\n",
    "multi_output_model = multi_output_model.to(device)"
   ]
  },
  {
   "cell_type": "code",
   "execution_count": 63,
   "id": "476a545d",
   "metadata": {},
   "outputs": [],
   "source": [
    "multi_output_optim = optim.Adam(multi_output_model.parameters(), eps=1e-7)"
   ]
  },
  {
   "cell_type": "code",
   "execution_count": 64,
   "id": "d6fbbfb3",
   "metadata": {},
   "outputs": [],
   "source": [
    "def train_two_outputs(dataloader, model, loss_fn, optimizer, weights):\n",
    "    total_loss = 0\n",
    "    num_obs = len(dataloader.dataset)\n",
    "    num_batches = len(dataloader)\n",
    "    model.train()\n",
    "    for batch, (x_wide, x_deep, y) in enumerate(dataloader):\n",
    "        x_wide, x_deep, y = x_wide.to(device), x_deep.to(device), y.to(device)\n",
    "        main_preds, aux_preds = model(x_wide, x_deep)\n",
    "        main_loss, aux_loss = loss_fn(main_preds, y), loss_fn(aux_preds, y)\n",
    "        batch_loss = weights[0]*main_loss + weights[1]*aux_loss\n",
    "        total_loss += batch_loss.item()\n",
    "        batch_loss.backward()\n",
    "        optimizer.step()\n",
    "        optimizer.zero_grad()\n",
    "    print(f\"Train Loss: {total_loss/num_batches:>.5}\")"
   ]
  },
  {
   "cell_type": "code",
   "execution_count": 65,
   "id": "72ebc576",
   "metadata": {},
   "outputs": [],
   "source": [
    "def eval_two_outputs(dataloader, model, loss_fn, weights):\n",
    "    total_loss = 0\n",
    "    num_obs = len(dataloader.dataset)\n",
    "    num_batches = len(dataloader)\n",
    "    model.eval()\n",
    "    with torch.no_grad():\n",
    "        for x_wide, x_deep, y in dataloader:\n",
    "            x_wide, x_deep, y = x_wide.to(device), x_deep.to(device), y.to(device)\n",
    "            main_preds, aux_preds = model(x_wide, x_deep)\n",
    "            main_loss, aux_loss = loss_fn(main_preds, y), loss_fn(aux_preds, y)\n",
    "            batch_loss = weights[0]*main_loss + weights[1]*aux_loss\n",
    "            total_loss += batch_loss.item()\n",
    "        print(f'Validation Loss: {total_loss/num_batches:>.5}')"
   ]
  },
  {
   "cell_type": "code",
   "execution_count": 66,
   "id": "4515f6fa",
   "metadata": {},
   "outputs": [
    {
     "name": "stdout",
     "output_type": "stream",
     "text": [
      "\n",
      "----- Epoch: 1 -----\n",
      "Train Loss: 1.8976\n",
      "Validation Loss: 5.2368\n",
      "\n",
      "----- Epoch: 2 -----\n",
      "Train Loss: 0.62028\n",
      "Validation Loss: 1.2181\n",
      "\n",
      "----- Epoch: 3 -----\n",
      "Train Loss: 0.46419\n",
      "Validation Loss: 0.68071\n",
      "\n",
      "----- Epoch: 4 -----\n",
      "Train Loss: 0.42583\n",
      "Validation Loss: 0.46964\n",
      "\n",
      "----- Epoch: 5 -----\n",
      "Train Loss: 0.40741\n",
      "Validation Loss: 0.4235\n",
      "\n",
      "----- Epoch: 6 -----\n",
      "Train Loss: 0.39361\n",
      "Validation Loss: 0.39545\n",
      "\n",
      "----- Epoch: 7 -----\n",
      "Train Loss: 0.38376\n",
      "Validation Loss: 0.38734\n",
      "\n",
      "----- Epoch: 8 -----\n",
      "Train Loss: 0.37563\n",
      "Validation Loss: 0.39303\n",
      "\n",
      "----- Epoch: 9 -----\n",
      "Train Loss: 0.36961\n",
      "Validation Loss: 0.36241\n",
      "\n",
      "----- Epoch: 10 -----\n",
      "Train Loss: 0.36345\n",
      "Validation Loss: 0.42451\n",
      "\n",
      "----- Epoch: 11 -----\n",
      "Train Loss: 0.35774\n",
      "Validation Loss: 0.37336\n",
      "\n",
      "----- Epoch: 12 -----\n",
      "Train Loss: 0.35484\n",
      "Validation Loss: 0.48186\n",
      "\n",
      "----- Epoch: 13 -----\n",
      "Train Loss: 0.35043\n",
      "Validation Loss: 0.48709\n",
      "\n",
      "----- Epoch: 14 -----\n",
      "Train Loss: 0.34607\n",
      "Validation Loss: 0.93839\n",
      "\n",
      "----- Epoch: 15 -----\n",
      "Train Loss: 0.34417\n",
      "Validation Loss: 0.85716\n",
      "\n",
      "----- Epoch: 16 -----\n",
      "Train Loss: 0.34235\n",
      "Validation Loss: 1.5644\n",
      "\n",
      "----- Epoch: 17 -----\n",
      "Train Loss: 0.34159\n",
      "Validation Loss: 2.0808\n",
      "\n",
      "----- Epoch: 18 -----\n",
      "Train Loss: 0.34689\n",
      "Validation Loss: 2.695\n",
      "\n",
      "----- Epoch: 19 -----\n",
      "Train Loss: 0.34805\n",
      "Validation Loss: 0.4928\n",
      "\n",
      "----- Epoch: 20 -----\n",
      "Train Loss: 0.33783\n",
      "Validation Loss: 0.69521\n"
     ]
    }
   ],
   "source": [
    "weights = (0.9, 0.1)\n",
    "for epoch in range(20):\n",
    "    print(f\"\\n----- Epoch: {epoch+1} -----\")\n",
    "    train_two_outputs(wnd_train_loader, multi_output_model, loss_fn, multi_output_optim, weights)\n",
    "    eval_two_outputs(wnd_valid_loader, multi_output_model, loss_fn, weights)"
   ]
  },
  {
   "cell_type": "code",
   "execution_count": null,
   "id": "e42de02d",
   "metadata": {},
   "outputs": [],
   "source": []
  }
 ],
 "metadata": {
  "kernelspec": {
   "display_name": "Python 3 (ipykernel)",
   "language": "python",
   "name": "python3"
  },
  "language_info": {
   "codemirror_mode": {
    "name": "ipython",
    "version": 3
   },
   "file_extension": ".py",
   "mimetype": "text/x-python",
   "name": "python",
   "nbconvert_exporter": "python",
   "pygments_lexer": "ipython3",
   "version": "3.11.3"
  }
 },
 "nbformat": 4,
 "nbformat_minor": 5
}
