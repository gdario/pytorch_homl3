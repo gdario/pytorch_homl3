{
 "cells": [
  {
   "cell_type": "markdown",
   "id": "9bfe6779",
   "metadata": {},
   "source": [
    "# Chapter 10\n",
    "\n",
    "## Building an Image Classifier Using the Sequential API"
   ]
  },
  {
   "cell_type": "code",
   "execution_count": 1,
   "id": "8601b225",
   "metadata": {},
   "outputs": [],
   "source": [
    "import numpy as np\n",
    "import matplotlib.pyplot as plt\n",
    "from sklearn.datasets import fetch_california_housing\n",
    "from sklearn.model_selection import train_test_split\n",
    "import torch\n",
    "import torch.nn as nn\n",
    "import torch.optim as optim\n",
    "from torch.utils.data import Dataset, DataLoader, TensorDataset, Subset\n",
    "from torchvision.datasets import FashionMNIST\n",
    "from torchvision.transforms import ToTensor"
   ]
  },
  {
   "cell_type": "code",
   "execution_count": 2,
   "id": "e76b9c26",
   "metadata": {},
   "outputs": [],
   "source": [
    "root_dir = 'data'\n",
    "full_train_dset = FashionMNIST(root=root_dir,\n",
    "                               train=True,\n",
    "                               download=True,\n",
    "                               transform=ToTensor())\n",
    "test_dset = FashionMNIST(root=root_dir,\n",
    "                         train=False,\n",
    "                         download=True,\n",
    "                         transform=ToTensor())"
   ]
  },
  {
   "cell_type": "code",
   "execution_count": 3,
   "id": "d30ae606",
   "metadata": {},
   "outputs": [],
   "source": [
    "device = 'cuda'\n",
    "if torch.cuda.device_count() == 2:\n",
    "    torch.cuda.set_device(1)"
   ]
  },
  {
   "cell_type": "code",
   "execution_count": 4,
   "id": "5a4c46a8",
   "metadata": {},
   "outputs": [],
   "source": [
    "train_dset = Subset(full_train_dset, indices=range(55000))\n",
    "valid_dset = Subset(full_train_dset, indices=range(55000, 60000))"
   ]
  },
  {
   "cell_type": "code",
   "execution_count": 5,
   "id": "e39bf7be",
   "metadata": {},
   "outputs": [
    {
     "data": {
      "text/plain": [
       "(55000, 5000)"
      ]
     },
     "execution_count": 5,
     "metadata": {},
     "output_type": "execute_result"
    }
   ],
   "source": [
    "len(train_dset), len(valid_dset)"
   ]
  },
  {
   "cell_type": "code",
   "execution_count": 6,
   "id": "1f761d0d",
   "metadata": {},
   "outputs": [],
   "source": [
    "batch_size = 32 # Default batch size on keras"
   ]
  },
  {
   "cell_type": "code",
   "execution_count": 7,
   "id": "bef43a9d",
   "metadata": {},
   "outputs": [],
   "source": [
    "train_loader = DataLoader(train_dset, batch_size=batch_size, shuffle=True)\n",
    "valid_loader = DataLoader(valid_dset, batch_size=batch_size, shuffle=False)\n",
    "test_loader = DataLoader(test_dset, batch_size=batch_size, shuffle=False)"
   ]
  },
  {
   "cell_type": "markdown",
   "id": "78e5f4d3",
   "metadata": {},
   "source": [
    "## Normalization\n",
    "\n",
    "In Geron's book the data are normalized by dividing by 255. The `ToTensor()` transform added to the Dataset definition takes care of this automatically."
   ]
  },
  {
   "cell_type": "code",
   "execution_count": 8,
   "id": "97c94788",
   "metadata": {},
   "outputs": [],
   "source": [
    "img, tgt = next(iter(valid_loader))"
   ]
  },
  {
   "cell_type": "code",
   "execution_count": 9,
   "id": "788b4c9c",
   "metadata": {},
   "outputs": [
    {
     "data": {
      "text/plain": [
       "tensor(1.)"
      ]
     },
     "execution_count": 9,
     "metadata": {},
     "output_type": "execute_result"
    }
   ],
   "source": [
    "img.max()"
   ]
  },
  {
   "cell_type": "code",
   "execution_count": 10,
   "id": "cd6fe9c5",
   "metadata": {},
   "outputs": [],
   "source": [
    "class_names = [\"T-shirt/top\", \"Trouser\", \"Pullover\", \"Dress\", \"Coat\",\n",
    "               \"Sandal\", \"Shirt\", \"Sneaker\", \"Bag\", \"Ankle boot\"]"
   ]
  },
  {
   "cell_type": "code",
   "execution_count": 11,
   "id": "02309bb1",
   "metadata": {},
   "outputs": [],
   "source": [
    "class MyModel(nn.Module):\n",
    "    def __init__(self):\n",
    "        super().__init__()\n",
    "        self.sequential_model = nn.Sequential(\n",
    "            nn.Flatten(),\n",
    "            nn.Linear(in_features=784, out_features=300),\n",
    "            nn.ReLU(),\n",
    "            nn.Linear(in_features=300, out_features=100),\n",
    "            nn.ReLU(),\n",
    "            nn.Linear(in_features=100, out_features=10))\n",
    "    \n",
    "    def forward(self, x):\n",
    "        return self.sequential_model(x)"
   ]
  },
  {
   "cell_type": "code",
   "execution_count": 12,
   "id": "c057db0b",
   "metadata": {},
   "outputs": [
    {
     "data": {
      "text/plain": [
       "MyModel(\n",
       "  (sequential_model): Sequential(\n",
       "    (0): Flatten(start_dim=1, end_dim=-1)\n",
       "    (1): Linear(in_features=784, out_features=300, bias=True)\n",
       "    (2): ReLU()\n",
       "    (3): Linear(in_features=300, out_features=100, bias=True)\n",
       "    (4): ReLU()\n",
       "    (5): Linear(in_features=100, out_features=10, bias=True)\n",
       "  )\n",
       ")"
      ]
     },
     "execution_count": 12,
     "metadata": {},
     "output_type": "execute_result"
    }
   ],
   "source": [
    "classif_model = MyModel()\n",
    "classif_model"
   ]
  },
  {
   "cell_type": "code",
   "execution_count": 13,
   "id": "e5596b34",
   "metadata": {},
   "outputs": [
    {
     "data": {
      "text/plain": [
       "tensor(-0.0237, grad_fn=<SelectBackward0>)"
      ]
     },
     "execution_count": 13,
     "metadata": {},
     "output_type": "execute_result"
    }
   ],
   "source": [
    "classif_model.sequential_model[1].bias[0]"
   ]
  },
  {
   "cell_type": "code",
   "execution_count": 14,
   "id": "22176dd6",
   "metadata": {},
   "outputs": [
    {
     "data": {
      "text/plain": [
       "tensor([ 0.0046, -0.0107, -0.0128, -0.0025,  0.0348, -0.0174,  0.0259, -0.0163,\n",
       "         0.0243, -0.0059], grad_fn=<SliceBackward0>)"
      ]
     },
     "execution_count": 14,
     "metadata": {},
     "output_type": "execute_result"
    }
   ],
   "source": [
    "classif_model.sequential_model[1].weight[0, :10]"
   ]
  },
  {
   "cell_type": "markdown",
   "id": "a3ce2bc7",
   "metadata": {},
   "source": [
    "## Weight initialization\n",
    "\n",
    "In Keras weights in a dense layer are, [by default](https://www.tensorflow.org/api_docs/python/tf/keras/layers/Dense), initialized with a Glorot Uniform initialization.\n",
    "\n",
    "In Pytorch weights in a linear layer are, [by default](https://pytorch.org/docs/stable/generated/torch.nn.Linear.html#torch.nn.Linear) initialized with a uniform distribution with  U(−k,k) where k=1/in_features. This is essentially a LeCun uniform initialization. Note that in PyTorch, Glorot initialization is called Xavier initialization."
   ]
  },
  {
   "cell_type": "code",
   "execution_count": 15,
   "id": "e9437ebd",
   "metadata": {},
   "outputs": [],
   "source": [
    "@torch.no_grad()\n",
    "def init_weights(m):\n",
    "    if isinstance(m, nn.Linear):\n",
    "        torch.nn.init.xavier_uniform_(m.weight)\n",
    "        m.bias.data.fill_(0.)"
   ]
  },
  {
   "cell_type": "code",
   "execution_count": 16,
   "id": "cf40d666",
   "metadata": {},
   "outputs": [
    {
     "data": {
      "text/plain": [
       "MyModel(\n",
       "  (sequential_model): Sequential(\n",
       "    (0): Flatten(start_dim=1, end_dim=-1)\n",
       "    (1): Linear(in_features=784, out_features=300, bias=True)\n",
       "    (2): ReLU()\n",
       "    (3): Linear(in_features=300, out_features=100, bias=True)\n",
       "    (4): ReLU()\n",
       "    (5): Linear(in_features=100, out_features=10, bias=True)\n",
       "  )\n",
       ")"
      ]
     },
     "execution_count": 16,
     "metadata": {},
     "output_type": "execute_result"
    }
   ],
   "source": [
    "classif_model.apply(init_weights)"
   ]
  },
  {
   "cell_type": "code",
   "execution_count": 17,
   "id": "b19df074",
   "metadata": {},
   "outputs": [
    {
     "data": {
      "text/plain": [
       "tensor(0., grad_fn=<SelectBackward0>)"
      ]
     },
     "execution_count": 17,
     "metadata": {},
     "output_type": "execute_result"
    }
   ],
   "source": [
    "classif_model.sequential_model[1].bias[0]"
   ]
  },
  {
   "cell_type": "code",
   "execution_count": 18,
   "id": "cecb27f1",
   "metadata": {},
   "outputs": [
    {
     "data": {
      "text/plain": [
       "tensor([-0.0482,  0.0128,  0.0131, -0.0169, -0.0428,  0.0225,  0.0709,  0.0432,\n",
       "        -0.0656, -0.0359], grad_fn=<SliceBackward0>)"
      ]
     },
     "execution_count": 18,
     "metadata": {},
     "output_type": "execute_result"
    }
   ],
   "source": [
    "classif_model.sequential_model[1].weight[0, :10]"
   ]
  },
  {
   "cell_type": "markdown",
   "id": "7f506245",
   "metadata": {},
   "source": [
    "Both the bias and the weight look different. We assume that we are using the same initialization approach as Keras.\n",
    "\n",
    "The Keras model has a final softmax activation. If we use PyTorch cross-entropy loss, the softmax is fused in the loss, so we don't need to include it."
   ]
  },
  {
   "cell_type": "code",
   "execution_count": 19,
   "id": "74120b9a",
   "metadata": {},
   "outputs": [
    {
     "data": {
      "text/plain": [
       "MyModel(\n",
       "  (sequential_model): Sequential(\n",
       "    (0): Flatten(start_dim=1, end_dim=-1)\n",
       "    (1): Linear(in_features=784, out_features=300, bias=True)\n",
       "    (2): ReLU()\n",
       "    (3): Linear(in_features=300, out_features=100, bias=True)\n",
       "    (4): ReLU()\n",
       "    (5): Linear(in_features=100, out_features=10, bias=True)\n",
       "  )\n",
       ")"
      ]
     },
     "execution_count": 19,
     "metadata": {},
     "output_type": "execute_result"
    }
   ],
   "source": [
    "classif_model.to(device)"
   ]
  },
  {
   "cell_type": "code",
   "execution_count": 20,
   "id": "9d87bcba",
   "metadata": {},
   "outputs": [],
   "source": [
    "loss_fn = torch.nn.CrossEntropyLoss()"
   ]
  },
  {
   "cell_type": "markdown",
   "id": "4b844b7f",
   "metadata": {},
   "source": [
    "## Optimizers\n",
    "\n",
    "The example in Geron's book uses the \"sgd\" optimizer, which I suspect corresponds to the [default settings](https://www.tensorflow.org/api_docs/python/tf/keras/optimizers/experimental/SGD), i.e., lr = 0.01 and momentum = 0.0."
   ]
  },
  {
   "cell_type": "code",
   "execution_count": 21,
   "id": "7487429d",
   "metadata": {},
   "outputs": [],
   "source": [
    "classif_optim = optim.SGD(classif_model.parameters(), lr=0.01, momentum=0.0)"
   ]
  },
  {
   "cell_type": "code",
   "execution_count": 22,
   "id": "e26dc5f2",
   "metadata": {},
   "outputs": [],
   "source": [
    "def train(dataloader, model, loss_fn, optimizer):\n",
    "    num_obs = len(dataloader.dataset)\n",
    "    model.train()\n",
    "    for batch, (x, y) in enumerate(dataloader):\n",
    "        x, y = x.to(device), y.to(device)\n",
    "        preds = model(x)\n",
    "        batch_loss = loss_fn(preds, y)\n",
    "        batch_loss.backward()\n",
    "        optimizer.step()\n",
    "        optimizer.zero_grad()\n",
    "        if batch % 250 == 0:\n",
    "            print(f'Train loss: {batch_loss.item():>.5}')"
   ]
  },
  {
   "cell_type": "code",
   "execution_count": 23,
   "id": "67df4fd5",
   "metadata": {},
   "outputs": [],
   "source": [
    "def validate(dataloader, model, loss_fn):\n",
    "    num_batches = len(dataloader)\n",
    "    num_obs = len(dataloader.dataset)\n",
    "    total_loss = 0\n",
    "    correct = 0\n",
    "    model.eval()\n",
    "    with torch.no_grad():\n",
    "        for x, y in dataloader:\n",
    "            x, y = x.to(device), y.to(device)\n",
    "            preds = model(x)\n",
    "            total_loss += loss_fn(preds, y).item()\n",
    "            correct += (preds.argmax(1) == y).type(torch.float).sum().item()\n",
    "    avg_batch_loss = total_loss / num_batches\n",
    "    accuracy = correct / num_obs\n",
    "    print('Validation:')\n",
    "    print(f'\\nAverage loss: {avg_batch_loss:>.5} - Accuracy: {accuracy:>.3}')\n",
    "    return avg_batch_loss, accuracy"
   ]
  },
  {
   "cell_type": "code",
   "execution_count": 24,
   "id": "ffd85440",
   "metadata": {},
   "outputs": [],
   "source": [
    "epochs = 30"
   ]
  },
  {
   "cell_type": "code",
   "execution_count": 25,
   "id": "9aef7cd1",
   "metadata": {},
   "outputs": [
    {
     "name": "stdout",
     "output_type": "stream",
     "text": [
      "\n",
      "----- Epoch: 1 -----\n",
      "\n",
      "Train loss: 2.3929\n",
      "Train loss: 0.93195\n",
      "Train loss: 0.54905\n",
      "Train loss: 0.60388\n",
      "Train loss: 0.77711\n",
      "Train loss: 0.56643\n",
      "Train loss: 0.43589\n",
      "Validation:\n",
      "\n",
      "Average loss: 0.54566 - Accuracy: 0.806\n",
      "\n",
      "----- Epoch: 2 -----\n",
      "\n",
      "Train loss: 0.50713\n",
      "Train loss: 0.82873\n",
      "Train loss: 0.56208\n",
      "Train loss: 0.5899\n",
      "Train loss: 0.3201\n",
      "Train loss: 0.49011\n",
      "Train loss: 0.341\n",
      "Validation:\n",
      "\n",
      "Average loss: 0.44484 - Accuracy: 0.84\n",
      "\n",
      "----- Epoch: 3 -----\n",
      "\n",
      "Train loss: 0.6944\n",
      "Train loss: 0.22429\n",
      "Train loss: 0.39264\n",
      "Train loss: 0.5807\n",
      "Train loss: 0.36953\n",
      "Train loss: 0.42035\n",
      "Train loss: 0.45779\n",
      "Validation:\n",
      "\n",
      "Average loss: 0.45213 - Accuracy: 0.838\n",
      "\n",
      "----- Epoch: 4 -----\n",
      "\n",
      "Train loss: 0.55071\n",
      "Train loss: 0.34373\n",
      "Train loss: 0.4501\n",
      "Train loss: 0.38788\n",
      "Train loss: 0.65659\n",
      "Train loss: 0.46598\n",
      "Train loss: 0.36876\n",
      "Validation:\n",
      "\n",
      "Average loss: 0.40774 - Accuracy: 0.852\n",
      "\n",
      "----- Epoch: 5 -----\n",
      "\n",
      "Train loss: 0.17387\n",
      "Train loss: 0.26334\n",
      "Train loss: 0.39497\n",
      "Train loss: 0.30913\n",
      "Train loss: 0.37235\n",
      "Train loss: 0.2081\n",
      "Train loss: 0.41848\n",
      "Validation:\n",
      "\n",
      "Average loss: 0.40972 - Accuracy: 0.848\n",
      "\n",
      "----- Epoch: 6 -----\n",
      "\n",
      "Train loss: 0.21791\n",
      "Train loss: 0.51094\n",
      "Train loss: 0.33523\n",
      "Train loss: 0.2533\n",
      "Train loss: 0.19382\n",
      "Train loss: 0.2622\n",
      "Train loss: 0.46822\n",
      "Validation:\n",
      "\n",
      "Average loss: 0.39369 - Accuracy: 0.861\n",
      "\n",
      "----- Epoch: 7 -----\n",
      "\n",
      "Train loss: 0.40722\n",
      "Train loss: 0.26955\n",
      "Train loss: 0.34359\n",
      "Train loss: 0.28786\n",
      "Train loss: 0.24772\n",
      "Train loss: 0.24408\n",
      "Train loss: 0.47527\n",
      "Validation:\n",
      "\n",
      "Average loss: 0.37395 - Accuracy: 0.868\n",
      "\n",
      "----- Epoch: 8 -----\n",
      "\n",
      "Train loss: 0.30651\n",
      "Train loss: 0.17811\n",
      "Train loss: 0.63752\n",
      "Train loss: 0.2912\n",
      "Train loss: 0.2058\n",
      "Train loss: 0.45292\n",
      "Train loss: 0.29453\n",
      "Validation:\n",
      "\n",
      "Average loss: 0.3685 - Accuracy: 0.864\n",
      "\n",
      "----- Epoch: 9 -----\n",
      "\n",
      "Train loss: 0.22157\n",
      "Train loss: 0.44828\n",
      "Train loss: 0.35175\n",
      "Train loss: 0.081123\n",
      "Train loss: 0.21991\n",
      "Train loss: 0.35447\n",
      "Train loss: 0.29572\n",
      "Validation:\n",
      "\n",
      "Average loss: 0.36027 - Accuracy: 0.868\n",
      "\n",
      "----- Epoch: 10 -----\n",
      "\n",
      "Train loss: 0.37674\n",
      "Train loss: 0.21521\n",
      "Train loss: 0.32373\n",
      "Train loss: 0.37809\n",
      "Train loss: 0.41976\n",
      "Train loss: 0.40832\n",
      "Train loss: 0.34942\n",
      "Validation:\n",
      "\n",
      "Average loss: 0.35003 - Accuracy: 0.873\n",
      "\n",
      "----- Epoch: 11 -----\n",
      "\n",
      "Train loss: 0.34122\n",
      "Train loss: 0.26116\n",
      "Train loss: 0.28198\n",
      "Train loss: 0.17404\n",
      "Train loss: 0.40024\n",
      "Train loss: 0.33156\n",
      "Train loss: 0.3197\n",
      "Validation:\n",
      "\n",
      "Average loss: 0.36324 - Accuracy: 0.869\n",
      "\n",
      "----- Epoch: 12 -----\n",
      "\n",
      "Train loss: 0.31507\n",
      "Train loss: 0.2939\n",
      "Train loss: 0.527\n",
      "Train loss: 0.49089\n",
      "Train loss: 0.29493\n",
      "Train loss: 0.39149\n",
      "Train loss: 0.26023\n",
      "Validation:\n",
      "\n",
      "Average loss: 0.34914 - Accuracy: 0.873\n",
      "\n",
      "----- Epoch: 13 -----\n",
      "\n",
      "Train loss: 0.23672\n",
      "Train loss: 0.59113\n",
      "Train loss: 0.20566\n",
      "Train loss: 0.3276\n",
      "Train loss: 0.24932\n",
      "Train loss: 0.34008\n",
      "Train loss: 0.5186\n",
      "Validation:\n",
      "\n",
      "Average loss: 0.33834 - Accuracy: 0.878\n",
      "\n",
      "----- Epoch: 14 -----\n",
      "\n",
      "Train loss: 0.44144\n",
      "Train loss: 0.32915\n",
      "Train loss: 0.32898\n",
      "Train loss: 0.52876\n",
      "Train loss: 0.23848\n",
      "Train loss: 0.47077\n",
      "Train loss: 0.25026\n",
      "Validation:\n",
      "\n",
      "Average loss: 0.34504 - Accuracy: 0.868\n",
      "\n",
      "----- Epoch: 15 -----\n",
      "\n",
      "Train loss: 0.074151\n",
      "Train loss: 0.35008\n",
      "Train loss: 0.31019\n",
      "Train loss: 0.26952\n",
      "Train loss: 0.25351\n",
      "Train loss: 0.15822\n",
      "Train loss: 0.12385\n",
      "Validation:\n",
      "\n",
      "Average loss: 0.3363 - Accuracy: 0.878\n",
      "\n",
      "----- Epoch: 16 -----\n",
      "\n",
      "Train loss: 0.15715\n",
      "Train loss: 0.40975\n",
      "Train loss: 0.33136\n",
      "Train loss: 0.24438\n",
      "Train loss: 0.26765\n",
      "Train loss: 0.094521\n",
      "Train loss: 0.19202\n",
      "Validation:\n",
      "\n",
      "Average loss: 0.32644 - Accuracy: 0.879\n",
      "\n",
      "----- Epoch: 17 -----\n",
      "\n",
      "Train loss: 0.24729\n",
      "Train loss: 0.13366\n",
      "Train loss: 0.55091\n",
      "Train loss: 0.15587\n",
      "Train loss: 0.29587\n",
      "Train loss: 0.80541\n",
      "Train loss: 0.19653\n",
      "Validation:\n",
      "\n",
      "Average loss: 0.33028 - Accuracy: 0.878\n",
      "\n",
      "----- Epoch: 18 -----\n",
      "\n",
      "Train loss: 0.24042\n",
      "Train loss: 0.25368\n",
      "Train loss: 0.14729\n",
      "Train loss: 0.28522\n",
      "Train loss: 0.23599\n",
      "Train loss: 0.232\n",
      "Train loss: 0.079904\n",
      "Validation:\n",
      "\n",
      "Average loss: 0.31998 - Accuracy: 0.879\n",
      "\n",
      "----- Epoch: 19 -----\n",
      "\n",
      "Train loss: 0.31942\n",
      "Train loss: 0.15915\n",
      "Train loss: 0.13229\n",
      "Train loss: 0.43348\n",
      "Train loss: 0.29048\n",
      "Train loss: 0.32318\n",
      "Train loss: 0.14364\n",
      "Validation:\n",
      "\n",
      "Average loss: 0.33246 - Accuracy: 0.879\n",
      "\n",
      "----- Epoch: 20 -----\n",
      "\n",
      "Train loss: 0.22816\n",
      "Train loss: 0.254\n",
      "Train loss: 0.20144\n",
      "Train loss: 0.26267\n",
      "Train loss: 0.23758\n",
      "Train loss: 0.30405\n",
      "Train loss: 0.17193\n",
      "Validation:\n",
      "\n",
      "Average loss: 0.32255 - Accuracy: 0.884\n",
      "\n",
      "----- Epoch: 21 -----\n",
      "\n",
      "Train loss: 0.48069\n",
      "Train loss: 0.28882\n",
      "Train loss: 0.21534\n",
      "Train loss: 0.41156\n",
      "Train loss: 0.23807\n",
      "Train loss: 0.32192\n",
      "Train loss: 0.40074\n",
      "Validation:\n",
      "\n",
      "Average loss: 0.33132 - Accuracy: 0.882\n",
      "\n",
      "----- Epoch: 22 -----\n",
      "\n",
      "Train loss: 0.18732\n",
      "Train loss: 0.25047\n",
      "Train loss: 0.10922\n",
      "Train loss: 0.36437\n",
      "Train loss: 0.38701\n",
      "Train loss: 0.49191\n",
      "Train loss: 0.22256\n",
      "Validation:\n",
      "\n",
      "Average loss: 0.33125 - Accuracy: 0.885\n",
      "\n",
      "----- Epoch: 23 -----\n",
      "\n",
      "Train loss: 0.14453\n",
      "Train loss: 0.078922\n",
      "Train loss: 0.3022\n",
      "Train loss: 0.29497\n",
      "Train loss: 0.60459\n",
      "Train loss: 0.32232\n",
      "Train loss: 0.34441\n",
      "Validation:\n",
      "\n",
      "Average loss: 0.31403 - Accuracy: 0.886\n",
      "\n",
      "----- Epoch: 24 -----\n",
      "\n",
      "Train loss: 0.25234\n",
      "Train loss: 0.13552\n",
      "Train loss: 0.28284\n",
      "Train loss: 0.5576\n",
      "Train loss: 0.40316\n",
      "Train loss: 0.16364\n",
      "Train loss: 0.38552\n",
      "Validation:\n",
      "\n",
      "Average loss: 0.32869 - Accuracy: 0.879\n",
      "\n",
      "----- Epoch: 25 -----\n",
      "\n",
      "Train loss: 0.34637\n",
      "Train loss: 0.23208\n",
      "Train loss: 0.37245\n",
      "Train loss: 0.40651\n",
      "Train loss: 0.11615\n",
      "Train loss: 0.27055\n",
      "Train loss: 0.11838\n",
      "Validation:\n",
      "\n",
      "Average loss: 0.33182 - Accuracy: 0.882\n",
      "\n",
      "----- Epoch: 26 -----\n",
      "\n",
      "Train loss: 0.23223\n",
      "Train loss: 0.21325\n",
      "Train loss: 0.35671\n",
      "Train loss: 0.21425\n",
      "Train loss: 0.088785\n",
      "Train loss: 0.10147\n",
      "Train loss: 0.55444\n",
      "Validation:\n",
      "\n",
      "Average loss: 0.31769 - Accuracy: 0.885\n",
      "\n",
      "----- Epoch: 27 -----\n",
      "\n",
      "Train loss: 0.29859\n",
      "Train loss: 0.21891\n",
      "Train loss: 0.34427\n",
      "Train loss: 0.23988\n",
      "Train loss: 0.21444\n",
      "Train loss: 0.10038\n",
      "Train loss: 0.61906\n",
      "Validation:\n",
      "\n",
      "Average loss: 0.31877 - Accuracy: 0.886\n",
      "\n",
      "----- Epoch: 28 -----\n",
      "\n",
      "Train loss: 0.077503\n",
      "Train loss: 0.19539\n",
      "Train loss: 0.30494\n",
      "Train loss: 0.10375\n",
      "Train loss: 0.50426\n",
      "Train loss: 0.1793\n",
      "Train loss: 0.19484\n",
      "Validation:\n",
      "\n",
      "Average loss: 0.32725 - Accuracy: 0.876\n",
      "\n",
      "----- Epoch: 29 -----\n",
      "\n",
      "Train loss: 0.36737\n",
      "Train loss: 0.48091\n",
      "Train loss: 0.29096\n",
      "Train loss: 0.40817\n",
      "Train loss: 0.24323\n",
      "Train loss: 0.27825\n",
      "Train loss: 0.23089\n",
      "Validation:\n",
      "\n",
      "Average loss: 0.3158 - Accuracy: 0.884\n",
      "\n",
      "----- Epoch: 30 -----\n",
      "\n",
      "Train loss: 0.28235\n",
      "Train loss: 0.10454\n",
      "Train loss: 0.17486\n",
      "Train loss: 0.065819\n",
      "Train loss: 0.10901\n",
      "Train loss: 0.33508\n",
      "Train loss: 0.32242\n",
      "Validation:\n",
      "\n",
      "Average loss: 0.33045 - Accuracy: 0.879\n"
     ]
    }
   ],
   "source": [
    "test_loss, test_accuracy = [], []\n",
    "\n",
    "for epoch in range(epochs):\n",
    "    print(f'\\n----- Epoch: {epoch+1} -----\\n')\n",
    "    train(train_loader, classif_model, loss_fn, classif_optim)\n",
    "    loss, acc = validate(valid_loader, classif_model, loss_fn)\n",
    "    test_loss.append(loss)\n",
    "    test_accuracy.append(acc)"
   ]
  },
  {
   "cell_type": "markdown",
   "id": "2fbe0520",
   "metadata": {},
   "source": [
    "This is very similar to the performance shown in Geron's book."
   ]
  },
  {
   "cell_type": "code",
   "execution_count": 26,
   "id": "c8bcfcd7",
   "metadata": {},
   "outputs": [
    {
     "data": {
      "image/png": "[encoded data removed]",
      "text/plain": [
       "<Figure size 640x480 with 1 Axes>"
      ]
     },
     "metadata": {},
     "output_type": "display_data"
    }
   ],
   "source": [
    "plt.plot(np.arange(30), test_accuracy, 'r-', label='Validation accuracy')\n",
    "plt.plot(np.arange(30), test_loss, 'b-', label='Validation loss')\n",
    "plt.grid()\n",
    "plt.xlabel('Epoch')\n",
    "plt.legend()\n",
    "plt.show()"
   ]
  },
  {
   "cell_type": "markdown",
   "id": "5aa42855",
   "metadata": {},
   "source": [
    "### Performance on the test set"
   ]
  },
  {
   "cell_type": "code",
   "execution_count": 27,
   "id": "246cc0ca",
   "metadata": {},
   "outputs": [],
   "source": [
    "def get_test_performance(dataloader, model):\n",
    "    test_accuracy = 0\n",
    "    correct = 0\n",
    "    model.eval()\n",
    "    with torch.no_grad():\n",
    "        for x, y in dataloader:\n",
    "            x, y = x.to(device), y.to(device)\n",
    "            preds = model(x)\n",
    "            correct += (preds.argmax(1) == y).type(torch.float32).sum().item()\n",
    "    return correct / len(dataloader.dataset)"
   ]
  },
  {
   "cell_type": "code",
   "execution_count": 28,
   "id": "c13e9632",
   "metadata": {},
   "outputs": [
    {
     "data": {
      "text/plain": [
       "0.8774"
      ]
     },
     "execution_count": 28,
     "metadata": {},
     "output_type": "execute_result"
    }
   ],
   "source": [
    "get_test_performance(test_loader, classif_model)"
   ]
  },
  {
   "cell_type": "markdown",
   "id": "49df76ea",
   "metadata": {},
   "source": [
    "## Building a Regression MLP Using the Sequential API\n",
    "\n",
    "For this example we use the California Housing dataset. After creating a training, validation, and test set, we must normalize the data and organize them into dataloaders."
   ]
  },
  {
   "cell_type": "code",
   "execution_count": 29,
   "id": "3999407f",
   "metadata": {},
   "outputs": [],
   "source": [
    "housing = fetch_california_housing()\n",
    "x_train_full, x_test, y_train_full, y_test = train_test_split(\n",
    "    housing.data, housing.target, random_state=42)\n",
    "x_train, x_valid, y_train, y_valid = train_test_split(\n",
    "    x_train_full, y_train_full, random_state=42)"
   ]
  },
  {
   "cell_type": "code",
   "execution_count": 30,
   "id": "25dd2e80",
   "metadata": {},
   "outputs": [
    {
     "data": {
      "text/plain": [
       "((11610, 8), (3870, 8), (5160, 8))"
      ]
     },
     "execution_count": 30,
     "metadata": {},
     "output_type": "execute_result"
    }
   ],
   "source": [
    "x_train.shape, x_valid.shape, x_test.shape"
   ]
  },
  {
   "cell_type": "code",
   "execution_count": 31,
   "id": "cdde54a7",
   "metadata": {},
   "outputs": [
    {
     "data": {
      "text/plain": [
       "array([ 1.68120000e+00,  2.50000000e+01,  4.19220056e+00,  1.02228412e+00,\n",
       "        1.39200000e+03,  3.87743733e+00,  3.60600000e+01, -1.19010000e+02])"
      ]
     },
     "execution_count": 31,
     "metadata": {},
     "output_type": "execute_result"
    }
   ],
   "source": [
    "x_test[0]"
   ]
  },
  {
   "cell_type": "code",
   "execution_count": 32,
   "id": "04183e8d",
   "metadata": {},
   "outputs": [
    {
     "data": {
      "text/plain": [
       "((8,), (8,))"
      ]
     },
     "execution_count": 32,
     "metadata": {},
     "output_type": "execute_result"
    }
   ],
   "source": [
    "means, std_devs = x_train.mean(axis=0), x_train.std(axis=0)\n",
    "means.shape, std_devs.shape"
   ]
  },
  {
   "cell_type": "code",
   "execution_count": 33,
   "id": "b396fdad",
   "metadata": {},
   "outputs": [],
   "source": [
    "x_train = ((x_train - means) / std_devs).astype(np.float32)\n",
    "x_valid = ((x_valid - means) / std_devs).astype(np.float32)\n",
    "x_test = ((x_test - means) / std_devs).astype(np.float32)"
   ]
  },
  {
   "cell_type": "code",
   "execution_count": 34,
   "id": "411e407f",
   "metadata": {},
   "outputs": [
    {
     "data": {
      "text/plain": [
       "dtype('float32')"
      ]
     },
     "execution_count": 34,
     "metadata": {},
     "output_type": "execute_result"
    }
   ],
   "source": [
    "x_test.dtype"
   ]
  },
  {
   "cell_type": "code",
   "execution_count": 49,
   "id": "84bd8df5",
   "metadata": {},
   "outputs": [],
   "source": [
    "x_tensor_train = torch.FloatTensor(x_train)\n",
    "y_tensor_train = torch.FloatTensor(y_train).unsqueeze(-1)\n",
    "x_tensor_valid = torch.FloatTensor(x_valid)\n",
    "y_tensor_valid = torch.FloatTensor(y_valid).unsqueeze(-1)\n",
    "x_tensor_test = torch.FloatTensor(x_test)\n",
    "y_tensor_test = torch.FloatTensor(y_test).unsqueeze(-1)"
   ]
  },
  {
   "cell_type": "code",
   "execution_count": 35,
   "id": "2a75419e",
   "metadata": {},
   "outputs": [],
   "source": [
    "train_dset = TensorDataset(x_tensor_train, y_tensor_train)\n",
    "valid_dset = TensorDataset(x_tensor_valid, y_tensor_valid)\n",
    "test_dset = TensorDataset(x_tensor_test, y_tensor_test)"
   ]
  },
  {
   "cell_type": "code",
   "execution_count": 36,
   "id": "e522ffc0",
   "metadata": {},
   "outputs": [],
   "source": [
    "train_loader = DataLoader(train_dset, batch_size=batch_size, shuffle=True)\n",
    "valid_loader = DataLoader(valid_dset, batch_size=batch_size, shuffle=False)\n",
    "test_loader = DataLoader(test_dset, batch_size=batch_size, shuffle=False)"
   ]
  },
  {
   "cell_type": "code",
   "execution_count": 37,
   "id": "3852c8cd",
   "metadata": {},
   "outputs": [],
   "source": [
    "class RegressionModel(nn.Module):\n",
    "    def __init__(self):\n",
    "        super().__init__()\n",
    "        self.sequential_model = nn.Sequential(\n",
    "            nn.Linear(in_features=8, out_features=50),\n",
    "            nn.ReLU(),\n",
    "            nn.Linear(in_features=50, out_features=50),\n",
    "            nn.ReLU(),\n",
    "            nn.Linear(in_features=50, out_features=50),\n",
    "            nn.ReLU(),\n",
    "            nn.Linear(in_features=50, out_features=1))\n",
    "    \n",
    "    def forward(self, x):\n",
    "        return self.sequential_model(x)"
   ]
  },
  {
   "cell_type": "markdown",
   "id": "78749533",
   "metadata": {},
   "source": [
    "### Weight initialization"
   ]
  },
  {
   "cell_type": "code",
   "execution_count": 38,
   "id": "52aa1245",
   "metadata": {},
   "outputs": [
    {
     "data": {
      "text/plain": [
       "RegressionModel(\n",
       "  (sequential_model): Sequential(\n",
       "    (0): Linear(in_features=8, out_features=50, bias=True)\n",
       "    (1): ReLU()\n",
       "    (2): Linear(in_features=50, out_features=50, bias=True)\n",
       "    (3): ReLU()\n",
       "    (4): Linear(in_features=50, out_features=50, bias=True)\n",
       "    (5): ReLU()\n",
       "    (6): Linear(in_features=50, out_features=1, bias=True)\n",
       "  )\n",
       ")"
      ]
     },
     "execution_count": 38,
     "metadata": {},
     "output_type": "execute_result"
    }
   ],
   "source": [
    "regression_model = RegressionModel()\n",
    "regression_model.apply(init_weights)"
   ]
  },
  {
   "cell_type": "code",
   "execution_count": 39,
   "id": "7727e4d1",
   "metadata": {},
   "outputs": [],
   "source": [
    "regression_model = regression_model.to(device)"
   ]
  },
  {
   "cell_type": "code",
   "execution_count": 40,
   "id": "6d8c444c",
   "metadata": {},
   "outputs": [],
   "source": [
    "def train_regression(dataloader, model, loss_fn, optimizer):\n",
    "    num_obs = len(dataloader.dataset)\n",
    "    num_batches = len(dataloader)\n",
    "    model.train()\n",
    "    for batch, (x, y) in enumerate(dataloader):\n",
    "        x, y = x.to(device), y.to(device)\n",
    "        preds = model(x)\n",
    "        batch_loss = loss_fn(preds, y)\n",
    "        batch_loss.backward()\n",
    "        optimizer.step()\n",
    "        optimizer.zero_grad()\n",
    "        if batch % 100 == 0:\n",
    "            print(f'Train Loss: {batch_loss.item():>.5}. Batch: [{batch}/{num_batches}]')"
   ]
  },
  {
   "cell_type": "code",
   "execution_count": 41,
   "id": "96cbfc16",
   "metadata": {},
   "outputs": [],
   "source": [
    "def eval_regression(dataloader, model, loss_fn):\n",
    "    total_loss = 0\n",
    "    num_obs = len(dataloader.dataset)\n",
    "    num_batches = len(dataloader)\n",
    "    model.eval()\n",
    "    with torch.no_grad():\n",
    "        for x, y in dataloader:\n",
    "            x, y = x.to(device), y.to(device)\n",
    "            preds = model(x)\n",
    "            total_loss += loss_fn(preds, y).item()\n",
    "        print(f'Validation Loss: {total_loss/num_batches:>.5}')"
   ]
  },
  {
   "cell_type": "code",
   "execution_count": 42,
   "id": "bd0006c8",
   "metadata": {},
   "outputs": [],
   "source": [
    "loss_fn = nn.MSELoss()\n",
    "regression_optim = optim.Adam(regression_model.parameters(), lr=1e-3, eps=1e-7)"
   ]
  },
  {
   "cell_type": "code",
   "execution_count": 43,
   "id": "d3a1855e",
   "metadata": {},
   "outputs": [
    {
     "name": "stdout",
     "output_type": "stream",
     "text": [
      "\n",
      " ----- Epoch 1 -----\n",
      "\n",
      "Train Loss: 5.6102. Batch: [0/363]\n",
      "Train Loss: 0.52433. Batch: [100/363]\n",
      "Train Loss: 0.66967. Batch: [200/363]\n",
      "Train Loss: 0.33699. Batch: [300/363]\n",
      "Validation Loss: 0.72447\n",
      "\n",
      " ----- Epoch 2 -----\n",
      "\n",
      "Train Loss: 0.5272. Batch: [0/363]\n",
      "Train Loss: 0.22577. Batch: [100/363]\n",
      "Train Loss: 0.23623. Batch: [200/363]\n",
      "Train Loss: 0.3455. Batch: [300/363]\n",
      "Validation Loss: 3.0015\n",
      "\n",
      " ----- Epoch 3 -----\n",
      "\n",
      "Train Loss: 0.50808. Batch: [0/363]\n",
      "Train Loss: 0.91866. Batch: [100/363]\n",
      "Train Loss: 0.68902. Batch: [200/363]\n",
      "Train Loss: 0.16467. Batch: [300/363]\n",
      "Validation Loss: 1.1817\n",
      "\n",
      " ----- Epoch 4 -----\n",
      "\n",
      "Train Loss: 0.29163. Batch: [0/363]\n",
      "Train Loss: 0.23263. Batch: [100/363]\n",
      "Train Loss: 0.3162. Batch: [200/363]\n",
      "Train Loss: 0.42507. Batch: [300/363]\n",
      "Validation Loss: 1.0185\n",
      "\n",
      " ----- Epoch 5 -----\n",
      "\n",
      "Train Loss: 0.16569. Batch: [0/363]\n",
      "Train Loss: 0.12829. Batch: [100/363]\n",
      "Train Loss: 0.53072. Batch: [200/363]\n",
      "Train Loss: 0.28417. Batch: [300/363]\n",
      "Validation Loss: 0.91683\n",
      "\n",
      " ----- Epoch 6 -----\n",
      "\n",
      "Train Loss: 0.57888. Batch: [0/363]\n",
      "Train Loss: 0.42448. Batch: [100/363]\n",
      "Train Loss: 0.37579. Batch: [200/363]\n",
      "Train Loss: 0.42015. Batch: [300/363]\n",
      "Validation Loss: 0.81377\n",
      "\n",
      " ----- Epoch 7 -----\n",
      "\n",
      "Train Loss: 0.21832. Batch: [0/363]\n",
      "Train Loss: 0.20163. Batch: [100/363]\n",
      "Train Loss: 0.30927. Batch: [200/363]\n",
      "Train Loss: 0.35572. Batch: [300/363]\n",
      "Validation Loss: 0.59703\n",
      "\n",
      " ----- Epoch 8 -----\n",
      "\n",
      "Train Loss: 0.2511. Batch: [0/363]\n",
      "Train Loss: 0.46713. Batch: [100/363]\n",
      "Train Loss: 0.13724. Batch: [200/363]\n",
      "Train Loss: 0.16326. Batch: [300/363]\n",
      "Validation Loss: 1.3477\n",
      "\n",
      " ----- Epoch 9 -----\n",
      "\n",
      "Train Loss: 0.24742. Batch: [0/363]\n",
      "Train Loss: 0.45321. Batch: [100/363]\n",
      "Train Loss: 0.26279. Batch: [200/363]\n",
      "Train Loss: 0.36759. Batch: [300/363]\n",
      "Validation Loss: 0.46956\n",
      "\n",
      " ----- Epoch 10 -----\n",
      "\n",
      "Train Loss: 0.26472. Batch: [0/363]\n",
      "Train Loss: 0.29823. Batch: [100/363]\n",
      "Train Loss: 0.37572. Batch: [200/363]\n",
      "Train Loss: 0.37124. Batch: [300/363]\n",
      "Validation Loss: 0.53035\n",
      "\n",
      " ----- Epoch 11 -----\n",
      "\n",
      "Train Loss: 0.49565. Batch: [0/363]\n",
      "Train Loss: 0.17724. Batch: [100/363]\n",
      "Train Loss: 0.471. Batch: [200/363]\n",
      "Train Loss: 0.39861. Batch: [300/363]\n",
      "Validation Loss: 0.30215\n",
      "\n",
      " ----- Epoch 12 -----\n",
      "\n",
      "Train Loss: 0.22916. Batch: [0/363]\n",
      "Train Loss: 0.30264. Batch: [100/363]\n",
      "Train Loss: 0.22558. Batch: [200/363]\n",
      "Train Loss: 0.58944. Batch: [300/363]\n",
      "Validation Loss: 0.75346\n",
      "\n",
      " ----- Epoch 13 -----\n",
      "\n",
      "Train Loss: 0.39617. Batch: [0/363]\n",
      "Train Loss: 0.18391. Batch: [100/363]\n",
      "Train Loss: 0.19027. Batch: [200/363]\n",
      "Train Loss: 0.15518. Batch: [300/363]\n",
      "Validation Loss: 0.36918\n",
      "\n",
      " ----- Epoch 14 -----\n",
      "\n",
      "Train Loss: 0.095983. Batch: [0/363]\n",
      "Train Loss: 0.30341. Batch: [100/363]\n",
      "Train Loss: 0.30225. Batch: [200/363]\n",
      "Train Loss: 0.49996. Batch: [300/363]\n",
      "Validation Loss: 0.65933\n",
      "\n",
      " ----- Epoch 15 -----\n",
      "\n",
      "Train Loss: 0.30257. Batch: [0/363]\n",
      "Train Loss: 0.2223. Batch: [100/363]\n",
      "Train Loss: 0.3018. Batch: [200/363]\n",
      "Train Loss: 0.27683. Batch: [300/363]\n",
      "Validation Loss: 0.31489\n",
      "\n",
      " ----- Epoch 16 -----\n",
      "\n",
      "Train Loss: 0.41517. Batch: [0/363]\n",
      "Train Loss: 0.34994. Batch: [100/363]\n",
      "Train Loss: 0.12178. Batch: [200/363]\n",
      "Train Loss: 0.26904. Batch: [300/363]\n",
      "Validation Loss: 0.28371\n",
      "\n",
      " ----- Epoch 17 -----\n",
      "\n",
      "Train Loss: 0.24527. Batch: [0/363]\n",
      "Train Loss: 0.24451. Batch: [100/363]\n",
      "Train Loss: 0.26126. Batch: [200/363]\n",
      "Train Loss: 0.31001. Batch: [300/363]\n",
      "Validation Loss: 0.36261\n",
      "\n",
      " ----- Epoch 18 -----\n",
      "\n",
      "Train Loss: 0.29418. Batch: [0/363]\n",
      "Train Loss: 0.28861. Batch: [100/363]\n",
      "Train Loss: 0.27387. Batch: [200/363]\n",
      "Train Loss: 0.2367. Batch: [300/363]\n",
      "Validation Loss: 0.32617\n",
      "\n",
      " ----- Epoch 19 -----\n",
      "\n",
      "Train Loss: 0.17428. Batch: [0/363]\n",
      "Train Loss: 0.22547. Batch: [100/363]\n",
      "Train Loss: 0.19352. Batch: [200/363]\n",
      "Train Loss: 0.13024. Batch: [300/363]\n",
      "Validation Loss: 0.27432\n",
      "\n",
      " ----- Epoch 20 -----\n",
      "\n",
      "Train Loss: 0.40023. Batch: [0/363]\n",
      "Train Loss: 0.43165. Batch: [100/363]\n",
      "Train Loss: 0.27234. Batch: [200/363]\n",
      "Train Loss: 0.4032. Batch: [300/363]\n",
      "Validation Loss: 0.4225\n"
     ]
    }
   ],
   "source": [
    "for epoch in range(20):\n",
    "    print(f'\\n ----- Epoch {epoch+1} -----\\n')\n",
    "    train_regression(train_loader, regression_model, loss_fn, regression_optim)\n",
    "    eval_regression(valid_loader, regression_model, loss_fn)"
   ]
  },
  {
   "cell_type": "markdown",
   "id": "4c488a27",
   "metadata": {},
   "source": [
    "## Building Complex Models Using the Functional API"
   ]
  },
  {
   "cell_type": "code",
   "execution_count": 44,
   "id": "d41f6f24",
   "metadata": {},
   "outputs": [],
   "source": [
    "class WideAndDeep(nn.Module):\n",
    "    def __init__(self):\n",
    "        super().__init__()\n",
    "        self.hidden_layer1 = nn.Linear(in_features=8, out_features=30)\n",
    "        self.relu = nn.ReLU()\n",
    "        self.hidden_layer2 = nn.Linear(in_features=30, out_features=30)\n",
    "        self.output_layer = nn.Linear(in_features=38, out_features=1)\n",
    "    \n",
    "    def forward(self, x):\n",
    "        z = self.relu(self.hidden_layer1(x))\n",
    "        z = self.relu(self.hidden_layer2(z))\n",
    "        w = torch.cat((x, z), dim=-1)\n",
    "        return self.output_layer(w)"
   ]
  },
  {
   "cell_type": "code",
   "execution_count": 45,
   "id": "5d3a2f13",
   "metadata": {},
   "outputs": [],
   "source": [
    "widedeep = WideAndDeep()\n",
    "widedeep.apply(init_weights)\n",
    "widedeep = widedeep.to(device)"
   ]
  },
  {
   "cell_type": "markdown",
   "id": "a90428cb",
   "metadata": {},
   "source": [
    "Note that we need to create another optimizer, as the existing one has been trained on a different architecture."
   ]
  },
  {
   "cell_type": "code",
   "execution_count": 46,
   "id": "8cf1cf31",
   "metadata": {},
   "outputs": [],
   "source": [
    "wnd_optim = optim.Adam(widedeep.parameters(), lr=1e-3, eps=1e-7)"
   ]
  },
  {
   "cell_type": "code",
   "execution_count": 47,
   "id": "445a9987",
   "metadata": {},
   "outputs": [
    {
     "name": "stdout",
     "output_type": "stream",
     "text": [
      "Train Loss: 4.9973. Batch: [0/363]\n",
      "Train Loss: 0.79704. Batch: [100/363]\n",
      "Train Loss: 0.84926. Batch: [200/363]\n",
      "Train Loss: 0.51205. Batch: [300/363]\n",
      "Validation Loss: 0.89775\n",
      "Train Loss: 0.35408. Batch: [0/363]\n",
      "Train Loss: 0.21947. Batch: [100/363]\n",
      "Train Loss: 0.5549. Batch: [200/363]\n",
      "Train Loss: 0.44046. Batch: [300/363]\n",
      "Validation Loss: 0.42174\n",
      "Train Loss: 0.39329. Batch: [0/363]\n",
      "Train Loss: 0.26698. Batch: [100/363]\n",
      "Train Loss: 0.30138. Batch: [200/363]\n",
      "Train Loss: 0.58435. Batch: [300/363]\n",
      "Validation Loss: 0.4753\n",
      "Train Loss: 0.31146. Batch: [0/363]\n",
      "Train Loss: 0.59773. Batch: [100/363]\n",
      "Train Loss: 0.567. Batch: [200/363]\n",
      "Train Loss: 0.23096. Batch: [300/363]\n",
      "Validation Loss: 0.41072\n",
      "Train Loss: 0.77299. Batch: [0/363]\n",
      "Train Loss: 0.21619. Batch: [100/363]\n",
      "Train Loss: 0.49299. Batch: [200/363]\n",
      "Train Loss: 0.74151. Batch: [300/363]\n",
      "Validation Loss: 1.6573\n",
      "Train Loss: 0.39667. Batch: [0/363]\n",
      "Train Loss: 0.28282. Batch: [100/363]\n",
      "Train Loss: 0.44575. Batch: [200/363]\n",
      "Train Loss: 0.17881. Batch: [300/363]\n",
      "Validation Loss: 0.71231\n",
      "Train Loss: 0.67535. Batch: [0/363]\n",
      "Train Loss: 0.36444. Batch: [100/363]\n",
      "Train Loss: 0.10429. Batch: [200/363]\n",
      "Train Loss: 0.53311. Batch: [300/363]\n",
      "Validation Loss: 0.7562\n",
      "Train Loss: 0.15473. Batch: [0/363]\n",
      "Train Loss: 0.32273. Batch: [100/363]\n",
      "Train Loss: 0.24915. Batch: [200/363]\n",
      "Train Loss: 0.2213. Batch: [300/363]\n",
      "Validation Loss: 0.32609\n",
      "Train Loss: 0.39397. Batch: [0/363]\n",
      "Train Loss: 0.33174. Batch: [100/363]\n",
      "Train Loss: 0.51599. Batch: [200/363]\n",
      "Train Loss: 0.27612. Batch: [300/363]\n",
      "Validation Loss: 0.38544\n",
      "Train Loss: 0.25293. Batch: [0/363]\n",
      "Train Loss: 0.28669. Batch: [100/363]\n",
      "Train Loss: 0.28131. Batch: [200/363]\n",
      "Train Loss: 0.1963. Batch: [300/363]\n",
      "Validation Loss: 0.30593\n",
      "Train Loss: 0.41784. Batch: [0/363]\n",
      "Train Loss: 0.37577. Batch: [100/363]\n",
      "Train Loss: 0.34038. Batch: [200/363]\n",
      "Train Loss: 0.22354. Batch: [300/363]\n",
      "Validation Loss: 0.33383\n",
      "Train Loss: 0.30389. Batch: [0/363]\n",
      "Train Loss: 0.37427. Batch: [100/363]\n",
      "Train Loss: 0.42312. Batch: [200/363]\n",
      "Train Loss: 0.2087. Batch: [300/363]\n",
      "Validation Loss: 0.57638\n",
      "Train Loss: 0.21738. Batch: [0/363]\n",
      "Train Loss: 0.24816. Batch: [100/363]\n",
      "Train Loss: 0.30075. Batch: [200/363]\n",
      "Train Loss: 0.38909. Batch: [300/363]\n",
      "Validation Loss: 0.66743\n",
      "Train Loss: 0.32409. Batch: [0/363]\n",
      "Train Loss: 0.20578. Batch: [100/363]\n",
      "Train Loss: 0.49436. Batch: [200/363]\n",
      "Train Loss: 0.39032. Batch: [300/363]\n",
      "Validation Loss: 1.5179\n",
      "Train Loss: 0.54557. Batch: [0/363]\n",
      "Train Loss: 0.39268. Batch: [100/363]\n",
      "Train Loss: 0.22877. Batch: [200/363]\n",
      "Train Loss: 0.20232. Batch: [300/363]\n",
      "Validation Loss: 0.58434\n",
      "Train Loss: 0.19381. Batch: [0/363]\n",
      "Train Loss: 0.21972. Batch: [100/363]\n",
      "Train Loss: 0.15141. Batch: [200/363]\n",
      "Train Loss: 0.37172. Batch: [300/363]\n",
      "Validation Loss: 1.1938\n",
      "Train Loss: 0.21848. Batch: [0/363]\n",
      "Train Loss: 0.31644. Batch: [100/363]\n",
      "Train Loss: 0.078398. Batch: [200/363]\n",
      "Train Loss: 0.31938. Batch: [300/363]\n",
      "Validation Loss: 1.2863\n",
      "Train Loss: 0.18768. Batch: [0/363]\n",
      "Train Loss: 0.36055. Batch: [100/363]\n",
      "Train Loss: 0.4308. Batch: [200/363]\n",
      "Train Loss: 0.11241. Batch: [300/363]\n",
      "Validation Loss: 0.97347\n",
      "Train Loss: 0.18495. Batch: [0/363]\n",
      "Train Loss: 0.22344. Batch: [100/363]\n",
      "Train Loss: 0.30671. Batch: [200/363]\n",
      "Train Loss: 0.38752. Batch: [300/363]\n",
      "Validation Loss: 0.34851\n",
      "Train Loss: 0.21538. Batch: [0/363]\n",
      "Train Loss: 0.26718. Batch: [100/363]\n",
      "Train Loss: 0.28972. Batch: [200/363]\n",
      "Train Loss: 0.099954. Batch: [300/363]\n",
      "Validation Loss: 0.48447\n"
     ]
    }
   ],
   "source": [
    "for epoch in range(20):\n",
    "    train_regression(train_loader, widedeep, loss_fn, wnd_optim)\n",
    "    eval_regression(valid_loader, widedeep, loss_fn)"
   ]
  },
  {
   "attachments": {},
   "cell_type": "markdown",
   "id": "c82bcd13",
   "metadata": {},
   "source": [
    "### Sending inputs through two different paths\n",
    "\n",
    "The next example HOML3 sends features 0 to 4 to the wide path and features 2 to 7 through the deep path as shown below ![wide_deep](img/mls3_1015.png). To make this work we need to:\n",
    "\n",
    "1. Modify the Dataset so that it returns two inputs and one target.\n",
    "2. Modify the model so that it has two inputs.\n",
    "\n",
    "In this case, since there is only one output, the loss is unchanged. The source code for TensorDataset can be found [here](https://github.com/pytorch/pytorch/blob/03de15806e5d27ee4ef6d82dbcc66dac78f6e3bf/torch/utils/data/dataset.py#L193).\n",
    "\n",
    "We just need to redefine `__getitem__()` and we don't need to touch `__init__()`. Our modified implementation returns a tuple containing a tuple of inputs and the output tensor."
   ]
  },
  {
   "cell_type": "code",
   "execution_count": 107,
   "id": "be5e8755",
   "metadata": {},
   "outputs": [],
   "source": [
    "class WideAndDeepDataset(TensorDataset):\n",
    "    def __getitem__(self, index):\n",
    "        tensor_x, tensor_y = self.tensors\n",
    "        x_wide, x_deep = tensor_x[:, :5], tensor_x[:, 2:]\n",
    "        return (x_wide[index], x_deep[index], tensor_y[index])"
   ]
  },
  {
   "cell_type": "code",
   "execution_count": 108,
   "id": "8d331455",
   "metadata": {},
   "outputs": [],
   "source": [
    "wnd_train_dset = WideAndDeepDataset(x_tensor_train, y_tensor_train)\n",
    "wnd_valid_dset = WideAndDeepDataset(x_tensor_valid, y_tensor_valid)\n",
    "wnd_test_dset = WideAndDeepDataset(x_tensor_test, y_tensor_test)"
   ]
  },
  {
   "cell_type": "code",
   "execution_count": 109,
   "id": "7c4a0c31",
   "metadata": {},
   "outputs": [],
   "source": [
    "wnd_train_loader = DataLoader(wnd_train_dset, batch_size, shuffle=True)\n",
    "wnd_valid_loader = DataLoader(wnd_valid_dset, batch_size, shuffle=False)\n",
    "wnd_test_loader = DataLoader(wnd_test_dset, batch_size, shuffle=False)"
   ]
  },
  {
   "cell_type": "code",
   "execution_count": 110,
   "id": "8195b99e",
   "metadata": {},
   "outputs": [],
   "source": [
    "class WideAndDeepTwoInputs(nn.Module):\n",
    "    # x_wide contains 5 features. x_deep contains 6\n",
    "    def __init__(self):\n",
    "        super().__init__()\n",
    "        self.hidden_layer1 = nn.Linear(in_features=6, out_features=30)\n",
    "        self.relu = nn.ReLU()\n",
    "        self.hidden_layer2 = nn.Linear(in_features=30, out_features=30)\n",
    "        self.output_layer = nn.Linear(in_features=35, out_features=1)\n",
    "    \n",
    "    def forward(self, x_wide, x_deep):\n",
    "        x_deep = self.relu(self.hidden_layer1(x_deep))\n",
    "        x_deep = self.relu(self.hidden_layer2(x_deep))\n",
    "        w = torch.cat((x_wide, x_deep), dim=-1)\n",
    "        return self.output_layer(w)"
   ]
  },
  {
   "cell_type": "code",
   "execution_count": 111,
   "id": "fee589f9",
   "metadata": {},
   "outputs": [],
   "source": [
    "model_two_inputs = WideAndDeepTwoInputs()\n",
    "model_two_inputs.apply(init_weights)\n",
    "model_two_inputs = model_two_inputs.to(device)"
   ]
  },
  {
   "cell_type": "code",
   "execution_count": 112,
   "id": "178fabaa",
   "metadata": {},
   "outputs": [],
   "source": [
    "def train_two_inputs(dataloader, model, loss_fn, optimizer):\n",
    "    num_obs = len(dataloader.dataset)\n",
    "    num_batches = len(dataloader)\n",
    "    model.train()\n",
    "    for batch, (x_wide, x_deep, y) in enumerate(dataloader):\n",
    "        x_wide, x_deep, y = x_wide.to(device), x_deep.to(device), y.to(device)\n",
    "        preds = model(x_wide, x_deep)\n",
    "        batch_loss = loss_fn(preds, y)\n",
    "        batch_loss.backward()\n",
    "        optimizer.step()\n",
    "        optimizer.zero_grad()\n",
    "        if batch % 100 == 0:\n",
    "            print(f'Train Loss: {batch_loss.item():>.5}. Batch: [{batch}/{num_batches}]')"
   ]
  },
  {
   "cell_type": "code",
   "execution_count": 113,
   "id": "c2a1801d",
   "metadata": {},
   "outputs": [],
   "source": [
    "def eval_two_inputs(dataloader, model, loss_fn):\n",
    "    total_loss = 0\n",
    "    num_obs = len(dataloader.dataset)\n",
    "    num_batches = len(dataloader)\n",
    "    model.eval()\n",
    "    with torch.no_grad():\n",
    "        for x_wide, x_deep, y in dataloader:\n",
    "            x_wide, x_deep, y = x_wide.to(device), x_deep.to(device), y.to(device)\n",
    "            preds = model(x_wide, x_deep)\n",
    "            total_loss += loss_fn(preds, y).item()\n",
    "        print(f'Validation Loss: {total_loss/num_batches:>.5}')"
   ]
  },
  {
   "cell_type": "code",
   "execution_count": 114,
   "id": "77386859",
   "metadata": {},
   "outputs": [],
   "source": [
    "wnd_optim_two_inputs = optim.Adam(widedeep.parameters(), lr=1e-3, eps=1e-7)"
   ]
  },
  {
   "cell_type": "code",
   "execution_count": 106,
   "id": "6a0fbf8e",
   "metadata": {},
   "outputs": [
    {
     "name": "stdout",
     "output_type": "stream",
     "text": [
      "\n",
      "----- Epoch: 1 -----\n",
      "\n",
      "Train Loss: 6.5514. Batch: [0/363]\n",
      "Train Loss: 6.4527. Batch: [100/363]\n",
      "Train Loss: 5.63. Batch: [200/363]\n",
      "Train Loss: 12.161. Batch: [300/363]\n",
      "Validation Loss: 9.1545\n",
      "\n",
      "----- Epoch: 2 -----\n",
      "\n",
      "Train Loss: 5.8491. Batch: [0/363]\n",
      "Train Loss: 7.0123. Batch: [100/363]\n",
      "Train Loss: 11.389. Batch: [200/363]\n",
      "Train Loss: 9.6632. Batch: [300/363]\n",
      "Validation Loss: 9.1545\n",
      "\n",
      "----- Epoch: 3 -----\n",
      "\n",
      "Train Loss: 5.8329. Batch: [0/363]\n",
      "Train Loss: 6.0983. Batch: [100/363]\n",
      "Train Loss: 11.146. Batch: [200/363]\n",
      "Train Loss: 6.7976. Batch: [300/363]\n",
      "Validation Loss: 9.1545\n",
      "\n",
      "----- Epoch: 4 -----\n",
      "\n",
      "Train Loss: 10.301. Batch: [0/363]\n",
      "Train Loss: 5.6044. Batch: [100/363]\n",
      "Train Loss: 5.8515. Batch: [200/363]\n",
      "Train Loss: 5.2471. Batch: [300/363]\n",
      "Validation Loss: 9.1545\n",
      "\n",
      "----- Epoch: 5 -----\n",
      "\n",
      "Train Loss: 6.0951. Batch: [0/363]\n",
      "Train Loss: 6.3694. Batch: [100/363]\n",
      "Train Loss: 4.5136. Batch: [200/363]\n",
      "Train Loss: 11.166. Batch: [300/363]\n",
      "Validation Loss: 9.1545\n",
      "\n",
      "----- Epoch: 6 -----\n",
      "\n",
      "Train Loss: 6.26. Batch: [0/363]\n",
      "Train Loss: 6.9757. Batch: [100/363]\n",
      "Train Loss: 8.0356. Batch: [200/363]\n",
      "Train Loss: 6.2546. Batch: [300/363]\n",
      "Validation Loss: 9.1545\n",
      "\n",
      "----- Epoch: 7 -----\n",
      "\n",
      "Train Loss: 6.3794. Batch: [0/363]\n",
      "Train Loss: 7.8617. Batch: [100/363]\n",
      "Train Loss: 11.371. Batch: [200/363]\n",
      "Train Loss: 6.2485. Batch: [300/363]\n",
      "Validation Loss: 9.1545\n",
      "\n",
      "----- Epoch: 8 -----\n",
      "\n",
      "Train Loss: 5.813. Batch: [0/363]\n",
      "Train Loss: 4.8842. Batch: [100/363]\n",
      "Train Loss: 7.7176. Batch: [200/363]\n",
      "Train Loss: 9.7811. Batch: [300/363]\n",
      "Validation Loss: 9.1545\n",
      "\n",
      "----- Epoch: 9 -----\n",
      "\n",
      "Train Loss: 4.6818. Batch: [0/363]\n",
      "Train Loss: 8.0217. Batch: [100/363]\n",
      "Train Loss: 8.104. Batch: [200/363]\n",
      "Train Loss: 6.085. Batch: [300/363]\n",
      "Validation Loss: 9.1545\n",
      "\n",
      "----- Epoch: 10 -----\n",
      "\n",
      "Train Loss: 6.708. Batch: [0/363]\n",
      "Train Loss: 4.8382. Batch: [100/363]\n",
      "Train Loss: 6.1185. Batch: [200/363]\n",
      "Train Loss: 6.3232. Batch: [300/363]\n",
      "Validation Loss: 9.1545\n",
      "\n",
      "----- Epoch: 11 -----\n",
      "\n",
      "Train Loss: 8.0686. Batch: [0/363]\n",
      "Train Loss: 8.793. Batch: [100/363]\n",
      "Train Loss: 8.0393. Batch: [200/363]\n",
      "Train Loss: 6.2442. Batch: [300/363]\n",
      "Validation Loss: 9.1545\n",
      "\n",
      "----- Epoch: 12 -----\n",
      "\n",
      "Train Loss: 6.2909. Batch: [0/363]\n",
      "Train Loss: 6.5443. Batch: [100/363]\n",
      "Train Loss: 7.5134. Batch: [200/363]\n",
      "Train Loss: 8.616. Batch: [300/363]\n",
      "Validation Loss: 9.1545\n",
      "\n",
      "----- Epoch: 13 -----\n",
      "\n",
      "Train Loss: 8.186. Batch: [0/363]\n",
      "Train Loss: 5.8353. Batch: [100/363]\n",
      "Train Loss: 6.0079. Batch: [200/363]\n",
      "Train Loss: 5.9271. Batch: [300/363]\n",
      "Validation Loss: 9.1545\n",
      "\n",
      "----- Epoch: 14 -----\n",
      "\n",
      "Train Loss: 4.7315. Batch: [0/363]\n",
      "Train Loss: 7.1918. Batch: [100/363]\n",
      "Train Loss: 7.4603. Batch: [200/363]\n",
      "Train Loss: 5.3764. Batch: [300/363]\n",
      "Validation Loss: 9.1545\n",
      "\n",
      "----- Epoch: 15 -----\n",
      "\n",
      "Train Loss: 7.2412. Batch: [0/363]\n",
      "Train Loss: 5.5849. Batch: [100/363]\n",
      "Train Loss: 9.1383. Batch: [200/363]\n",
      "Train Loss: 9.4154. Batch: [300/363]\n",
      "Validation Loss: 9.1545\n",
      "\n",
      "----- Epoch: 16 -----\n",
      "\n",
      "Train Loss: 6.231. Batch: [0/363]\n",
      "Train Loss: 5.5102. Batch: [100/363]\n",
      "Train Loss: 6.8662. Batch: [200/363]\n",
      "Train Loss: 7.5541. Batch: [300/363]\n",
      "Validation Loss: 9.1545\n",
      "\n",
      "----- Epoch: 17 -----\n",
      "\n",
      "Train Loss: 10.909. Batch: [0/363]\n",
      "Train Loss: 13.614. Batch: [100/363]\n",
      "Train Loss: 7.4668. Batch: [200/363]\n",
      "Train Loss: 6.5508. Batch: [300/363]\n",
      "Validation Loss: 9.1545\n",
      "\n",
      "----- Epoch: 18 -----\n",
      "\n",
      "Train Loss: 7.5181. Batch: [0/363]\n",
      "Train Loss: 6.9905. Batch: [100/363]\n",
      "Train Loss: 7.2042. Batch: [200/363]\n",
      "Train Loss: 5.2839. Batch: [300/363]\n",
      "Validation Loss: 9.1545\n",
      "\n",
      "----- Epoch: 19 -----\n",
      "\n",
      "Train Loss: 5.8936. Batch: [0/363]\n",
      "Train Loss: 4.7826. Batch: [100/363]\n",
      "Train Loss: 7.8579. Batch: [200/363]\n",
      "Train Loss: 7.7851. Batch: [300/363]\n",
      "Validation Loss: 9.1545\n",
      "\n",
      "----- Epoch: 20 -----\n",
      "\n",
      "Train Loss: 6.9109. Batch: [0/363]\n",
      "Train Loss: 8.511. Batch: [100/363]\n",
      "Train Loss: 6.9032. Batch: [200/363]\n",
      "Train Loss: 6.8721. Batch: [300/363]\n",
      "Validation Loss: 9.1545\n"
     ]
    }
   ],
   "source": [
    "for epoch in range(20):\n",
    "    print(f\"\\n----- Epoch: {epoch+1} -----\\n\")\n",
    "    train_two_inputs(wnd_train_loader, model_two_inputs, loss_fn, wnd_optim_two_inputs)\n",
    "    eval_two_inputs(wnd_valid_loader, model_two_inputs, loss_fn)"
   ]
  },
  {
   "cell_type": "code",
   "execution_count": null,
   "id": "45cb192a",
   "metadata": {},
   "outputs": [],
   "source": []
  }
 ],
 "metadata": {
  "kernelspec": {
   "display_name": "Python 3 (ipykernel)",
   "language": "python",
   "name": "python3"
  },
  "language_info": {
   "codemirror_mode": {
    "name": "ipython",
    "version": 3
   },
   "file_extension": ".py",
   "mimetype": "text/x-python",
   "name": "python",
   "nbconvert_exporter": "python",
   "pygments_lexer": "ipython3",
   "version": "3.11.3"
  }
 },
 "nbformat": 4,
 "nbformat_minor": 5
}
